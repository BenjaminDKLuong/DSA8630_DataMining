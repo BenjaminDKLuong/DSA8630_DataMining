{
 "cells": [
  {
   "cell_type": "markdown",
   "metadata": {},
   "source": [
    "# Practice Association Rules  - Minneapolis Crime Data\n",
    "\n",
    "The dataset used in the notebook (curtesy of Open Data Minneapolis) includes information about police calls and crimes committed between 2010 to 2016. \n",
    "\n",
    "We will use the data to do some association rule mining for finding frequent patterns.\n",
    "\n",
    "Read the data from `/dsa/data/all_datasets/minneapolis_crimedata/crimes.csv`\n",
    "\n",
    " - **Hint:** If you aren't sure of the R function to use for some of the activities, try an Internet search. If necessary, ask on Mutual Aid. (Finding the correct function to use in a situation is a common thing we need to do.)"
   ]
  },
  {
   "cell_type": "code",
   "execution_count": 8,
   "metadata": {},
   "outputs": [],
   "source": [
    "crimes_data = read.csv('/dsa/data/all_datasets/minneapolis_crimedata/crimes.csv')"
   ]
  },
  {
   "cell_type": "code",
   "execution_count": 117,
   "metadata": {},
   "outputs": [
    {
     "data": {
      "text/html": [
       "<table>\n",
       "<thead><tr><th scope=col>publicaddress</th><th scope=col>controlnbr</th><th scope=col>CCN</th><th scope=col>Precinct</th><th scope=col>ReportedDate</th><th scope=col>BeginDate</th><th scope=col>Time</th><th scope=col>Offense</th><th scope=col>Description</th><th scope=col>UCRCode</th><th scope=col>EnteredDate</th><th scope=col>Long</th><th scope=col>Lat</th><th scope=col>x</th><th scope=col>y</th><th scope=col>Neighborhood</th><th scope=col>lastchanged</th><th scope=col>LastUpdateDate</th><th scope=col>OBJECTID</th><th scope=col>ESRI_OID</th></tr></thead>\n",
       "<tbody>\n",
       "\t<tr><td>0029XX Chicago AV S     </td><td>2001                    </td><td>MP 2010 049740          </td><td>3                       </td><td>2010-02-22T13:40:00.000Z</td><td>2010-02-22T13:22:00.000Z</td><td>13:22:00                </td><td>SHOPLF                  </td><td>Shoplifting             </td><td>7                       </td><td>2010-02-22T13:37:48.000Z</td><td>-93.26305               </td><td>44.94899                </td><td>531143.9                </td><td>157587.0                </td><td>PHILLIPS WEST           </td><td>2010-02-22T18:51:39.000Z</td><td>2015-09-21T14:16:59.000Z</td><td>NA                      </td><td>NA                      </td></tr>\n",
       "\t<tr><td>0049XX Queen AV N       </td><td>2002                    </td><td>MP 2010 999144          </td><td>4                       </td><td>2010-02-22T13:38:15.000Z</td><td>2010-02-21T08:00:00.000Z</td><td>08:00:00                </td><td>TFMV                    </td><td>Theft From Motr Vehc    </td><td>7                       </td><td>2010-02-22T13:38:15.000Z</td><td>-93.31088               </td><td>45.04451                </td><td>518728.3                </td><td>192399.9                </td><td>SHINGLE CREEK           </td><td>2010-02-22T13:38:22.000Z</td><td>2015-09-21T14:16:59.000Z</td><td>NA                      </td><td>NA                      </td></tr>\n",
       "</tbody>\n",
       "</table>\n"
      ],
      "text/latex": [
       "\\begin{tabular}{r|llllllllllllllllllll}\n",
       " publicaddress & controlnbr & CCN & Precinct & ReportedDate & BeginDate & Time & Offense & Description & UCRCode & EnteredDate & Long & Lat & x & y & Neighborhood & lastchanged & LastUpdateDate & OBJECTID & ESRI\\_OID\\\\\n",
       "\\hline\n",
       "\t 0029XX Chicago AV S      & 2001                     & MP 2010 049740           & 3                        & 2010-02-22T13:40:00.000Z & 2010-02-22T13:22:00.000Z & 13:22:00                 & SHOPLF                   & Shoplifting              & 7                        & 2010-02-22T13:37:48.000Z & -93.26305                & 44.94899                 & 531143.9                 & 157587.0                 & PHILLIPS WEST            & 2010-02-22T18:51:39.000Z & 2015-09-21T14:16:59.000Z & NA                       & NA                      \\\\\n",
       "\t 0049XX Queen AV N        & 2002                     & MP 2010 999144           & 4                        & 2010-02-22T13:38:15.000Z & 2010-02-21T08:00:00.000Z & 08:00:00                 & TFMV                     & Theft From Motr Vehc     & 7                        & 2010-02-22T13:38:15.000Z & -93.31088                & 45.04451                 & 518728.3                 & 192399.9                 & SHINGLE CREEK            & 2010-02-22T13:38:22.000Z & 2015-09-21T14:16:59.000Z & NA                       & NA                      \\\\\n",
       "\\end{tabular}\n"
      ],
      "text/markdown": [
       "\n",
       "| publicaddress | controlnbr | CCN | Precinct | ReportedDate | BeginDate | Time | Offense | Description | UCRCode | EnteredDate | Long | Lat | x | y | Neighborhood | lastchanged | LastUpdateDate | OBJECTID | ESRI_OID |\n",
       "|---|---|---|---|---|---|---|---|---|---|---|---|---|---|---|---|---|---|---|---|\n",
       "| 0029XX Chicago AV S      | 2001                     | MP 2010 049740           | 3                        | 2010-02-22T13:40:00.000Z | 2010-02-22T13:22:00.000Z | 13:22:00                 | SHOPLF                   | Shoplifting              | 7                        | 2010-02-22T13:37:48.000Z | -93.26305                | 44.94899                 | 531143.9                 | 157587.0                 | PHILLIPS WEST            | 2010-02-22T18:51:39.000Z | 2015-09-21T14:16:59.000Z | NA                       | NA                       |\n",
       "| 0049XX Queen AV N        | 2002                     | MP 2010 999144           | 4                        | 2010-02-22T13:38:15.000Z | 2010-02-21T08:00:00.000Z | 08:00:00                 | TFMV                     | Theft From Motr Vehc     | 7                        | 2010-02-22T13:38:15.000Z | -93.31088                | 45.04451                 | 518728.3                 | 192399.9                 | SHINGLE CREEK            | 2010-02-22T13:38:22.000Z | 2015-09-21T14:16:59.000Z | NA                       | NA                       |\n",
       "\n"
      ],
      "text/plain": [
       "  publicaddress       controlnbr CCN            Precinct\n",
       "1 0029XX Chicago AV S 2001       MP 2010 049740 3       \n",
       "2 0049XX Queen AV N   2002       MP 2010 999144 4       \n",
       "  ReportedDate             BeginDate                Time     Offense\n",
       "1 2010-02-22T13:40:00.000Z 2010-02-22T13:22:00.000Z 13:22:00 SHOPLF \n",
       "2 2010-02-22T13:38:15.000Z 2010-02-21T08:00:00.000Z 08:00:00 TFMV   \n",
       "  Description          UCRCode EnteredDate              Long      Lat     \n",
       "1 Shoplifting          7       2010-02-22T13:37:48.000Z -93.26305 44.94899\n",
       "2 Theft From Motr Vehc 7       2010-02-22T13:38:15.000Z -93.31088 45.04451\n",
       "  x        y        Neighborhood  lastchanged             \n",
       "1 531143.9 157587.0 PHILLIPS WEST 2010-02-22T18:51:39.000Z\n",
       "2 518728.3 192399.9 SHINGLE CREEK 2010-02-22T13:38:22.000Z\n",
       "  LastUpdateDate           OBJECTID ESRI_OID\n",
       "1 2015-09-21T14:16:59.000Z NA       NA      \n",
       "2 2015-09-21T14:16:59.000Z NA       NA      "
      ]
     },
     "metadata": {},
     "output_type": "display_data"
    }
   ],
   "source": [
    "head(crimes_data,2)"
   ]
  },
  {
   "cell_type": "code",
   "execution_count": 114,
   "metadata": {
    "scrolled": true
   },
   "outputs": [
    {
     "data": {
      "text/html": [
       "<ol class=list-inline>\n",
       "\t<li>136121</li>\n",
       "\t<li>20</li>\n",
       "</ol>\n"
      ],
      "text/latex": [
       "\\begin{enumerate*}\n",
       "\\item 136121\n",
       "\\item 20\n",
       "\\end{enumerate*}\n"
      ],
      "text/markdown": [
       "1. 136121\n",
       "2. 20\n",
       "\n",
       "\n"
      ],
      "text/plain": [
       "[1] 136121     20"
      ]
     },
     "metadata": {},
     "output_type": "display_data"
    }
   ],
   "source": [
    "dim(crimes_data)"
   ]
  },
  {
   "cell_type": "markdown",
   "metadata": {},
   "source": [
    "The columns \n",
    "- `controlnbr`\n",
    "- `CCN`\n",
    "- `Time`\n",
    "- `ReportedDate`\n",
    "- `Offense`\n",
    "- `UCRCode`\n",
    "- `EnteredDate`\n",
    "- `Long`\n",
    "- `Lat`\n",
    "- `x`\n",
    "- `y`\n",
    "- `lastchanged`\n",
    "- `LastUpdateDate`\n",
    "- `OBJECTID`\n",
    "- `ESRI_OID` \n",
    "\n",
    "are not helpful or interpretable. So lets just delete them from dataset."
   ]
  },
  {
   "cell_type": "markdown",
   "metadata": {},
   "source": [
    "**Activity 1:** Remove the columns listed above from dataframe. "
   ]
  },
  {
   "cell_type": "code",
   "execution_count": 160,
   "metadata": {},
   "outputs": [
    {
     "data": {
      "text/html": [
       "<table>\n",
       "<thead><tr><th scope=col>publicaddress</th><th scope=col>Precinct</th><th scope=col>BeginDate</th><th scope=col>Description</th><th scope=col>Neighborhood</th></tr></thead>\n",
       "<tbody>\n",
       "\t<tr><td>0029XX Chicago AV S     </td><td>3                       </td><td>2010-02-22T13:22:00.000Z</td><td>Shoplifting             </td><td>PHILLIPS WEST           </td></tr>\n",
       "\t<tr><td>0049XX Queen AV N       </td><td>4                       </td><td>2010-02-21T08:00:00.000Z</td><td>Theft From Motr Vehc    </td><td>SHINGLE CREEK           </td></tr>\n",
       "</tbody>\n",
       "</table>\n"
      ],
      "text/latex": [
       "\\begin{tabular}{r|lllll}\n",
       " publicaddress & Precinct & BeginDate & Description & Neighborhood\\\\\n",
       "\\hline\n",
       "\t 0029XX Chicago AV S      & 3                        & 2010-02-22T13:22:00.000Z & Shoplifting              & PHILLIPS WEST           \\\\\n",
       "\t 0049XX Queen AV N        & 4                        & 2010-02-21T08:00:00.000Z & Theft From Motr Vehc     & SHINGLE CREEK           \\\\\n",
       "\\end{tabular}\n"
      ],
      "text/markdown": [
       "\n",
       "| publicaddress | Precinct | BeginDate | Description | Neighborhood |\n",
       "|---|---|---|---|---|\n",
       "| 0029XX Chicago AV S      | 3                        | 2010-02-22T13:22:00.000Z | Shoplifting              | PHILLIPS WEST            |\n",
       "| 0049XX Queen AV N        | 4                        | 2010-02-21T08:00:00.000Z | Theft From Motr Vehc     | SHINGLE CREEK            |\n",
       "\n"
      ],
      "text/plain": [
       "  publicaddress       Precinct BeginDate                Description         \n",
       "1 0029XX Chicago AV S 3        2010-02-22T13:22:00.000Z Shoplifting         \n",
       "2 0049XX Queen AV N   4        2010-02-21T08:00:00.000Z Theft From Motr Vehc\n",
       "  Neighborhood \n",
       "1 PHILLIPS WEST\n",
       "2 SHINGLE CREEK"
      ]
     },
     "metadata": {},
     "output_type": "display_data"
    }
   ],
   "source": [
    "# Your code for activity 1 goes here.\n",
    "# ------------------------------------\n",
    "\n",
    "#column_names = c(controlnbr,CCN,Time,ReportedDate,Offense,UCRCode,EnteredDate,Long,Lat,x,y,lastchanged,LastUpdateDate,OBJECTID,ESRI_OID)\n",
    "crimes_data1 = subset(crimes_data,select = -c(controlnbr,CCN,Time,ReportedDate,Offense,UCRCode,EnteredDate,Long,Lat,x,y,lastchanged,LastUpdateDate,OBJECTID,ESRI_OID))\n",
    "head(crimes_data1,2)\n",
    "\n"
   ]
  },
  {
   "cell_type": "markdown",
   "metadata": {},
   "source": [
    "The first 6 characters in publicaddress don't make any sense. \n",
    "\n",
    "**Activity 2:** Strip the first 7 characters or extract the rest of the characters from the publicaddress column."
   ]
  },
  {
   "cell_type": "code",
   "execution_count": 161,
   "metadata": {},
   "outputs": [],
   "source": [
    "crimes_data1[, 'publicaddress'] <- sapply(crimes_data1[, 'publicaddress'], as.character)"
   ]
  },
  {
   "cell_type": "code",
   "execution_count": 162,
   "metadata": {},
   "outputs": [
    {
     "name": "stdout",
     "output_type": "stream",
     "text": [
      "  |======================================================================| 100%\n"
     ]
    }
   ],
   "source": [
    "total <- length(crimes_data1$publicaddress)\n",
    "# create progress bar\n",
    "pb <- txtProgressBar(min = 0, max = total, style = 3)\n",
    "\n",
    "for (i in 1:total){\n",
    "    #Sys.sleep(0.1)\n",
    "    # update progress bar\n",
    "    setTxtProgressBar(pb, i)\n",
    "    \n",
    "    text = crimes_data1$publicaddress[i]\n",
    "    text = as.character(text)\n",
    "    if (grepl('X', text)){\n",
    "        address = unlist(strsplit(text, \"X \"))\n",
    "        crimes_data1$publicaddress[i] = address[2]\n",
    "    } else if (grepl('/', text)){\n",
    "        address = unlist(strsplit(text, \"/ \"))\n",
    "        crimes_data1$publicaddress[i] = address[2]\n",
    "    }\n",
    "}\n",
    "close(pb)"
   ]
  },
  {
   "cell_type": "code",
   "execution_count": 163,
   "metadata": {
    "scrolled": true
   },
   "outputs": [
    {
     "data": {
      "text/html": [
       "<table>\n",
       "<thead><tr><th scope=col>publicaddress</th><th scope=col>Precinct</th><th scope=col>BeginDate</th><th scope=col>Description</th><th scope=col>Neighborhood</th></tr></thead>\n",
       "<tbody>\n",
       "\t<tr><td>Chicago AV S            </td><td>3                       </td><td>2010-02-22T13:22:00.000Z</td><td>Shoplifting             </td><td>PHILLIPS WEST           </td></tr>\n",
       "\t<tr><td>Queen AV N              </td><td>4                       </td><td>2010-02-21T08:00:00.000Z</td><td>Theft From Motr Vehc    </td><td>SHINGLE CREEK           </td></tr>\n",
       "\t<tr><td>16 AV SE                </td><td>2                       </td><td>2010-02-19T23:20:00.000Z</td><td>Other Theft             </td><td>UNIVERSITY OF MINNESOTA </td></tr>\n",
       "</tbody>\n",
       "</table>\n"
      ],
      "text/latex": [
       "\\begin{tabular}{r|lllll}\n",
       " publicaddress & Precinct & BeginDate & Description & Neighborhood\\\\\n",
       "\\hline\n",
       "\t Chicago AV S             & 3                        & 2010-02-22T13:22:00.000Z & Shoplifting              & PHILLIPS WEST           \\\\\n",
       "\t Queen AV N               & 4                        & 2010-02-21T08:00:00.000Z & Theft From Motr Vehc     & SHINGLE CREEK           \\\\\n",
       "\t 16 AV SE                 & 2                        & 2010-02-19T23:20:00.000Z & Other Theft              & UNIVERSITY OF MINNESOTA \\\\\n",
       "\\end{tabular}\n"
      ],
      "text/markdown": [
       "\n",
       "| publicaddress | Precinct | BeginDate | Description | Neighborhood |\n",
       "|---|---|---|---|---|\n",
       "| Chicago AV S             | 3                        | 2010-02-22T13:22:00.000Z | Shoplifting              | PHILLIPS WEST            |\n",
       "| Queen AV N               | 4                        | 2010-02-21T08:00:00.000Z | Theft From Motr Vehc     | SHINGLE CREEK            |\n",
       "| 16 AV SE                 | 2                        | 2010-02-19T23:20:00.000Z | Other Theft              | UNIVERSITY OF MINNESOTA  |\n",
       "\n"
      ],
      "text/plain": [
       "  publicaddress Precinct BeginDate                Description         \n",
       "1 Chicago AV S  3        2010-02-22T13:22:00.000Z Shoplifting         \n",
       "2 Queen AV N    4        2010-02-21T08:00:00.000Z Theft From Motr Vehc\n",
       "3 16 AV SE      2        2010-02-19T23:20:00.000Z Other Theft         \n",
       "  Neighborhood           \n",
       "1 PHILLIPS WEST          \n",
       "2 SHINGLE CREEK          \n",
       "3 UNIVERSITY OF MINNESOTA"
      ]
     },
     "metadata": {},
     "output_type": "display_data"
    }
   ],
   "source": [
    "head(crimes_data1,3)"
   ]
  },
  {
   "cell_type": "markdown",
   "metadata": {},
   "source": [
    "The BeginDate column is of type `factor`. What we want to have are columns for the date, weekday, and hour. \n",
    "\n",
    "**Reference:**\n",
    "\n",
    "- [lubridate](https://www.r-statistics.com/2012/03/do-more-with-dates-and-times-in-r-with-lubridate-1-1-0/)\n",
    "- [Handling date-times in R](http://biostat.mc.vanderbilt.edu/wiki/pub/Main/ColeBeck/datestimes.pdf)\n",
    "\n",
    "You can work with date and time data types in R using either the built-in POSIXt library or external packages like the lubridate package or the chron package. \n",
    "\n",
    "There are two POSIX time types, POSIXct and POSIXlt. \"ct\" stands for calendar time, it stores the number of seconds since the origin (the beginning of Jan 1, 1970). \"lt\", or local time, keeps the date as a list of time attributes (such as \"hour\" and \"mon\"). See [DateTimeClasses](https://www.rdocumentation.org/packages/base/versions/3.4.1/topics/DateTimeClasses) for more details.\n",
    "\n",
    "The Lubridate package assists greatly in working with dates and times. R commands for date-times are generally unintuitive and change depending on the type of date-time object being used. Moreover, the methods we use with date-times must be robust to time zones, leap days, daylight savings times, and other time related quirks, and R lacks these capabilities in some situations. Lubridate makes it easier to do the things R does with date-times and possible to do the things R does not.\n",
    "\n",
    "We will use two steps to first convert BeginDate to a new date column. In Activity 3, we will convert it to POSIXlt type using the R [strptime() function](https://www.rdocumentation.org/packages/base/versions/3.4.1/topics/strptime). Then in Activity 4, we will convert it to a Date using a Lubridate package function. Finally in Activity 5, we will extract the weekday and hour into new columns from the BeginDate column using Lubridate functions.\n",
    "\n",
    "**Activity 3:** The BeginDate column is of type `factor`. Convert its type to `POSIXlt` using the strptime() function. You will need to replace the character \"T\" in the column with a white space \" \" in order to use strptime(). "
   ]
  },
  {
   "cell_type": "code",
   "execution_count": 164,
   "metadata": {},
   "outputs": [
    {
     "data": {
      "text/html": [
       "<table>\n",
       "<thead><tr><th scope=col>publicaddress</th><th scope=col>Precinct</th><th scope=col>BeginDate</th><th scope=col>Description</th><th scope=col>Neighborhood</th></tr></thead>\n",
       "<tbody>\n",
       "\t<tr><td>Chicago AV S        </td><td>3                   </td><td>2010-02-22 13:22:00 </td><td>Shoplifting         </td><td>PHILLIPS WEST       </td></tr>\n",
       "\t<tr><td>Queen AV N          </td><td>4                   </td><td>2010-02-21 08:00:00 </td><td>Theft From Motr Vehc</td><td>SHINGLE CREEK       </td></tr>\n",
       "</tbody>\n",
       "</table>\n"
      ],
      "text/latex": [
       "\\begin{tabular}{r|lllll}\n",
       " publicaddress & Precinct & BeginDate & Description & Neighborhood\\\\\n",
       "\\hline\n",
       "\t Chicago AV S         & 3                    & 2010-02-22 13:22:00  & Shoplifting          & PHILLIPS WEST       \\\\\n",
       "\t Queen AV N           & 4                    & 2010-02-21 08:00:00  & Theft From Motr Vehc & SHINGLE CREEK       \\\\\n",
       "\\end{tabular}\n"
      ],
      "text/markdown": [
       "\n",
       "| publicaddress | Precinct | BeginDate | Description | Neighborhood |\n",
       "|---|---|---|---|---|\n",
       "| Chicago AV S         | 3                    | 2010-02-22 13:22:00  | Shoplifting          | PHILLIPS WEST        |\n",
       "| Queen AV N           | 4                    | 2010-02-21 08:00:00  | Theft From Motr Vehc | SHINGLE CREEK        |\n",
       "\n"
      ],
      "text/plain": [
       "  publicaddress Precinct BeginDate           Description          Neighborhood \n",
       "1 Chicago AV S  3        2010-02-22 13:22:00 Shoplifting          PHILLIPS WEST\n",
       "2 Queen AV N    4        2010-02-21 08:00:00 Theft From Motr Vehc SHINGLE CREEK"
      ]
     },
     "metadata": {},
     "output_type": "display_data"
    }
   ],
   "source": [
    "# Your code for activity 3 goes here.\n",
    "# ------------------------------------\n",
    "crimes_data1$BeginDate = strptime(as.character(crimes_data1$BeginDate),\"%Y-%m-%dT%H:%M:%S\")\n",
    "head(crimes_data1,2)"
   ]
  },
  {
   "cell_type": "markdown",
   "metadata": {},
   "source": [
    "**Activity 4:** Extract the date from BeginDate column and stored it as a new column called date. "
   ]
  },
  {
   "cell_type": "code",
   "execution_count": 168,
   "metadata": {},
   "outputs": [],
   "source": [
    "# Your code for activity 4 goes here.\n",
    "# ------------------------------------\n",
    "library(lubridate)\n",
    "crimes_data1$date = as.Date(crimes_data1$BeginDate,format(\"%Y-%m-%d\"))"
   ]
  },
  {
   "cell_type": "code",
   "execution_count": 169,
   "metadata": {},
   "outputs": [
    {
     "data": {
      "text/html": [
       "'Date'"
      ],
      "text/latex": [
       "'Date'"
      ],
      "text/markdown": [
       "'Date'"
      ],
      "text/plain": [
       "[1] \"Date\""
      ]
     },
     "metadata": {},
     "output_type": "display_data"
    }
   ],
   "source": [
    "# Check your work...\n",
    "class(crimes_data1$date)"
   ]
  },
  {
   "cell_type": "markdown",
   "metadata": {},
   "source": [
    "**Activity 5:** Extract the weekday from date and hour from from BeginDate column and store them as new columns called weekday and hour respectively. "
   ]
  },
  {
   "cell_type": "code",
   "execution_count": 177,
   "metadata": {},
   "outputs": [],
   "source": [
    "# Your code for activity 5 goes here.\n",
    "# ------------------------------------\n",
    "crimes_data1$weekday = weekdays(as.Date(crimes_data1$date))\n",
    "crimes_data1$hour = crimes_data1$BeginDate$hour"
   ]
  },
  {
   "cell_type": "markdown",
   "metadata": {},
   "source": [
    "We dont need the BeginDate column any more. So lets just delete it from dataframe."
   ]
  },
  {
   "cell_type": "code",
   "execution_count": 179,
   "metadata": {},
   "outputs": [],
   "source": [
    "# Your code goes here.\n",
    "# ------------------------------------\n",
    "crimes_data1$BeginDate <- NULL\n"
   ]
  },
  {
   "cell_type": "markdown",
   "metadata": {},
   "source": [
    "**Activity 6:** Convert the hour variable into an ordered factor with levels \"mid night\", \"morning\", \"noon\",\"night\" for different hours of the day. "
   ]
  },
  {
   "cell_type": "code",
   "execution_count": 181,
   "metadata": {},
   "outputs": [],
   "source": [
    "# Your code for activity 6 goes here.\n",
    "# ------------------------------------\n",
    "crimes_data1[[\"hour\"]] <- ordered(cut(crimes_data1[[\"hour\"]], c(-1,0,11,12,24)),\n",
    "                                 labels = c(\"mid night\", \"morning\", \"noon\",\"night\"))\n"
   ]
  },
  {
   "cell_type": "code",
   "execution_count": 189,
   "metadata": {},
   "outputs": [
    {
     "data": {
      "text/html": [
       "<table>\n",
       "<thead><tr><th scope=col>publicaddress</th><th scope=col>Precinct</th><th scope=col>Description</th><th scope=col>Neighborhood</th><th scope=col>date</th><th scope=col>weekday</th><th scope=col>hour</th></tr></thead>\n",
       "<tbody>\n",
       "\t<tr><td>Chicago AV S           </td><td>3                      </td><td>Shoplifting            </td><td>PHILLIPS WEST          </td><td>2010-02-22             </td><td>Monday                 </td><td>night                  </td></tr>\n",
       "\t<tr><td>Queen AV N             </td><td>4                      </td><td>Theft From Motr Vehc   </td><td>SHINGLE CREEK          </td><td>2010-02-21             </td><td>Sunday                 </td><td>morning                </td></tr>\n",
       "\t<tr><td>16 AV SE               </td><td>2                      </td><td>Other Theft            </td><td>UNIVERSITY OF MINNESOTA</td><td>2010-02-19             </td><td>Friday                 </td><td>night                  </td></tr>\n",
       "</tbody>\n",
       "</table>\n"
      ],
      "text/latex": [
       "\\begin{tabular}{r|lllllll}\n",
       " publicaddress & Precinct & Description & Neighborhood & date & weekday & hour\\\\\n",
       "\\hline\n",
       "\t Chicago AV S            & 3                       & Shoplifting             & PHILLIPS WEST           & 2010-02-22              & Monday                  & night                  \\\\\n",
       "\t Queen AV N              & 4                       & Theft From Motr Vehc    & SHINGLE CREEK           & 2010-02-21              & Sunday                  & morning                \\\\\n",
       "\t 16 AV SE                & 2                       & Other Theft             & UNIVERSITY OF MINNESOTA & 2010-02-19              & Friday                  & night                  \\\\\n",
       "\\end{tabular}\n"
      ],
      "text/markdown": [
       "\n",
       "| publicaddress | Precinct | Description | Neighborhood | date | weekday | hour |\n",
       "|---|---|---|---|---|---|---|\n",
       "| Chicago AV S            | 3                       | Shoplifting             | PHILLIPS WEST           | 2010-02-22              | Monday                  | night                   |\n",
       "| Queen AV N              | 4                       | Theft From Motr Vehc    | SHINGLE CREEK           | 2010-02-21              | Sunday                  | morning                 |\n",
       "| 16 AV SE                | 2                       | Other Theft             | UNIVERSITY OF MINNESOTA | 2010-02-19              | Friday                  | night                   |\n",
       "\n"
      ],
      "text/plain": [
       "  publicaddress Precinct Description          Neighborhood           \n",
       "1 Chicago AV S  3        Shoplifting          PHILLIPS WEST          \n",
       "2 Queen AV N    4        Theft From Motr Vehc SHINGLE CREEK          \n",
       "3 16 AV SE      2        Other Theft          UNIVERSITY OF MINNESOTA\n",
       "  date       weekday hour   \n",
       "1 2010-02-22 Monday  night  \n",
       "2 2010-02-21 Sunday  morning\n",
       "3 2010-02-19 Friday  night  "
      ]
     },
     "metadata": {},
     "output_type": "display_data"
    }
   ],
   "source": [
    "head(crimes_data1,3)"
   ]
  },
  {
   "cell_type": "code",
   "execution_count": 191,
   "metadata": {},
   "outputs": [
    {
     "name": "stdout",
     "output_type": "stream",
     "text": [
      "'data.frame':\t136121 obs. of  7 variables:\n",
      " $ publicaddress: Factor w/ 1038 levels \"1 AV N\",\"1 AV NE\",..: 397 817 46 952 311 985 123 248 373 641 ...\n",
      " $ Precinct     : Factor w/ 6 levels \"1\",\"2\",\"3\",\"4\",..: 3 4 2 2 1 2 3 2 4 3 ...\n",
      " $ Description  : Factor w/ 36 levels \"1st Deg Domes Asslt\",..: 29 33 22 32 22 22 22 13 12 34 ...\n",
      " $ Neighborhood : Factor w/ 88 levels \"\",\"ARMATAGE\",..: 65 71 78 78 21 78 83 52 43 24 ...\n",
      " $ date         : Factor w/ 2120 levels \"2010-01-01\",\"2010-01-02\",..: 53 52 50 51 52 53 41 52 53 53 ...\n",
      " $ weekday      : Factor w/ 7 levels \"Friday\",\"Monday\",..: 2 4 1 3 4 2 7 4 2 2 ...\n",
      " $ hour         : Ord.factor w/ 4 levels \"mid night\"<\"morning\"<..: 4 2 4 4 4 2 3 2 2 2 ...\n"
     ]
    }
   ],
   "source": [
    "str(crimes_data1)"
   ]
  },
  {
   "cell_type": "markdown",
   "metadata": {},
   "source": [
    "**Activity 7:** Convert the columns \"publicaddress\", \"Precinct\", \"weekday\", \"date\" into factor type. "
   ]
  },
  {
   "cell_type": "code",
   "execution_count": 184,
   "metadata": {},
   "outputs": [],
   "source": [
    "# Your code for activity 7 goes here..\n",
    "crimes_data1[\"publicaddress\"] = as.factor(crimes_data1[[\"publicaddress\"]])\n",
    "crimes_data1[\"Precinct\"] = as.factor(crimes_data1[[\"Precinct\"]])\n",
    "crimes_data1[\"weekday\"] = as.factor(crimes_data1[[\"weekday\"]])\n",
    "crimes_data1[\"date\"] = as.factor(crimes_data1[[\"date\"]])"
   ]
  },
  {
   "cell_type": "markdown",
   "metadata": {},
   "source": [
    "**Activity 8:** Now, coerce the data set into transactions. Save this transactions to crimes_trans variable."
   ]
  },
  {
   "cell_type": "code",
   "execution_count": 185,
   "metadata": {
    "scrolled": true
   },
   "outputs": [
    {
     "name": "stderr",
     "output_type": "stream",
     "text": [
      "Loading required package: Matrix\n",
      "\n",
      "Attaching package: ‘arules’\n",
      "\n",
      "The following object is masked from ‘package:dplyr’:\n",
      "\n",
      "    recode\n",
      "\n",
      "The following objects are masked from ‘package:base’:\n",
      "\n",
      "    abbreviate, write\n",
      "\n"
     ]
    }
   ],
   "source": [
    "# Your code for activity 8 goes here.\n",
    "# ------------------------------------\n",
    "library(\"arules\")\n",
    "crimes_trans <- as(crimes_data1, \"transactions\")"
   ]
  },
  {
   "cell_type": "code",
   "execution_count": 186,
   "metadata": {},
   "outputs": [
    {
     "data": {
      "text/plain": [
       "transactions in sparse format with\n",
       " 136121 transactions (rows) and\n",
       " 3299 items (columns)"
      ]
     },
     "metadata": {},
     "output_type": "display_data"
    }
   ],
   "source": [
    "crimes_trans"
   ]
  },
  {
   "cell_type": "markdown",
   "metadata": {},
   "source": [
    "**Activity 9:** Generate association rules for the transactions in crimes_trans with support of 0.01 and confidence of 0.6"
   ]
  },
  {
   "cell_type": "code",
   "execution_count": 187,
   "metadata": {},
   "outputs": [
    {
     "name": "stdout",
     "output_type": "stream",
     "text": [
      "Apriori\n",
      "\n",
      "Parameter specification:\n",
      " confidence minval smax arem  aval originalSupport maxtime support minlen\n",
      "        0.6    0.1    1 none FALSE            TRUE       5    0.01      1\n",
      " maxlen target   ext\n",
      "     10  rules FALSE\n",
      "\n",
      "Algorithmic control:\n",
      " filter tree heap memopt load sort verbose\n",
      "    0.1 TRUE TRUE  FALSE TRUE    2    TRUE\n",
      "\n",
      "Absolute minimum support count: 1361 \n",
      "\n",
      "set item appearances ...[0 item(s)] done [0.00s].\n",
      "set transactions ...[3299 item(s), 136121 transaction(s)] done [0.39s].\n",
      "sorting and recoding items ... [78 item(s)] done [0.02s].\n",
      "creating transaction tree ... done [0.12s].\n",
      "checking subsets of size 1 2 3 4 done [0.01s].\n",
      "writing ... [109 rule(s)] done [0.00s].\n",
      "creating S4 object  ... done [0.01s].\n"
     ]
    }
   ],
   "source": [
    "# Your code for activity 9 goes here.\n",
    "# ------------------------------------\n",
    "rules <- apriori(crimes_trans, parameter = list(support = 0.01, confidence = 0.6))\n"
   ]
  },
  {
   "cell_type": "markdown",
   "metadata": {},
   "source": [
    "**Activity 10:** Display the generated rules using inspect(). "
   ]
  },
  {
   "cell_type": "code",
   "execution_count": 188,
   "metadata": {},
   "outputs": [
    {
     "name": "stdout",
     "output_type": "stream",
     "text": [
      "      lhs                                               rhs                             support confidence      lift count\n",
      "[1]   {publicaddress=Penn AV N}                      => {Precinct=4}                 0.01050536  0.9986034  4.793895  1430\n",
      "[2]   {Neighborhood=KING FIELD}                      => {Precinct=5}                 0.01110042  0.9980185  5.135766  1511\n",
      "[3]   {Neighborhood=HOWE}                            => {Precinct=3}                 0.01096084  0.9986613  3.755215  1492\n",
      "[4]   {Neighborhood=MCKINLEY}                        => {Precinct=4}                 0.01114450  0.9960604  4.781687  1517\n",
      "[5]   {Neighborhood=STANDISH}                        => {Precinct=3}                 0.01140897  0.9980720  3.752999  1553\n",
      "[6]   {Neighborhood=STEVENS SQUARE - LORING HEIGHTS} => {Precinct=5}                 0.01124735  0.9915803  5.102635  1531\n",
      "[7]   {Neighborhood=CORCORAN}                        => {Precinct=3}                 0.01156324  0.9987310  3.755477  1574\n",
      "[8]   {publicaddress=Lyndale AV S}                   => {Precinct=5}                 0.01155590  0.9930556  5.110227  1573\n",
      "[9]   {Neighborhood=HIAWATHA}                        => {Precinct=3}                 0.01160732  0.9968454  3.748387  1580\n",
      "[10]  {Neighborhood=LIND - BOHANON}                  => {Precinct=4}                 0.01198199  0.9987753  4.794720  1631\n",
      "[11]  {Neighborhood=COMO}                            => {Precinct=2}                 0.01215095  0.9945881  7.244840  1654\n",
      "[12]  {Neighborhood=PHILLIPS WEST}                   => {Precinct=3}                 0.01231257  0.9964328  3.746835  1676\n",
      "[13]  {Neighborhood=CARAG}                           => {Precinct=5}                 0.01302518  0.9983108  5.137270  1773\n",
      "[14]  {publicaddress=Chicago AV S}                   => {Precinct=3}                 0.01121796  0.8573835  3.223975  1527\n",
      "[15]  {Neighborhood=PROSPECT PARK - EAST RIVER ROAD} => {Precinct=2}                 0.01373778  0.9862869  7.184372  1870\n",
      "[16]  {publicaddress=Broadway AV W}                  => {Precinct=4}                 0.01433284  0.9994877  4.798140  1951\n",
      "[17]  {Neighborhood=CEDAR RIVERSIDE}                 => {Precinct=1}                 0.01524379  0.9871551  5.096819  2075\n",
      "[18]  {Neighborhood=EAST PHILLIPS}                   => {Precinct=3}                 0.01562580  0.9995301  3.758482  2127\n",
      "[19]  {Neighborhood=WEBBER - CAMDEN}                 => {Precinct=4}                 0.01600782  0.9995413  4.798397  2179\n",
      "[20]  {Neighborhood=NORTH LOOP}                      => {Precinct=1}                 0.01622821  0.9701361  5.008948  2209\n",
      "[21]  {Neighborhood=LYNDALE}                         => {Precinct=5}                 0.01752118  0.9958246  5.124476  2385\n",
      "[22]  {Neighborhood=CENTRAL}                         => {Precinct=3}                 0.01827786  0.9936102  3.736221  2488\n",
      "[23]  {publicaddress=Lake ST W}                      => {Precinct=5}                 0.01863783  0.9980330  5.135841  2537\n",
      "[24]  {Neighborhood=MIDTOWN PHILLIPS}                => {Precinct=3}                 0.01865987  0.9952978  3.742567  2540\n",
      "[25]  {Neighborhood=SEWARD}                          => {Precinct=3}                 0.01889495  0.9880907  3.715467  2572\n",
      "[26]  {Neighborhood=ELLIOT PARK}                     => {Precinct=1}                 0.01952674  0.9884716  5.103616  2658\n",
      "[27]  {Neighborhood=VENTURA VILLAGE}                 => {Precinct=3}                 0.01947532  0.9943736  3.739092  2651\n",
      "[28]  {Neighborhood=FOLWELL}                         => {Precinct=4}                 0.02051116  0.9978556  4.790305  2792\n",
      "[29]  {Neighborhood=POWDERHORN PARK}                 => {Precinct=3}                 0.02137069  0.9972575  3.749936  2909\n",
      "[30]  {Neighborhood=LORING PARK}                     => {Precinct=1}                 0.02132661  0.9890971  5.106846  2903\n",
      "[31]  {Neighborhood=LOWRY HILL EAST}                 => {Precinct=5}                 0.02262693  0.9974093  5.132631  3080\n",
      "[32]  {publicaddress=Nicollet AV S}                  => {Precinct=5}                 0.01725671  0.7577419  3.899312  2349\n",
      "[33]  {Neighborhood=HAWTHORNE}                       => {Precinct=4}                 0.02292078  0.9958506  4.780680  3120\n",
      "[34]  {Neighborhood=WILLARD - HAY}                   => {Precinct=4}                 0.02458107  0.9979123  4.790577  3346\n",
      "[35]  {publicaddress=Nicollet Mall  }                => {Neighborhood=DOWNTOWN WEST} 0.02198044  0.9513514  8.273633  2992\n",
      "[36]  {publicaddress=Nicollet Mall  }                => {Precinct=1}                 0.02308975  0.9993641  5.159856  3143\n",
      "[37]  {publicaddress=Nicollet Mall  }                => {hour=night}                 0.01594170  0.6899841  1.446746  2170\n",
      "[38]  {Neighborhood=MARCY HOLMES}                    => {Precinct=2}                 0.02779145  0.9947410  7.245954  3783\n",
      "[39]  {Neighborhood=NEAR - NORTH}                    => {Precinct=4}                 0.02844528  0.9974240  4.788233  3872\n",
      "[40]  {Neighborhood=LONGFELLOW}                      => {Precinct=3}                 0.02976029  0.9980291  3.752837  4051\n",
      "[41]  {Neighborhood=JORDAN}                          => {Precinct=4}                 0.03170708  0.9993054  4.797265  4316\n",
      "[42]  {publicaddress=Lake ST E}                      => {Precinct=3}                 0.03089163  0.9772252  3.674610  4205\n",
      "[43]  {publicaddress=Hennepin AV S}                  => {Precinct=1}                 0.01999691  0.6078607  3.138469  2722\n",
      "[44]  {Neighborhood=WHITTIER}                        => {Precinct=5}                 0.04144107  0.9971716  5.131408  5641\n",
      "[45]  {Description=Shoplifting}                      => {hour=night}                 0.02681438  0.6457891  1.354079  3650\n",
      "[46]  {Neighborhood=DOWNTOWN WEST}                   => {Precinct=1}                 0.11461861  0.9968055  5.146646 15602\n",
      "[47]  {publicaddress=Lake ST W,                                                                                           \n",
      "       hour=night}                                   => {Precinct=5}                 0.01035108  0.9978754  5.135029  1409\n",
      "[48]  {Neighborhood=POWDERHORN PARK,                                                                                      \n",
      "       hour=night}                                   => {Precinct=3}                 0.01049801  0.9979050  3.752371  1429\n",
      "[49]  {Neighborhood=LOWRY HILL EAST,                                                                                      \n",
      "       hour=night}                                   => {Precinct=5}                 0.01129877  0.9974060  5.132614  1538\n",
      "[50]  {Neighborhood=HAWTHORNE,                                                                                            \n",
      "       hour=night}                                   => {Precinct=4}                 0.01098288  0.9960027  4.781410  1495\n",
      "[51]  {Neighborhood=WILLARD - HAY,                                                                                        \n",
      "       hour=night}                                   => {Precinct=4}                 0.01115184  0.9973719  4.787983  1518\n",
      "[52]  {publicaddress=Nicollet Mall  ,                                                                                     \n",
      "       Neighborhood=DOWNTOWN WEST}                   => {Precinct=1}                 0.02197310  0.9996658  5.161413  2991\n",
      "[53]  {publicaddress=Nicollet Mall  ,                                                                                     \n",
      "       Precinct=1}                                   => {Neighborhood=DOWNTOWN WEST} 0.02197310  0.9516386  8.276130  2991\n",
      "[54]  {publicaddress=Nicollet Mall  ,                                                                                     \n",
      "       Description=Other Theft}                      => {Neighborhood=DOWNTOWN WEST} 0.01146774  0.9695652  8.432033  1561\n",
      "[55]  {publicaddress=Nicollet Mall  ,                                                                                     \n",
      "       Neighborhood=DOWNTOWN WEST}                   => {hour=night}                 0.01532460  0.6971925  1.461861  2086\n",
      "[56]  {publicaddress=Nicollet Mall  ,                                                                                     \n",
      "       hour=night}                                   => {Neighborhood=DOWNTOWN WEST} 0.01532460  0.9612903  8.360069  2086\n",
      "[57]  {publicaddress=Nicollet Mall  ,                                                                                     \n",
      "       Description=Other Theft}                      => {Precinct=1}                 0.01182771  1.0000000  5.163139  1610\n",
      "[58]  {publicaddress=Nicollet Mall  ,                                                                                     \n",
      "       Precinct=1}                                   => {hour=night}                 0.01594170  0.6904232  1.447667  2170\n",
      "[59]  {publicaddress=Nicollet Mall  ,                                                                                     \n",
      "       hour=night}                                   => {Precinct=1}                 0.01594170  1.0000000  5.163139  2170\n",
      "[60]  {Neighborhood=MARCY HOLMES,                                                                                         \n",
      "       hour=night}                                   => {Precinct=2}                 0.01229054  0.9911137  7.219532  1673\n",
      "[61]  {Neighborhood=NEAR - NORTH,                                                                                         \n",
      "       hour=night}                                   => {Precinct=4}                 0.01429610  0.9984607  4.793210  1946\n",
      "[62]  {publicaddress=Lake ST E,                                                                                           \n",
      "       Neighborhood=LONGFELLOW}                      => {Precinct=3}                 0.01227584  0.9988045  3.755753  1671\n",
      "[63]  {Description=Shoplifting,                                                                                           \n",
      "       Neighborhood=LONGFELLOW}                      => {Precinct=3}                 0.01143101  0.9993577  3.757834  1556\n",
      "[64]  {Precinct=3,                                                                                                        \n",
      "       Description=Shoplifting}                      => {Neighborhood=LONGFELLOW}    0.01143101  0.6952636 23.316083  1556\n",
      "[65]  {Neighborhood=LONGFELLOW,                                                                                           \n",
      "       hour=night}                                   => {Precinct=3}                 0.01679388  0.9991259  3.756962  2286\n",
      "[66]  {Neighborhood=JORDAN,                                                                                               \n",
      "       hour=night}                                   => {Precinct=4}                 0.01495728  0.9995091  4.798243  2036\n",
      "[67]  {publicaddress=Lake ST E,                                                                                           \n",
      "       hour=night}                                   => {Precinct=3}                 0.01784442  0.9770716  3.674032  2429\n",
      "[68]  {publicaddress=Hennepin AV S,                                                                                       \n",
      "       Neighborhood=DOWNTOWN WEST}                   => {Precinct=1}                 0.01687469  0.9956654  5.140759  2297\n",
      "[69]  {publicaddress=Hennepin AV S,                                                                                       \n",
      "       Precinct=1}                                   => {Neighborhood=DOWNTOWN WEST} 0.01687469  0.8438648  7.338853  2297\n",
      "[70]  {Description=Other Theft,                                                                                           \n",
      "       Neighborhood=WHITTIER}                        => {Precinct=5}                 0.01093145  0.9946524  5.118444  1488\n",
      "[71]  {Neighborhood=WHITTIER,                                                                                             \n",
      "       hour=night}                                   => {Precinct=5}                 0.02106214  0.9982591  5.137004  2867\n",
      "[72]  {Precinct=3,                                                                                                        \n",
      "       Description=Shoplifting}                      => {hour=night}                 0.01115184  0.6782842  1.422214  1518\n",
      "[73]  {Neighborhood=DOWNTOWN WEST,                                                                                        \n",
      "       weekday=Sunday}                               => {Precinct=1}                 0.01508952  0.9980564  5.153104  2054\n",
      "[74]  {Precinct=1,                                                                                                        \n",
      "       weekday=Sunday}                               => {Neighborhood=DOWNTOWN WEST} 0.01508952  0.6438871  5.599704  2054\n",
      "[75]  {Neighborhood=DOWNTOWN WEST,                                                                                        \n",
      "       weekday=Thursday}                             => {Precinct=1}                 0.01193791  0.9981572  5.153625  1625\n",
      "[76]  {Neighborhood=DOWNTOWN WEST,                                                                                        \n",
      "       weekday=Tuesday}                              => {Precinct=1}                 0.01148243  0.9974474  5.149959  1563\n",
      "[77]  {Neighborhood=DOWNTOWN WEST,                                                                                        \n",
      "       weekday=Wednesday}                            => {Precinct=1}                 0.01159263  0.9968414  5.146831  1578\n",
      "[78]  {Neighborhood=DOWNTOWN WEST,                                                                                        \n",
      "       weekday=Monday}                               => {Precinct=1}                 0.01284886  0.9937500  5.130870  1749\n",
      "[79]  {Neighborhood=DOWNTOWN WEST,                                                                                        \n",
      "       weekday=Saturday}                             => {Precinct=1}                 0.01805012  0.9955429  5.140127  2457\n",
      "[80]  {Precinct=1,                                                                                                        \n",
      "       weekday=Saturday}                             => {Neighborhood=DOWNTOWN WEST} 0.01805012  0.6421850  5.584901  2457\n",
      "[81]  {Neighborhood=DOWNTOWN WEST,                                                                                        \n",
      "       weekday=Friday}                               => {Precinct=1}                 0.01579477  0.9972171  5.148770  2150\n",
      "[82]  {Description=Theft From Motr Vehc,                                                                                  \n",
      "       Neighborhood=DOWNTOWN WEST}                   => {Precinct=1}                 0.01362023  0.9973104  5.149252  1854\n",
      "[83]  {Neighborhood=DOWNTOWN WEST,                                                                                        \n",
      "       hour=morning}                                 => {Precinct=1}                 0.03150873  0.9969781  5.147537  4289\n",
      "[84]  {Precinct=1,                                                                                                        \n",
      "       hour=morning}                                 => {Neighborhood=DOWNTOWN WEST} 0.03150873  0.6039994  5.252812  4289\n",
      "[85]  {Description=Other Theft,                                                                                           \n",
      "       Neighborhood=DOWNTOWN WEST}                   => {Precinct=1}                 0.06000544  0.9974356  5.149899  8168\n",
      "[86]  {Precinct=1,                                                                                                        \n",
      "       Description=Other Theft}                      => {Neighborhood=DOWNTOWN WEST} 0.06000544  0.6848902  5.956295  8168\n",
      "[87]  {Neighborhood=DOWNTOWN WEST,                                                                                        \n",
      "       hour=night}                                   => {Precinct=1}                 0.05074162  0.9969688  5.147489  6907\n",
      "[88]  {Description=Theft From Motr Vehc,                                                                                  \n",
      "       weekday=Sunday}                               => {hour=night}                 0.01187179  0.6082047  1.275273  1616\n",
      "[89]  {Description=Theft From Motr Vehc,                                                                                  \n",
      "       weekday=Thursday}                             => {hour=night}                 0.01264316  0.6297109  1.320367  1721\n",
      "[90]  {Precinct=5,                                                                                                        \n",
      "       weekday=Thursday}                             => {hour=night}                 0.01353208  0.6017641  1.261768  1842\n",
      "[91]  {Description=Theft From Motr Vehc,                                                                                  \n",
      "       weekday=Tuesday}                              => {hour=night}                 0.01342923  0.6735446  1.412276  1828\n",
      "[92]  {Precinct=5,                                                                                                        \n",
      "       weekday=Tuesday}                              => {hour=night}                 0.01439161  0.6250798  1.310656  1959\n",
      "[93]  {Description=Theft From Motr Vehc,                                                                                  \n",
      "       weekday=Wednesday}                            => {hour=night}                 0.01291498  0.6467991  1.356197  1758\n",
      "[94]  {Precinct=5,                                                                                                        \n",
      "       weekday=Wednesday}                            => {hour=night}                 0.01414183  0.6008115  1.259771  1925\n",
      "[95]  {Description=Theft From Motr Vehc,                                                                                  \n",
      "       weekday=Monday}                               => {hour=night}                 0.01282682  0.6466667  1.355919  1746\n",
      "[96]  {Precinct=5,                                                                                                        \n",
      "       weekday=Monday}                               => {hour=night}                 0.01384063  0.6083306  1.275537  1884\n",
      "[97]  {Description=Theft From Motr Vehc,                                                                                  \n",
      "       weekday=Saturday}                             => {hour=night}                 0.01265051  0.6575029  1.378640  1722\n",
      "[98]  {Description=Theft From Motr Vehc,                                                                                  \n",
      "       weekday=Friday}                               => {hour=night}                 0.01331903  0.6526278  1.368418  1813\n",
      "[99]  {Precinct=5,                                                                                                        \n",
      "       weekday=Friday}                               => {hour=night}                 0.01494993  0.6122142  1.283680  2035\n",
      "[100] {Precinct=3,                                                                                                        \n",
      "       weekday=Friday}                               => {hour=night}                 0.02022465  0.6028027  1.263946  2753\n",
      "[101] {publicaddress=Nicollet Mall  ,                                                                                     \n",
      "       Description=Other Theft,                                                                                           \n",
      "       Neighborhood=DOWNTOWN WEST}                   => {Precinct=1}                 0.01146774  1.0000000  5.163139  1561\n",
      "[102] {publicaddress=Nicollet Mall  ,                                                                                     \n",
      "       Precinct=1,                                                                                                        \n",
      "       Description=Other Theft}                      => {Neighborhood=DOWNTOWN WEST} 0.01146774  0.9695652  8.432033  1561\n",
      "[103] {publicaddress=Nicollet Mall  ,                                                                                     \n",
      "       Precinct=1,                                                                                                        \n",
      "       Neighborhood=DOWNTOWN WEST}                   => {hour=night}                 0.01532460  0.6974256  1.462350  2086\n",
      "[104] {publicaddress=Nicollet Mall  ,                                                                                     \n",
      "       Neighborhood=DOWNTOWN WEST,                                                                                        \n",
      "       hour=night}                                   => {Precinct=1}                 0.01532460  1.0000000  5.163139  2086\n",
      "[105] {publicaddress=Nicollet Mall  ,                                                                                     \n",
      "       Precinct=1,                                                                                                        \n",
      "       hour=night}                                   => {Neighborhood=DOWNTOWN WEST} 0.01532460  0.9612903  8.360069  2086\n",
      "[106] {Description=Other Theft,                                                                                           \n",
      "       Neighborhood=DOWNTOWN WEST,                                                                                        \n",
      "       hour=morning}                                 => {Precinct=1}                 0.01497932  0.9975538  5.150509  2039\n",
      "[107] {Precinct=1,                                                                                                        \n",
      "       Description=Other Theft,                                                                                           \n",
      "       hour=morning}                                 => {Neighborhood=DOWNTOWN WEST} 0.01497932  0.6794402  5.908898  2039\n",
      "[108] {Description=Other Theft,                                                                                           \n",
      "       Neighborhood=DOWNTOWN WEST,                                                                                        \n",
      "       hour=night}                                   => {Precinct=1}                 0.02581527  0.9980119  5.152874  3514\n",
      "[109] {Precinct=1,                                                                                                        \n",
      "       Description=Other Theft,                                                                                           \n",
      "       hour=night}                                   => {Neighborhood=DOWNTOWN WEST} 0.02581527  0.6907804  6.007521  3514\n"
     ]
    }
   ],
   "source": [
    "# Your code for activity 10 goes here.\n",
    "# ------------------------------------\n",
    "inspect(rules)"
   ]
  },
  {
   "cell_type": "markdown",
   "metadata": {},
   "source": [
    "# Save your notebook, then `File > Close and Halt`"
   ]
  }
 ],
 "metadata": {
  "kernelspec": {
   "display_name": "R",
   "language": "R",
   "name": "ir"
  },
  "language_info": {
   "codemirror_mode": "r",
   "file_extension": ".r",
   "mimetype": "text/x-r-source",
   "name": "R",
   "pygments_lexer": "r",
   "version": "3.5.1"
  }
 },
 "nbformat": 4,
 "nbformat_minor": 2
}
