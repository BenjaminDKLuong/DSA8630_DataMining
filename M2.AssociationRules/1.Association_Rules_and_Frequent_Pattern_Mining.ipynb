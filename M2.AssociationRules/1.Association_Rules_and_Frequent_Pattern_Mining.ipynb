{
 "cells": [
  {
   "cell_type": "markdown",
   "metadata": {},
   "source": [
    "## Lab: Association Rule Mining in R\n",
    "\n",
    "\n",
    "In this notebook the R package [**`arules`**](https://cran.r-project.org/web/packages/arules/vignettes/arules.pdf) is used that has functions for creating and manipulating data for mining association rules and also analyzing the resulting itemsets and rules. It also includes interfaces for two of the popular mining algorithms, **`Apriori`** and **`Eclat`**, by Christian Borgelt. \n",
    "\n",
    "**Apriori:** is a level-wise, breadth-first algorithm which counts transactions. Go through the slides on [Basic association analysis](../resources/Basic_association_analysis.pdf) to understand how `apriori` works. \n",
    "\n",
    "**Eclat:** employs equivalence classes, depth-first search and set intersection instead of counting. (`Eclat` is also touched on in the slides.)\n",
    "\n",
    "These two algorithms can mine frequent itemsets, maximal frequent itemsets, and closed frequent itemsets (see the slides for definitions of these terms). `Apriori` can also be used to generate association rules. Different measures of interestingness are used to describe, analyze, and present the association rules discovered in data. Some of these measures are discussed later in this notebook. \n",
    "\n",
    "**Association Rules:** Let I = {$i_1, i_2, . . . , i_n$} be a set of items. Let D = {$t_1, t_2, . . . , t_m$}\n",
    "be a set of transactions called the database. Each transaction in D has a unique transaction ID and contains a subset of the items in I. A rule is defined as an implication of the form **X ⇒ Y** where **_X_, _Y_ ⊆ _I_** and **_X_ ∩ _Y_ = ∅**. The sets of items (for short itemsets) X and Y are called antecedent (LHS) and consequent (RHS) of the rule.\n",
    "\n",
    "As explained in slides, consider the example from the supermarket domain. The set of items is $I = \\{milk, bread, butter, beer\\}$ and a small database containing the items is shown below. \n",
    "\n",
    "<img src='../images/market_data.PNG'>\n",
    "\n",
    "An example rule for the supermarket could be {milk, bread} ⇒ {butter} meaning that if milk and bread is bought, customers also buy butter. "
   ]
  },
  {
   "cell_type": "markdown",
   "metadata": {},
   "source": [
    "### Representing collections of itemsets\n",
    "\n",
    "\n",
    "Both transaction databases and sets of associations have in common that they contain sets of items (itemsets) together with additional information. For example, a transaction in the database contains a transaction ID and an itemset. A rule in a set of mined association rules contains two itemsets, one for the LHS and one for the RHS, and additional quality information, e.g., values for various interest measures.\n",
    "\n",
    "Collections of itemsets used for transaction databases and sets of associations can be represented as binary incidence matrices with columns corresponding to the items and rows corresponding to the itemsets. The matrix entries represent the presence (1) or absence (0) of an item in a particular itemset. Shown below on the left, an example of a binary incidence matrix containing itemsets for above supermarket data example and vertical layout for the same is shown on right. \n",
    "\n",
    "<img src=\"../images/data_representation.PNG\">\n",
    "\n",
    "\n",
    "Since a typical frequent itemset or a typical transaction (e.g., a supermarket transaction)\n",
    "only contains a small number of items compared to the total number of available items, the\n",
    "binary incidence matrix will in general be very sparse with many items and a very large\n",
    "number of rows. A natural representation for such data is a sparse matrix format."
   ]
  },
  {
   "cell_type": "markdown",
   "metadata": {},
   "source": [
    "### Associations: itemsets and sets of rules\n",
    "\n",
    "\n",
    "Mining transaction data using the **`arules`** package results in finding associations. Conceptually, associations are sets of objects describing the relationship between some items which have assigned values for different measures of quality. Such measures can be measures of significance (e.g., support), or measures of interestingness (e.g., confidence, lift), or other measures (e.g., revenue covered by the association).\n",
    "\n",
    "\n",
    "### Sampling from transactions\n",
    "\n",
    "Taking samples from large databases for mining is a powerful technique which is especially useful if the original database does not fit into main memory, but the sample does. However, even if the database fits into main memory, sampling can provide an enormous speed-up for mining at the cost of only little degradation of accuracy"
   ]
  },
  {
   "cell_type": "markdown",
   "metadata": {},
   "source": [
    "### Preparing and mining a questionnaire data set\n",
    "\n",
    "**Analyze and manipulate the dataset before any associations are mined.** This preparatory work is an important step to help find problems in the data set which could make the mined associations useless or at least inferior to associations mined on a properly prepared data set. \n",
    "\n",
    "The notebook uses the Adult dataset from the UCI machine learning repository provided by package **[arules](https://cran.r-project.org/web/packages/arules/vignettes/arules.pdf)**. This data set originates from the U.S. census bureau database and contains 48842 instances with 15 attributes like age, work class, education, etc. In the original applications of the data, the attributes were used to predict the income level of individuals."
   ]
  },
  {
   "cell_type": "code",
   "execution_count": 1,
   "metadata": {},
   "outputs": [
    {
     "name": "stderr",
     "output_type": "stream",
     "text": [
      "Loading required package: Matrix\n",
      "\n",
      "Attaching package: ‘arules’\n",
      "\n",
      "The following objects are masked from ‘package:base’:\n",
      "\n",
      "    abbreviate, write\n",
      "\n"
     ]
    }
   ],
   "source": [
    "library(\"arules\")"
   ]
  },
  {
   "cell_type": "code",
   "execution_count": 2,
   "metadata": {},
   "outputs": [],
   "source": [
    "data(\"AdultUCI\")"
   ]
  },
  {
   "cell_type": "code",
   "execution_count": 3,
   "metadata": {},
   "outputs": [
    {
     "data": {
      "text/html": [
       "<ol class=list-inline>\n",
       "\t<li>48842</li>\n",
       "\t<li>15</li>\n",
       "</ol>\n"
      ],
      "text/latex": [
       "\\begin{enumerate*}\n",
       "\\item 48842\n",
       "\\item 15\n",
       "\\end{enumerate*}\n"
      ],
      "text/markdown": [
       "1. 48842\n",
       "2. 15\n",
       "\n",
       "\n"
      ],
      "text/plain": [
       "[1] 48842    15"
      ]
     },
     "metadata": {},
     "output_type": "display_data"
    }
   ],
   "source": [
    "dim(AdultUCI)"
   ]
  },
  {
   "cell_type": "markdown",
   "metadata": {},
   "source": [
    "Take a look at first two rows in the data and the results of str():"
   ]
  },
  {
   "cell_type": "code",
   "execution_count": 4,
   "metadata": {
    "scrolled": false
   },
   "outputs": [
    {
     "data": {
      "text/html": [
       "<table>\n",
       "<thead><tr><th scope=col>age</th><th scope=col>workclass</th><th scope=col>fnlwgt</th><th scope=col>education</th><th scope=col>education-num</th><th scope=col>marital-status</th><th scope=col>occupation</th><th scope=col>relationship</th><th scope=col>race</th><th scope=col>sex</th><th scope=col>capital-gain</th><th scope=col>capital-loss</th><th scope=col>hours-per-week</th><th scope=col>native-country</th><th scope=col>income</th></tr></thead>\n",
       "<tbody>\n",
       "\t<tr><td>39                </td><td>State-gov         </td><td>77516             </td><td>Bachelors         </td><td>13                </td><td>Never-married     </td><td>Adm-clerical      </td><td>Not-in-family     </td><td>White             </td><td>Male              </td><td>2174              </td><td>0                 </td><td>40                </td><td>United-States     </td><td>small             </td></tr>\n",
       "\t<tr><td>50                </td><td>Self-emp-not-inc  </td><td>83311             </td><td>Bachelors         </td><td>13                </td><td>Married-civ-spouse</td><td>Exec-managerial   </td><td>Husband           </td><td>White             </td><td>Male              </td><td>   0              </td><td>0                 </td><td>13                </td><td>United-States     </td><td>small             </td></tr>\n",
       "</tbody>\n",
       "</table>\n"
      ],
      "text/latex": [
       "\\begin{tabular}{r|lllllllllllllll}\n",
       " age & workclass & fnlwgt & education & education-num & marital-status & occupation & relationship & race & sex & capital-gain & capital-loss & hours-per-week & native-country & income\\\\\n",
       "\\hline\n",
       "\t 39                 & State-gov          & 77516              & Bachelors          & 13                 & Never-married      & Adm-clerical       & Not-in-family      & White              & Male               & 2174               & 0                  & 40                 & United-States      & small             \\\\\n",
       "\t 50                 & Self-emp-not-inc   & 83311              & Bachelors          & 13                 & Married-civ-spouse & Exec-managerial    & Husband            & White              & Male               &    0               & 0                  & 13                 & United-States      & small             \\\\\n",
       "\\end{tabular}\n"
      ],
      "text/markdown": [
       "\n",
       "| age | workclass | fnlwgt | education | education-num | marital-status | occupation | relationship | race | sex | capital-gain | capital-loss | hours-per-week | native-country | income |\n",
       "|---|---|---|---|---|---|---|---|---|---|---|---|---|---|---|\n",
       "| 39                 | State-gov          | 77516              | Bachelors          | 13                 | Never-married      | Adm-clerical       | Not-in-family      | White              | Male               | 2174               | 0                  | 40                 | United-States      | small              |\n",
       "| 50                 | Self-emp-not-inc   | 83311              | Bachelors          | 13                 | Married-civ-spouse | Exec-managerial    | Husband            | White              | Male               |    0               | 0                  | 13                 | United-States      | small              |\n",
       "\n"
      ],
      "text/plain": [
       "  age workclass        fnlwgt education education-num marital-status    \n",
       "1 39  State-gov        77516  Bachelors 13            Never-married     \n",
       "2 50  Self-emp-not-inc 83311  Bachelors 13            Married-civ-spouse\n",
       "  occupation      relationship  race  sex  capital-gain capital-loss\n",
       "1 Adm-clerical    Not-in-family White Male 2174         0           \n",
       "2 Exec-managerial Husband       White Male    0         0           \n",
       "  hours-per-week native-country income\n",
       "1 40             United-States  small \n",
       "2 13             United-States  small "
      ]
     },
     "metadata": {},
     "output_type": "display_data"
    },
    {
     "name": "stdout",
     "output_type": "stream",
     "text": [
      "'data.frame':\t48842 obs. of  15 variables:\n",
      " $ age           : int  39 50 38 53 28 37 49 52 31 42 ...\n",
      " $ workclass     : Factor w/ 8 levels \"Federal-gov\",..: 7 6 4 4 4 4 4 6 4 4 ...\n",
      " $ fnlwgt        : int  77516 83311 215646 234721 338409 284582 160187 209642 45781 159449 ...\n",
      " $ education     : Ord.factor w/ 16 levels \"Preschool\"<\"1st-4th\"<..: 14 14 9 7 14 15 5 9 15 14 ...\n",
      " $ education-num : int  13 13 9 7 13 14 5 9 14 13 ...\n",
      " $ marital-status: Factor w/ 7 levels \"Divorced\",\"Married-AF-spouse\",..: 5 3 1 3 3 3 4 3 5 3 ...\n",
      " $ occupation    : Factor w/ 14 levels \"Adm-clerical\",..: 1 4 6 6 10 4 8 4 10 4 ...\n",
      " $ relationship  : Factor w/ 6 levels \"Husband\",\"Not-in-family\",..: 2 1 2 1 6 6 2 1 2 1 ...\n",
      " $ race          : Factor w/ 5 levels \"Amer-Indian-Eskimo\",..: 5 5 5 3 3 5 3 5 5 5 ...\n",
      " $ sex           : Factor w/ 2 levels \"Female\",\"Male\": 2 2 2 2 1 1 1 2 1 2 ...\n",
      " $ capital-gain  : int  2174 0 0 0 0 0 0 0 14084 5178 ...\n",
      " $ capital-loss  : int  0 0 0 0 0 0 0 0 0 0 ...\n",
      " $ hours-per-week: int  40 13 40 40 40 40 16 45 50 40 ...\n",
      " $ native-country: Factor w/ 41 levels \"Cambodia\",\"Canada\",..: 39 39 39 39 5 39 23 39 39 39 ...\n",
      " $ income        : Ord.factor w/ 2 levels \"small\"<\"large\": 1 1 1 1 1 1 1 2 2 2 ...\n"
     ]
    }
   ],
   "source": [
    "AdultUCI[1:2,]\n",
    "str(AdultUCI)"
   ]
  },
  {
   "cell_type": "markdown",
   "metadata": {},
   "source": [
    "The data is a combination of categorical and numeric attributes. It needs some data cleaning before it can be converted into transaction data for any association rule mining. First, remove the attributes **fnlwgt** and **education-num**. **fnlwgt** is a weight calculated by the creator of the data set. **education-num** is just a numeric representation of the attribute education which is also part of the data set.\n",
    "\n",
    "Assigning a column to NULL will delete the column from the dataframe."
   ]
  },
  {
   "cell_type": "code",
   "execution_count": 5,
   "metadata": {},
   "outputs": [],
   "source": [
    "AdultUCI[[\"fnlwgt\"]] <- NULL\n",
    "AdultUCI[[\"education-num\"]] <- NULL"
   ]
  },
  {
   "cell_type": "markdown",
   "metadata": {},
   "source": [
    "Next, we want to map the four numeric attributes (age, hours-per-week, capital-gain and capital-loss) to ordinal attributes by building suitable categories. We will divide the attributes age and hours-per-week into suitable categories using knowledge about typical age groups and working hours. For the two capital related attributes, we will create a category called None for cases which have no gains/losses. We will further divide the groups with gains/losses at their median into two categories Low and High."
   ]
  },
  {
   "cell_type": "markdown",
   "metadata": {},
   "source": [
    "**Ordered factors are different from factors:** Ordered values are similar to factor type data and are like an extension of factors. To create an ordered factor in R, you have two options:\n",
    "- Use the factor() function with the argument ordered=TRUE.\n",
    "- Use the ordered() function.\n",
    "\n",
    "Use the factor() function for nominal data and one of the above options for ordinal data. R then will treat the data appropriately. Factor() and ordered() are used the same way, with the same arguments. The former creates factors which may be ordered or not depending on the ordered argument and the later creates ordered factors.\n",
    "\n",
    "**cut():** cut() divides the range of values in an array **`x`** into intervals and codes the values in **`x`** according to the interval they fall into. The leftmost interval corresponds to level one, the next leftmost to level two and so on.\n",
    "\n",
    "So in below lines of code, we are splitting the column data into intervals as specified in the vector c() and coding them into values according to a list of labels. The order of labels is important. labels = c(\"Young\", \"Middle-aged\", \"Senior\", \"Old\") is different from labels = c(\"Old\",\"Senior\", \"Middle-aged\",\"Young\"). You have to tell R the right order of labels."
   ]
  },
  {
   "cell_type": "code",
   "execution_count": 6,
   "metadata": {},
   "outputs": [],
   "source": [
    "# In this example we will use factor() to create an ordered factor\n",
    "AdultUCI[[ \"age\"]] <- factor(cut(AdultUCI[[ \"age\"]], c(15,25,45,65,100)), labels = c(\"Young\", \"Middle-aged\", \"Senior\", \"Old\"), ordered=TRUE)"
   ]
  },
  {
   "cell_type": "code",
   "execution_count": 7,
   "metadata": {},
   "outputs": [],
   "source": [
    "# In this example we use ordered() to create an ordered factor\n",
    "AdultUCI[[ \"hours-per-week\"]] <- ordered(cut(AdultUCI[[ \"hours-per-week\"]], c(0,25,40,60,168)), labels = c(\"Part-time\", \"Full-time\", \"Over-time\", \"Workaholic\"))"
   ]
  },
  {
   "cell_type": "code",
   "execution_count": 8,
   "metadata": {},
   "outputs": [
    {
     "data": {
      "text/html": [
       "7298"
      ],
      "text/latex": [
       "7298"
      ],
      "text/markdown": [
       "7298"
      ],
      "text/plain": [
       "[1] 7298"
      ]
     },
     "metadata": {},
     "output_type": "display_data"
    }
   ],
   "source": [
    "median(AdultUCI[[ \"capital-gain\"]][AdultUCI[[ \"capital-gain\"]]>0])"
   ]
  },
  {
   "cell_type": "code",
   "execution_count": 9,
   "metadata": {},
   "outputs": [],
   "source": [
    "AdultUCI[[ \"capital-gain\"]] <- ordered(cut(AdultUCI[[ \"capital-gain\"]], c(-Inf,0,median(AdultUCI[[ \"capital-gain\"]][AdultUCI[[ \"capital-gain\"]]>0]),Inf)),labels = c(\"None\", \"Low\", \"High\"))"
   ]
  },
  {
   "cell_type": "code",
   "execution_count": 10,
   "metadata": {},
   "outputs": [],
   "source": [
    "AdultUCI[[ \"capital-loss\"]] <- ordered(cut(AdultUCI[[ \"capital-loss\"]],c(-Inf,0, median(AdultUCI[[ \"capital-loss\"]][AdultUCI[[ \"capital-loss\"]]>0]),Inf)),labels = c(\"none\", \"low\", \"high\"))"
   ]
  },
  {
   "cell_type": "code",
   "execution_count": 11,
   "metadata": {},
   "outputs": [
    {
     "data": {
      "text/html": [
       "<table>\n",
       "<thead><tr><th scope=col>age</th><th scope=col>workclass</th><th scope=col>education</th><th scope=col>marital-status</th><th scope=col>occupation</th><th scope=col>relationship</th><th scope=col>race</th><th scope=col>sex</th><th scope=col>capital-gain</th><th scope=col>capital-loss</th><th scope=col>hours-per-week</th><th scope=col>native-country</th><th scope=col>income</th></tr></thead>\n",
       "<tbody>\n",
       "\t<tr><td>Middle-aged       </td><td>State-gov         </td><td>Bachelors         </td><td>Never-married     </td><td>Adm-clerical      </td><td>Not-in-family     </td><td>White             </td><td>Male              </td><td>Low               </td><td>none              </td><td>Full-time         </td><td>United-States     </td><td>small             </td></tr>\n",
       "\t<tr><td>Senior            </td><td>Self-emp-not-inc  </td><td>Bachelors         </td><td>Married-civ-spouse</td><td>Exec-managerial   </td><td>Husband           </td><td>White             </td><td>Male              </td><td>None              </td><td>none              </td><td>Part-time         </td><td>United-States     </td><td>small             </td></tr>\n",
       "\t<tr><td>Middle-aged       </td><td>Private           </td><td>HS-grad           </td><td>Divorced          </td><td>Handlers-cleaners </td><td>Not-in-family     </td><td>White             </td><td>Male              </td><td>None              </td><td>none              </td><td>Full-time         </td><td>United-States     </td><td>small             </td></tr>\n",
       "\t<tr><td>Senior            </td><td>Private           </td><td>11th              </td><td>Married-civ-spouse</td><td>Handlers-cleaners </td><td>Husband           </td><td>Black             </td><td>Male              </td><td>None              </td><td>none              </td><td>Full-time         </td><td>United-States     </td><td>small             </td></tr>\n",
       "\t<tr><td>Middle-aged       </td><td>Private           </td><td>Bachelors         </td><td>Married-civ-spouse</td><td>Prof-specialty    </td><td>Wife              </td><td>Black             </td><td>Female            </td><td>None              </td><td>none              </td><td>Full-time         </td><td>Cuba              </td><td>small             </td></tr>\n",
       "\t<tr><td>Middle-aged       </td><td>Private           </td><td>Masters           </td><td>Married-civ-spouse</td><td>Exec-managerial   </td><td>Wife              </td><td>White             </td><td>Female            </td><td>None              </td><td>none              </td><td>Full-time         </td><td>United-States     </td><td>small             </td></tr>\n",
       "</tbody>\n",
       "</table>\n"
      ],
      "text/latex": [
       "\\begin{tabular}{r|lllllllllllll}\n",
       " age & workclass & education & marital-status & occupation & relationship & race & sex & capital-gain & capital-loss & hours-per-week & native-country & income\\\\\n",
       "\\hline\n",
       "\t Middle-aged        & State-gov          & Bachelors          & Never-married      & Adm-clerical       & Not-in-family      & White              & Male               & Low                & none               & Full-time          & United-States      & small             \\\\\n",
       "\t Senior             & Self-emp-not-inc   & Bachelors          & Married-civ-spouse & Exec-managerial    & Husband            & White              & Male               & None               & none               & Part-time          & United-States      & small             \\\\\n",
       "\t Middle-aged        & Private            & HS-grad            & Divorced           & Handlers-cleaners  & Not-in-family      & White              & Male               & None               & none               & Full-time          & United-States      & small             \\\\\n",
       "\t Senior             & Private            & 11th               & Married-civ-spouse & Handlers-cleaners  & Husband            & Black              & Male               & None               & none               & Full-time          & United-States      & small             \\\\\n",
       "\t Middle-aged        & Private            & Bachelors          & Married-civ-spouse & Prof-specialty     & Wife               & Black              & Female             & None               & none               & Full-time          & Cuba               & small             \\\\\n",
       "\t Middle-aged        & Private            & Masters            & Married-civ-spouse & Exec-managerial    & Wife               & White              & Female             & None               & none               & Full-time          & United-States      & small             \\\\\n",
       "\\end{tabular}\n"
      ],
      "text/markdown": [
       "\n",
       "| age | workclass | education | marital-status | occupation | relationship | race | sex | capital-gain | capital-loss | hours-per-week | native-country | income |\n",
       "|---|---|---|---|---|---|---|---|---|---|---|---|---|\n",
       "| Middle-aged        | State-gov          | Bachelors          | Never-married      | Adm-clerical       | Not-in-family      | White              | Male               | Low                | none               | Full-time          | United-States      | small              |\n",
       "| Senior             | Self-emp-not-inc   | Bachelors          | Married-civ-spouse | Exec-managerial    | Husband            | White              | Male               | None               | none               | Part-time          | United-States      | small              |\n",
       "| Middle-aged        | Private            | HS-grad            | Divorced           | Handlers-cleaners  | Not-in-family      | White              | Male               | None               | none               | Full-time          | United-States      | small              |\n",
       "| Senior             | Private            | 11th               | Married-civ-spouse | Handlers-cleaners  | Husband            | Black              | Male               | None               | none               | Full-time          | United-States      | small              |\n",
       "| Middle-aged        | Private            | Bachelors          | Married-civ-spouse | Prof-specialty     | Wife               | Black              | Female             | None               | none               | Full-time          | Cuba               | small              |\n",
       "| Middle-aged        | Private            | Masters            | Married-civ-spouse | Exec-managerial    | Wife               | White              | Female             | None               | none               | Full-time          | United-States      | small              |\n",
       "\n"
      ],
      "text/plain": [
       "  age         workclass        education marital-status     occupation       \n",
       "1 Middle-aged State-gov        Bachelors Never-married      Adm-clerical     \n",
       "2 Senior      Self-emp-not-inc Bachelors Married-civ-spouse Exec-managerial  \n",
       "3 Middle-aged Private          HS-grad   Divorced           Handlers-cleaners\n",
       "4 Senior      Private          11th      Married-civ-spouse Handlers-cleaners\n",
       "5 Middle-aged Private          Bachelors Married-civ-spouse Prof-specialty   \n",
       "6 Middle-aged Private          Masters   Married-civ-spouse Exec-managerial  \n",
       "  relationship  race  sex    capital-gain capital-loss hours-per-week\n",
       "1 Not-in-family White Male   Low          none         Full-time     \n",
       "2 Husband       White Male   None         none         Part-time     \n",
       "3 Not-in-family White Male   None         none         Full-time     \n",
       "4 Husband       Black Male   None         none         Full-time     \n",
       "5 Wife          Black Female None         none         Full-time     \n",
       "6 Wife          White Female None         none         Full-time     \n",
       "  native-country income\n",
       "1 United-States  small \n",
       "2 United-States  small \n",
       "3 United-States  small \n",
       "4 United-States  small \n",
       "5 Cuba           small \n",
       "6 United-States  small "
      ]
     },
     "metadata": {},
     "output_type": "display_data"
    },
    {
     "name": "stdout",
     "output_type": "stream",
     "text": [
      "'data.frame':\t48842 obs. of  13 variables:\n",
      " $ age           : Ord.factor w/ 4 levels \"Young\"<\"Middle-aged\"<..: 2 3 2 3 2 2 3 3 2 2 ...\n",
      " $ workclass     : Factor w/ 8 levels \"Federal-gov\",..: 7 6 4 4 4 4 4 6 4 4 ...\n",
      " $ education     : Ord.factor w/ 16 levels \"Preschool\"<\"1st-4th\"<..: 14 14 9 7 14 15 5 9 15 14 ...\n",
      " $ marital-status: Factor w/ 7 levels \"Divorced\",\"Married-AF-spouse\",..: 5 3 1 3 3 3 4 3 5 3 ...\n",
      " $ occupation    : Factor w/ 14 levels \"Adm-clerical\",..: 1 4 6 6 10 4 8 4 10 4 ...\n",
      " $ relationship  : Factor w/ 6 levels \"Husband\",\"Not-in-family\",..: 2 1 2 1 6 6 2 1 2 1 ...\n",
      " $ race          : Factor w/ 5 levels \"Amer-Indian-Eskimo\",..: 5 5 5 3 3 5 3 5 5 5 ...\n",
      " $ sex           : Factor w/ 2 levels \"Female\",\"Male\": 2 2 2 2 1 1 1 2 1 2 ...\n",
      " $ capital-gain  : Ord.factor w/ 3 levels \"None\"<\"Low\"<\"High\": 2 1 1 1 1 1 1 1 3 2 ...\n",
      " $ capital-loss  : Ord.factor w/ 3 levels \"none\"<\"low\"<\"high\": 1 1 1 1 1 1 1 1 1 1 ...\n",
      " $ hours-per-week: Ord.factor w/ 4 levels \"Part-time\"<\"Full-time\"<..: 2 1 2 2 2 2 1 3 3 2 ...\n",
      " $ native-country: Factor w/ 41 levels \"Cambodia\",\"Canada\",..: 39 39 39 39 5 39 23 39 39 39 ...\n",
      " $ income        : Ord.factor w/ 2 levels \"small\"<\"large\": 1 1 1 1 1 1 1 2 2 2 ...\n"
     ]
    }
   ],
   "source": [
    "# check our work\n",
    "head(AdultUCI)\n",
    "str(AdultUCI)"
   ]
  },
  {
   "cell_type": "markdown",
   "metadata": {},
   "source": [
    "Now, the data can be automatically recoded as a binary incidence matrix by coercing the data set to transactions."
   ]
  },
  {
   "cell_type": "code",
   "execution_count": 12,
   "metadata": {},
   "outputs": [
    {
     "data": {
      "text/plain": [
       "transactions in sparse format with\n",
       " 48842 transactions (rows) and\n",
       " 115 items (columns)"
      ]
     },
     "metadata": {},
     "output_type": "display_data"
    }
   ],
   "source": [
    "Adult <- as(AdultUCI, \"transactions\")\n",
    "Adult"
   ]
  },
  {
   "cell_type": "markdown",
   "metadata": {},
   "source": [
    "There are 115 unique levels of data which form as columns and of course 48842 transactions for the 48842 rows of original data."
   ]
  },
  {
   "cell_type": "code",
   "execution_count": 13,
   "metadata": {},
   "outputs": [
    {
     "name": "stdout",
     "output_type": "stream",
     "text": [
      "    items                               transactionID\n",
      "[1] {age=Middle-aged,                                \n",
      "     workclass=State-gov,                            \n",
      "     education=Bachelors,                            \n",
      "     marital-status=Never-married,                   \n",
      "     occupation=Adm-clerical,                        \n",
      "     relationship=Not-in-family,                     \n",
      "     race=White,                                     \n",
      "     sex=Male,                                       \n",
      "     capital-gain=Low,                               \n",
      "     capital-loss=none,                              \n",
      "     hours-per-week=Full-time,                       \n",
      "     native-country=United-States,                   \n",
      "     income=small}                                  1\n",
      "[2] {age=Senior,                                     \n",
      "     workclass=Self-emp-not-inc,                     \n",
      "     education=Bachelors,                            \n",
      "     marital-status=Married-civ-spouse,              \n",
      "     occupation=Exec-managerial,                     \n",
      "     relationship=Husband,                           \n",
      "     race=White,                                     \n",
      "     sex=Male,                                       \n",
      "     capital-gain=None,                              \n",
      "     capital-loss=none,                              \n",
      "     hours-per-week=Part-time,                       \n",
      "     native-country=United-States,                   \n",
      "     income=small}                                  2\n"
     ]
    }
   ],
   "source": [
    "inspect(Adult[1:2])"
   ]
  },
  {
   "cell_type": "markdown",
   "metadata": {},
   "source": [
    "The 115 categorical attributes were automatically recoded into 115 binary items. During encoding, the item labels were generated in the form of `<variable name>=<category label>`. Note that for cases with missing values all items corresponding to the attributes with the missing values were set to zero."
   ]
  },
  {
   "cell_type": "code",
   "execution_count": 14,
   "metadata": {},
   "outputs": [
    {
     "data": {
      "text/plain": [
       "transactions as itemMatrix in sparse format with\n",
       " 48842 rows (elements/itemsets/transactions) and\n",
       " 115 columns (items) and a density of 0.1089939 \n",
       "\n",
       "most frequent items:\n",
       "           capital-loss=none            capital-gain=None \n",
       "                       46560                        44807 \n",
       "native-country=United-States                   race=White \n",
       "                       43832                        41762 \n",
       "           workclass=Private                      (Other) \n",
       "                       33906                       401333 \n",
       "\n",
       "element (itemset/transaction) length distribution:\n",
       "sizes\n",
       "    9    10    11    12    13 \n",
       "   19   971  2067 15623 30162 \n",
       "\n",
       "   Min. 1st Qu.  Median    Mean 3rd Qu.    Max. \n",
       "   9.00   12.00   13.00   12.53   13.00   13.00 \n",
       "\n",
       "includes extended item information - examples:\n",
       "           labels variables      levels\n",
       "1       age=Young       age       Young\n",
       "2 age=Middle-aged       age Middle-aged\n",
       "3      age=Senior       age      Senior\n",
       "\n",
       "includes extended transaction information - examples:\n",
       "  transactionID\n",
       "1             1\n",
       "2             2\n",
       "3             3"
      ]
     },
     "metadata": {},
     "output_type": "display_data"
    }
   ],
   "source": [
    "summary(Adult)"
   ]
  },
  {
   "cell_type": "markdown",
   "metadata": {},
   "source": [
    "The summary of the transaction data set gives a rough overview showing the most frequent items, the length distribution of the transactions and the extended item information which shows which variable and which value were used to create each binary item. \n",
    "\n",
    "In the first example we see that the item with label `age=Middle-aged` was generated by variable `age` and level `middle-aged`. `age=Middle-aged` is one of the 115 columns in the matrix. To see which items are important in the data set we can use itemFrequencyPlot(). To reduce the number of items, we only plot the item frequency for items with a support greater than 30% (using the parameter support). For better readability of the labels, we reduce the label size with the parameter cex.names."
   ]
  },
  {
   "cell_type": "code",
   "execution_count": 15,
   "metadata": {},
   "outputs": [
    {
     "data": {
      "image/png": "[encoded data removed]",
      "text/plain": [
       "plot without title"
      ]
     },
     "metadata": {},
     "output_type": "display_data"
    }
   ],
   "source": [
    "itemFrequencyPlot(Adult, support = 0.3, cex.names=0.8)"
   ]
  },
  {
   "cell_type": "markdown",
   "metadata": {},
   "source": [
    "### Interest Measures\n",
    "\n",
    "Many organizations generate a large amount of transaction data on a daily basis. For example, a department store like Macy’s stores customer shopping information at a large scale using check-out data. Association rule mining is one of the major techniques to detect and extract useful information from large scale transaction data.\n",
    "\n",
    "#### Support and Confidence\n",
    "\n",
    "Association rules are rules which surpass a user-specified minimum support and minimum confidence threshold. The support supp(X) of an itemset X is defined as the proportion of transactions in the data set which contain the itemset and the confidence of a rule is defined **_conf(X ⇒ Y )_** = **_supp(X ∪ Y )/supp(X)_**. Therefore, an association rule X ⇒ Y will satisfy below where $\\sigma$ and δ are the minimum support and minimum confidence, respectively.\n",
    "\n",
    "$$ supp(X ∪ Y ) ≥ \\sigma $$\n",
    "\n",
    "                                                and\n",
    "\n",
    "$$ conf(X ⇒ Y ) ≥ δ $$\n",
    "\n",
    "\n",
    "\n",
    "#### lift \n",
    "\n",
    "Another popular measure for association rules is lift. The lift of a rule is defined as:\n",
    "\n",
    "$$ lift(X ⇒ Y ) = \\frac{supp(X ∪ Y )}{(supp(X)supp(Y ))} $$\n",
    "\n",
    "The above formula can be interpreted as the deviation of the support of the whole rule from the support expected under independence given the supports of both sides of the rule. Greater lift values indicate stronger associations. Measures like support, confidence and lift are generally called interest measures because they help with focusing on potentially more interesting rules.\n",
    "\n",
    "[Reading](https://en.wikipedia.org/wiki/Association_rule_learning#Lift) for a more detailed explanation."
   ]
  },
  {
   "cell_type": "markdown",
   "metadata": {},
   "source": [
    "Next, call the function apriori() to find all rules with a minimum support of 1% and a confidence of 60%."
   ]
  },
  {
   "cell_type": "code",
   "execution_count": 16,
   "metadata": {},
   "outputs": [
    {
     "name": "stdout",
     "output_type": "stream",
     "text": [
      "Apriori\n",
      "\n",
      "Parameter specification:\n",
      " confidence minval smax arem  aval originalSupport maxtime support minlen\n",
      "        0.6    0.1    1 none FALSE            TRUE       5    0.01      1\n",
      " maxlen target   ext\n",
      "     20  rules FALSE\n",
      "\n",
      "Algorithmic control:\n",
      " filter tree heap memopt load sort verbose\n",
      "    0.1 TRUE TRUE  FALSE TRUE    2    TRUE\n",
      "\n",
      "Absolute minimum support count: 488 \n",
      "\n",
      "set item appearances ...[0 item(s)] done [0.00s].\n",
      "set transactions ...[115 item(s), 48842 transaction(s)] done [0.11s].\n",
      "sorting and recoding items ... [67 item(s)] done [0.02s].\n",
      "creating transaction tree ... done [0.05s].\n",
      "checking subsets of size 1 2 3 4 5 6 7 8 9 10 11 12 done [1.72s].\n",
      "writing ... [276709 rule(s)] done [0.07s].\n",
      "creating S4 object  ... done [0.12s].\n"
     ]
    }
   ],
   "source": [
    "rules <- apriori(Adult, parameter = list(support = 0.01, confidence = 0.6, maxlen=20))"
   ]
  },
  {
   "cell_type": "code",
   "execution_count": 17,
   "metadata": {},
   "outputs": [
    {
     "data": {
      "text/plain": [
       "set of 276709 rules "
      ]
     },
     "metadata": {},
     "output_type": "display_data"
    }
   ],
   "source": [
    "rules"
   ]
  },
  {
   "cell_type": "markdown",
   "metadata": {},
   "source": [
    "First, the function prints the used parameters. Apart from the specified minimum support and minimum confidence, all parameters have the default values. It is important to note that parameter `maxlen`, the maximum size of mined frequent itemsets, is by default restricted to 10. Longer association rules are only mined if `maxlen` is set to a higher value as we did, setting it to 20.\n",
    "\n",
    "\n",
    "The result of the mining algorithm is a set of 276709 rules. For an overview of the mined rules `summary()` can be used. It shows the number of rules, the most frequent items contained in the left-hand-side and the right-hand-side and their respective length distributions and summary statistics for the quality measures returned by the mining algorithm."
   ]
  },
  {
   "cell_type": "code",
   "execution_count": 18,
   "metadata": {},
   "outputs": [
    {
     "data": {
      "text/plain": [
       "set of 276709 rules\n",
       "\n",
       "rule length distribution (lhs + rhs):sizes\n",
       "    1     2     3     4     5     6     7     8     9    10    11    12 \n",
       "    6   432  4981 22127 52669 75104 67198 38094 13244  2588   257     9 \n",
       "\n",
       "   Min. 1st Qu.  Median    Mean 3rd Qu.    Max. \n",
       "  1.000   5.000   6.000   6.293   7.000  12.000 \n",
       "\n",
       "summary of quality measures:\n",
       "    support          confidence          lift             count      \n",
       " Min.   :0.01001   Min.   :0.6000   Min.   : 0.7171   Min.   :  489  \n",
       " 1st Qu.:0.01253   1st Qu.:0.7691   1st Qu.: 1.0100   1st Qu.:  612  \n",
       " Median :0.01701   Median :0.9052   Median : 1.0554   Median :  831  \n",
       " Mean   :0.02678   Mean   :0.8600   Mean   : 1.3110   Mean   : 1308  \n",
       " 3rd Qu.:0.02739   3rd Qu.:0.9543   3rd Qu.: 1.2981   3rd Qu.: 1338  \n",
       " Max.   :0.95328   Max.   :1.0000   Max.   :20.6826   Max.   :46560  \n",
       "\n",
       "mining info:\n",
       "  data ntransactions support confidence\n",
       " Adult         48842    0.01        0.6"
      ]
     },
     "metadata": {},
     "output_type": "display_data"
    }
   ],
   "source": [
    "summary(rules)"
   ]
  },
  {
   "cell_type": "markdown",
   "metadata": {},
   "source": [
    "As typical for association rule mining, the number of rules found is huge. `subset()`can be used to produce separate subsets of rules for each item which resulted from the variable `income` in the right-hand-side of the rule and those with lift measure exceeding 1.2."
   ]
  },
  {
   "cell_type": "code",
   "execution_count": 19,
   "metadata": {},
   "outputs": [],
   "source": [
    "rulesIncomeSmall <- subset(rules, subset = rhs %in% \"income=small\" & lift > 1.2)\n",
    "rulesIncomeLarge <- subset(rules, subset = rhs %in% \"income=large\" & lift > 1.2)"
   ]
  },
  {
   "cell_type": "markdown",
   "metadata": {},
   "source": [
    "`rulesIncomeSmall` has a set with rules for persons with a small income and `rulesIncomeLarge` is a set for persons with large income. For comparison, inspect both sets for the three rules with the highest confidence.\n"
   ]
  },
  {
   "cell_type": "code",
   "execution_count": 20,
   "metadata": {},
   "outputs": [
    {
     "name": "stdout",
     "output_type": "stream",
     "text": [
      "    lhs                               rhs               support confidence     lift count\n",
      "[1] {workclass=Private,                                                                  \n",
      "     marital-status=Never-married,                                                       \n",
      "     relationship=Own-child,                                                             \n",
      "     sex=Male,                                                                           \n",
      "     hours-per-week=Part-time,                                                           \n",
      "     native-country=United-States} => {income=small} 0.01074895  0.7104195 1.403653   525\n",
      "[2] {workclass=Private,                                                                  \n",
      "     marital-status=Never-married,                                                       \n",
      "     relationship=Own-child,                                                             \n",
      "     sex=Male,                                                                           \n",
      "     hours-per-week=Part-time}     => {income=small} 0.01144507  0.7102922 1.403402   559\n",
      "[3] {workclass=Private,                                                                  \n",
      "     marital-status=Never-married,                                                       \n",
      "     relationship=Own-child,                                                             \n",
      "     sex=Male,                                                                           \n",
      "     capital-gain=None,                                                                  \n",
      "     hours-per-week=Part-time,                                                           \n",
      "     native-country=United-States} => {income=small} 0.01046231  0.7097222 1.402276   511\n"
     ]
    }
   ],
   "source": [
    "inspect(head(rulesIncomeSmall, n = 3, by = \"confidence\"))"
   ]
  },
  {
   "cell_type": "code",
   "execution_count": 21,
   "metadata": {},
   "outputs": [
    {
     "name": "stdout",
     "output_type": "stream",
     "text": [
      "    lhs                                    rhs               support confidence     lift count\n",
      "[1] {marital-status=Married-civ-spouse,                                                       \n",
      "     capital-gain=High,                                                                       \n",
      "     native-country=United-States}      => {income=large} 0.01562180  0.6849192 4.266398   763\n",
      "[2] {marital-status=Married-civ-spouse,                                                       \n",
      "     capital-gain=High,                                                                       \n",
      "     capital-loss=none,                                                                       \n",
      "     native-country=United-States}      => {income=large} 0.01562180  0.6849192 4.266398   763\n",
      "[3] {relationship=Husband,                                                                    \n",
      "     race=White,                                                                              \n",
      "     capital-gain=High,                                                                       \n",
      "     native-country=United-States}      => {income=large} 0.01302158  0.6846071 4.264454   636\n"
     ]
    }
   ],
   "source": [
    "inspect(head(rulesIncomeLarge, n = 3, by = \"confidence\"))"
   ]
  },
  {
   "cell_type": "markdown",
   "metadata": {},
   "source": [
    "From the rules we see that workers in the private sector working part-time tend to have a small income while persons with high capital gain who are born in the US tend to have a large income. This example shows that by using subset selection and sorting, a set of mined associations can be analyzed even if it is huge. \n",
    "\n",
    "Next, we will write the mined rules to disk. The following write() command saves set of rules as the file named ‘data.csv’ in comma separated value (CSV) format."
   ]
  },
  {
   "cell_type": "code",
   "execution_count": 22,
   "metadata": {},
   "outputs": [],
   "source": [
    "write(rulesIncomeSmall, file = \"data.csv\", sep = \",\", col.names = NA)"
   ]
  },
  {
   "cell_type": "markdown",
   "metadata": {},
   "source": [
    "### Sampling\n",
    "\n",
    "\n",
    "Here we will see how sampling can be used in `arules` using the Adult data set again."
   ]
  },
  {
   "cell_type": "code",
   "execution_count": 23,
   "metadata": {},
   "outputs": [
    {
     "data": {
      "text/plain": [
       "transactions in sparse format with\n",
       " 48842 transactions (rows) and\n",
       " 115 items (columns)"
      ]
     },
     "metadata": {},
     "output_type": "display_data"
    }
   ],
   "source": [
    "Adult"
   ]
  },
  {
   "cell_type": "markdown",
   "metadata": {},
   "source": [
    "For an itemset _X_ with support τ = supp(X) and for an acceptable relative error of support $\\epsilon$ (an accuracy of 1 − $\\epsilon$) at a given confidence level c, the needed sample size **n** can be computed as shown below\n",
    "\n",
    "$$ n = \\frac{−2ln(c)}{ τ {\\epsilon}^2} $$\n",
    "\n",
    "$τ$ - denotes support in above formula\n",
    "\n",
    "For now, choose a minimum support of 5%. As an acceptable error rate for support $\\epsilon$ choose 10% and as the confidence level (1 − $\\epsilon$) choose 90%."
   ]
  },
  {
   "cell_type": "code",
   "execution_count": 24,
   "metadata": {},
   "outputs": [
    {
     "data": {
      "text/html": [
       "421.442062631305"
      ],
      "text/latex": [
       "421.442062631305"
      ],
      "text/markdown": [
       "421.442062631305"
      ],
      "text/plain": [
       "[1] 421.4421"
      ]
     },
     "metadata": {},
     "output_type": "display_data"
    }
   ],
   "source": [
    "supp <- 0.05\n",
    "epsilon <- 0.1\n",
    "c <- 0.9\n",
    "n <- -2 * log(c)/ (supp * epsilon^2)\n",
    "n"
   ]
  },
  {
   "cell_type": "markdown",
   "metadata": {},
   "source": [
    "The resulting sample size is considerably smaller than the size of the original database. With sample(), a sample of size n with replacement from the database can be produced."
   ]
  },
  {
   "cell_type": "code",
   "execution_count": 25,
   "metadata": {},
   "outputs": [],
   "source": [
    "AdultSample <- sample(Adult, n, replace = TRUE)"
   ]
  },
  {
   "cell_type": "markdown",
   "metadata": {},
   "source": [
    "The sample can be compared with the database (the population) using an item frequency plot. The item frequencies in the sample are displayed as bars and the item frequencies in the original database are represented by the line. For better readability of the labels, only display frequent items in the plot and reduce the label size with the parameter cex.names."
   ]
  },
  {
   "cell_type": "code",
   "execution_count": 26,
   "metadata": {},
   "outputs": [
    {
     "data": {
      "image/png": "[encoded data removed]",
      "text/plain": [
       "plot without title"
      ]
     },
     "metadata": {},
     "output_type": "display_data"
    }
   ],
   "source": [
    "itemFrequencyPlot(AdultSample, population = Adult, support = supp, cex.names = 0.7)"
   ]
  },
  {
   "cell_type": "markdown",
   "metadata": {},
   "source": [
    "To compare the speed-up reached by sampling we use the `Eclat` algorithm to mine frequent itemsets on both the database and the sample and compare the system time (in seconds) used for mining."
   ]
  },
  {
   "cell_type": "markdown",
   "metadata": {},
   "source": [
    "**Reference:** [Eclat](https://www.rdocumentation.org/packages/arules/versions/1.5-0/topics/eclat)\n",
    "\n",
    "**Arguments**\n",
    "- data:  object of class transactions or any data structure which can be coerced into transactions (e.g., binary matrix, data.frame).\n",
    "- parameter: object of class [ECparameter](https://www.rdocumentation.org/packages/arules/versions/1.5-0/topics/ASparameter-classes) or named list (default values are: support 0.1 and maxlen 5)\n",
    "- control object of class [ECcontrol](https://www.rdocumentation.org/packages/arules/versions/1.5-0/topics/AScontrol-classes) or named list for algorithmic controls.\n",
    "\n",
    "In the below code, the parameter `verbose = FALSE` will suppress all the summary details of running the algorithm."
   ]
  },
  {
   "cell_type": "code",
   "execution_count": 27,
   "metadata": {},
   "outputs": [
    {
     "data": {
      "text/plain": [
       "   user  system elapsed \n",
       "  0.217   0.000   0.219 "
      ]
     },
     "metadata": {},
     "output_type": "display_data"
    }
   ],
   "source": [
    "time <- system.time(itemsets <- eclat(data = Adult, parameter = list(support = supp), control = list(verbose = FALSE)))\n",
    "time"
   ]
  },
  {
   "cell_type": "code",
   "execution_count": 28,
   "metadata": {},
   "outputs": [
    {
     "data": {
      "text/plain": [
       "   user  system elapsed \n",
       "  0.021   0.000   0.021 "
      ]
     },
     "metadata": {},
     "output_type": "display_data"
    }
   ],
   "source": [
    "timeSample <- system.time(itemsetsSample <- eclat(AdultSample, parameter = list(support = supp), control = list(verbose = FALSE)))\n",
    "timeSample"
   ]
  },
  {
   "cell_type": "markdown",
   "metadata": {},
   "source": [
    "The first element of the vector returned by system.time() gives the (user) CPU time needed for the execution of the statement in its argument. Therefore, mining the sample instead of the whole data base results in a speed-up factor as calculated below"
   ]
  },
  {
   "cell_type": "code",
   "execution_count": 29,
   "metadata": {},
   "outputs": [
    {
     "data": {
      "text/html": [
       "<strong>user.self:</strong> 10.333333333333"
      ],
      "text/latex": [
       "\\textbf{user.self:} 10.333333333333"
      ],
      "text/markdown": [
       "**user.self:** 10.333333333333"
      ],
      "text/plain": [
       "user.self \n",
       " 10.33333 "
      ]
     },
     "metadata": {},
     "output_type": "display_data"
    }
   ],
   "source": [
    "# speed up\n",
    "time[1] / timeSample[1]"
   ]
  },
  {
   "cell_type": "markdown",
   "metadata": {},
   "source": [
    "To evaluate the accuracy for the itemsets mined from the sample, analyze the difference between the two sets"
   ]
  },
  {
   "cell_type": "code",
   "execution_count": 30,
   "metadata": {},
   "outputs": [
    {
     "data": {
      "text/plain": [
       "set of 8496 itemsets "
      ]
     },
     "metadata": {},
     "output_type": "display_data"
    }
   ],
   "source": [
    "itemsets"
   ]
  },
  {
   "cell_type": "code",
   "execution_count": 31,
   "metadata": {},
   "outputs": [
    {
     "data": {
      "text/plain": [
       "set of 8613 itemsets "
      ]
     },
     "metadata": {},
     "output_type": "display_data"
    }
   ],
   "source": [
    "itemsetsSample"
   ]
  },
  {
   "cell_type": "markdown",
   "metadata": {},
   "source": [
    "The two sets have roughly the same size. To check if the sets contain similar itemsets, match the sets and see what fraction of frequent itemsets found in the database were also found in the sample\n",
    "\n",
    "**Reference:** [match()](http://rfunction.com/archives/910)\n",
    "\n",
    "The match() function will look for elements of itemsets that match those of itemsetsSample. Notice that only the first occurrence of each element of itemsets is reported."
   ]
  },
  {
   "cell_type": "code",
   "execution_count": 32,
   "metadata": {},
   "outputs": [
    {
     "data": {
      "text/html": [
       "<ol class=list-inline>\n",
       "\t<li>42</li>\n",
       "\t<li>43</li>\n",
       "\t<li>44</li>\n",
       "\t<li>47</li>\n",
       "\t<li>49</li>\n",
       "\t<li>50</li>\n",
       "\t<li>51</li>\n",
       "\t<li>52</li>\n",
       "\t<li>53</li>\n",
       "\t<li>0</li>\n",
       "</ol>\n"
      ],
      "text/latex": [
       "\\begin{enumerate*}\n",
       "\\item 42\n",
       "\\item 43\n",
       "\\item 44\n",
       "\\item 47\n",
       "\\item 49\n",
       "\\item 50\n",
       "\\item 51\n",
       "\\item 52\n",
       "\\item 53\n",
       "\\item 0\n",
       "\\end{enumerate*}\n"
      ],
      "text/markdown": [
       "1. 42\n",
       "2. 43\n",
       "3. 44\n",
       "4. 47\n",
       "5. 49\n",
       "6. 50\n",
       "7. 51\n",
       "8. 52\n",
       "9. 53\n",
       "10. 0\n",
       "\n",
       "\n"
      ],
      "text/plain": [
       " [1] 42 43 44 47 49 50 51 52 53  0"
      ]
     },
     "metadata": {},
     "output_type": "display_data"
    }
   ],
   "source": [
    "match <- match(itemsets, itemsetsSample, nomatch = 0)\n",
    "match[1:10]\n",
    "\n",
    "# itemsets where there is no match: 0 is assigned as mentioned in the parameter nomatch=0"
   ]
  },
  {
   "cell_type": "code",
   "execution_count": 33,
   "metadata": {},
   "outputs": [
    {
     "data": {
      "text/html": [
       "0.875823917137476"
      ],
      "text/latex": [
       "0.875823917137476"
      ],
      "text/markdown": [
       "0.875823917137476"
      ],
      "text/plain": [
       "[1] 0.8758239"
      ]
     },
     "metadata": {},
     "output_type": "display_data"
    }
   ],
   "source": [
    "# remove no matches\n",
    "sum(match > 0) / length(itemsets)"
   ]
  },
  {
   "cell_type": "markdown",
   "metadata": {},
   "source": [
    "Almost all frequent itemsets were found using the sample. The summaries of the support of the frequent itemsets which were not found in the sample and the itemsets which were frequent in the sample although they were infrequent in the database, respectively, give:"
   ]
  },
  {
   "cell_type": "code",
   "execution_count": 34,
   "metadata": {},
   "outputs": [
    {
     "data": {
      "text/plain": [
       "   Min. 1st Qu.  Median    Mean 3rd Qu.    Max. \n",
       "0.05002 0.05187 0.05460 0.05568 0.05826 0.07741 "
      ]
     },
     "metadata": {},
     "output_type": "display_data"
    }
   ],
   "source": [
    "#summary of the support of the frequent itemsets which were not found in the sample\n",
    "summary(quality(itemsets[match == 0])$support)"
   ]
  },
  {
   "cell_type": "code",
   "execution_count": 35,
   "metadata": {},
   "outputs": [
    {
     "data": {
      "text/plain": [
       "   Min. 1st Qu.  Median    Mean 3rd Qu.    Max. \n",
       "0.05226 0.05226 0.05701 0.05727 0.05938 0.07838 "
      ]
     },
     "metadata": {},
     "output_type": "display_data"
    }
   ],
   "source": [
    "#summary of the support of the itemsets which were frequent in the sample although they were infrequent in the database\n",
    "summary(quality(itemsetsSample[-match])$support)"
   ]
  },
  {
   "cell_type": "markdown",
   "metadata": {},
   "source": [
    "This shows that only itemsets with support very close to the minimum support were falsely missed or found. For the frequent itemsets which were found in the database and in the sample, calculate accuracy from the error rate."
   ]
  },
  {
   "cell_type": "code",
   "execution_count": 36,
   "metadata": {},
   "outputs": [
    {
     "data": {
      "text/plain": [
       "   Min. 1st Qu.  Median    Mean 3rd Qu.    Max. \n",
       " 0.4317  0.8295  0.9010  0.8830  0.9568  1.0000 "
      ]
     },
     "metadata": {},
     "output_type": "display_data"
    }
   ],
   "source": [
    "supportItemsets <- quality(itemsets[which(match > 0)])$support\n",
    "supportSample <- quality(itemsetsSample[match])$support\n",
    "accuracy <- 1 - abs(supportSample - supportItemsets) / supportItemsets\n",
    "summary(accuracy)"
   ]
  },
  {
   "cell_type": "markdown",
   "metadata": {},
   "source": [
    "The summary shows that sampling resulted in finding the support of itemsets with high accuracy. This small example illustrates that for extremely large databases or for applications where mining time is important, sampling can be a powerful technique."
   ]
  },
  {
   "cell_type": "markdown",
   "metadata": {},
   "source": [
    "# Save your notebook, then `File > Close and Halt`"
   ]
  }
 ],
 "metadata": {
  "anaconda-cloud": {},
  "kernelspec": {
   "display_name": "R",
   "language": "R",
   "name": "ir"
  },
  "language_info": {
   "codemirror_mode": "r",
   "file_extension": ".r",
   "mimetype": "text/x-r-source",
   "name": "R",
   "pygments_lexer": "r",
   "version": "3.5.1"
  }
 },
 "nbformat": 4,
 "nbformat_minor": 1
}
