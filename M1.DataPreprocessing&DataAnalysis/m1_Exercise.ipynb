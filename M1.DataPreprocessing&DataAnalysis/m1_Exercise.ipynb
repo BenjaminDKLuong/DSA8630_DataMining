{
 "cells": [
  {
   "cell_type": "markdown",
   "metadata": {},
   "source": [
    "##  Module 1 Exercises\n",
    "\n",
    "The exercises in the notebook are similar to what has been discussed in lab and practice notebooks. "
   ]
  },
  {
   "cell_type": "markdown",
   "metadata": {},
   "source": [
    "**Activity 1:** Read the NYC_death_causes data from **`/dsa/data/all_datasets/NYC_death_causes`** into variable called NYC_death_causes."
   ]
  },
  {
   "cell_type": "code",
   "execution_count": 1,
   "metadata": {},
   "outputs": [],
   "source": [
    "import numpy as np\n",
    "import pandas as pd\n",
    "from sklearn.preprocessing import Imputer\n",
    "import matplotlib.pyplot as plt\n",
    "from IPython.display import display\n",
    "import seaborn as sns\n",
    "sns.set_style('whitegrid')\n",
    "import json\n",
    "\n",
    "with open('/dsa/data/all_datasets/NYC_death_causes', 'r', encoding='utf-8') as f:\n",
    "    NYC_death_causes=json.load(f)"
   ]
  },
  {
   "cell_type": "markdown",
   "metadata": {},
   "source": [
    "**Activity 2:** Normalize the json formatted data in NYC_death_causes and save the result to NYC_data variable."
   ]
  },
  {
   "cell_type": "code",
   "execution_count": 2,
   "metadata": {},
   "outputs": [
    {
     "data": {
      "text/html": [
       "<div>\n",
       "<style scoped>\n",
       "    .dataframe tbody tr th:only-of-type {\n",
       "        vertical-align: middle;\n",
       "    }\n",
       "\n",
       "    .dataframe tbody tr th {\n",
       "        vertical-align: top;\n",
       "    }\n",
       "\n",
       "    .dataframe thead th {\n",
       "        text-align: right;\n",
       "    }\n",
       "</style>\n",
       "<table border=\"1\" class=\"dataframe\">\n",
       "  <thead>\n",
       "    <tr style=\"text-align: right;\">\n",
       "      <th></th>\n",
       "      <th>0</th>\n",
       "      <th>1</th>\n",
       "      <th>2</th>\n",
       "      <th>3</th>\n",
       "      <th>4</th>\n",
       "      <th>5</th>\n",
       "      <th>6</th>\n",
       "      <th>7</th>\n",
       "      <th>8</th>\n",
       "      <th>9</th>\n",
       "      <th>10</th>\n",
       "      <th>11</th>\n",
       "      <th>12</th>\n",
       "      <th>13</th>\n",
       "      <th>14</th>\n",
       "    </tr>\n",
       "  </thead>\n",
       "  <tbody>\n",
       "    <tr>\n",
       "      <th>0</th>\n",
       "      <td>1095</td>\n",
       "      <td>EB649B90-D468-4471-A55B-8B66572E31F8</td>\n",
       "      <td>1095</td>\n",
       "      <td>1484932698</td>\n",
       "      <td>399231</td>\n",
       "      <td>1484932698</td>\n",
       "      <td>399231</td>\n",
       "      <td>None</td>\n",
       "      <td>2014</td>\n",
       "      <td>Diabetes Mellitus (E10-E14)</td>\n",
       "      <td>F</td>\n",
       "      <td>Other Race/ Ethnicity</td>\n",
       "      <td>11</td>\n",
       "      <td>.</td>\n",
       "      <td>.</td>\n",
       "    </tr>\n",
       "    <tr>\n",
       "      <th>1</th>\n",
       "      <td>1096</td>\n",
       "      <td>47B92A6A-2EB4-48B3-A7F4-0AF00EBE4105</td>\n",
       "      <td>1096</td>\n",
       "      <td>1484932698</td>\n",
       "      <td>399231</td>\n",
       "      <td>1484932698</td>\n",
       "      <td>399231</td>\n",
       "      <td>None</td>\n",
       "      <td>2011</td>\n",
       "      <td>Cerebrovascular Disease (Stroke: I60-I69)</td>\n",
       "      <td>M</td>\n",
       "      <td>White Non-Hispanic</td>\n",
       "      <td>290</td>\n",
       "      <td>21.7</td>\n",
       "      <td>18.2</td>\n",
       "    </tr>\n",
       "    <tr>\n",
       "      <th>2</th>\n",
       "      <td>1097</td>\n",
       "      <td>FC47920F-22D9-415D-A4C2-463D3F8C918F</td>\n",
       "      <td>1097</td>\n",
       "      <td>1484932698</td>\n",
       "      <td>399231</td>\n",
       "      <td>1484932698</td>\n",
       "      <td>399231</td>\n",
       "      <td>None</td>\n",
       "      <td>2008</td>\n",
       "      <td>Malignant Neoplasms (Cancer: C00-C97)</td>\n",
       "      <td>M</td>\n",
       "      <td>Not Stated/Unknown</td>\n",
       "      <td>60</td>\n",
       "      <td>.</td>\n",
       "      <td>.</td>\n",
       "    </tr>\n",
       "    <tr>\n",
       "      <th>3</th>\n",
       "      <td>1098</td>\n",
       "      <td>3CF03BB4-BB37-4E6D-9E41-F7C36EDAD1FB</td>\n",
       "      <td>1098</td>\n",
       "      <td>1484932698</td>\n",
       "      <td>399231</td>\n",
       "      <td>1484932698</td>\n",
       "      <td>399231</td>\n",
       "      <td>None</td>\n",
       "      <td>2010</td>\n",
       "      <td>Malignant Neoplasms (Cancer: C00-C97)</td>\n",
       "      <td>F</td>\n",
       "      <td>Hispanic</td>\n",
       "      <td>1045</td>\n",
       "      <td>85.9</td>\n",
       "      <td>98.5</td>\n",
       "    </tr>\n",
       "    <tr>\n",
       "      <th>4</th>\n",
       "      <td>1099</td>\n",
       "      <td>EE1E1741-4019-46A3-BEDC-6EC23ED4CAB3</td>\n",
       "      <td>1099</td>\n",
       "      <td>1484932698</td>\n",
       "      <td>399231</td>\n",
       "      <td>1484932698</td>\n",
       "      <td>399231</td>\n",
       "      <td>None</td>\n",
       "      <td>2012</td>\n",
       "      <td>Cerebrovascular Disease (Stroke: I60-I69)</td>\n",
       "      <td>M</td>\n",
       "      <td>Black Non-Hispanic</td>\n",
       "      <td>170</td>\n",
       "      <td>19.9</td>\n",
       "      <td>23.3</td>\n",
       "    </tr>\n",
       "  </tbody>\n",
       "</table>\n",
       "</div>"
      ],
      "text/plain": [
       "     0                                     1     2           3       4   \\\n",
       "0  1095  EB649B90-D468-4471-A55B-8B66572E31F8  1095  1484932698  399231   \n",
       "1  1096  47B92A6A-2EB4-48B3-A7F4-0AF00EBE4105  1096  1484932698  399231   \n",
       "2  1097  FC47920F-22D9-415D-A4C2-463D3F8C918F  1097  1484932698  399231   \n",
       "3  1098  3CF03BB4-BB37-4E6D-9E41-F7C36EDAD1FB  1098  1484932698  399231   \n",
       "4  1099  EE1E1741-4019-46A3-BEDC-6EC23ED4CAB3  1099  1484932698  399231   \n",
       "\n",
       "           5       6     7     8                                          9   \\\n",
       "0  1484932698  399231  None  2014                Diabetes Mellitus (E10-E14)   \n",
       "1  1484932698  399231  None  2011  Cerebrovascular Disease (Stroke: I60-I69)   \n",
       "2  1484932698  399231  None  2008      Malignant Neoplasms (Cancer: C00-C97)   \n",
       "3  1484932698  399231  None  2010      Malignant Neoplasms (Cancer: C00-C97)   \n",
       "4  1484932698  399231  None  2012  Cerebrovascular Disease (Stroke: I60-I69)   \n",
       "\n",
       "  10                     11    12    13    14  \n",
       "0  F  Other Race/ Ethnicity    11     .     .  \n",
       "1  M     White Non-Hispanic   290  21.7  18.2  \n",
       "2  M     Not Stated/Unknown    60     .     .  \n",
       "3  F               Hispanic  1045  85.9  98.5  \n",
       "4  M     Black Non-Hispanic   170  19.9  23.3  "
      ]
     },
     "execution_count": 2,
     "metadata": {},
     "output_type": "execute_result"
    }
   ],
   "source": [
    "import pandas as pd\n",
    "from pandas.io.json import json_normalize\n",
    "\n",
    "NYC_data = json_normalize(NYC_death_causes,'data')\n",
    "NYC_data.head()\n"
   ]
  },
  {
   "cell_type": "markdown",
   "metadata": {},
   "source": [
    "**Activity 3:** Extract names of columns from the tags \"meta/view/columns/\" and save them in a list called names. Exclude the names from list which start with a ':' in the begining. "
   ]
  },
  {
   "cell_type": "code",
   "execution_count": 3,
   "metadata": {},
   "outputs": [
    {
     "data": {
      "text/plain": [
       "['year',\n",
       " 'leading_cause',\n",
       " 'sex',\n",
       " 'race_ethnicity',\n",
       " 'deaths',\n",
       " 'death_rate',\n",
       " 'age_adjusted_death_rate']"
      ]
     },
     "execution_count": 3,
     "metadata": {},
     "output_type": "execute_result"
    }
   ],
   "source": [
    "names=[]\n",
    "length=len(NYC_death_causes[\"meta\"][\"view\"][\"columns\"])\n",
    "for i in range(0, length):\n",
    "    names.append(NYC_death_causes[\"meta\"][\"view\"][\"columns\"][i][\"fieldName\"])\n",
    "\n",
    "names=[word for word in names if not ':' in word]\n",
    "names\n"
   ]
  },
  {
   "cell_type": "markdown",
   "metadata": {},
   "source": [
    "**Activity 4:** Drop the columns 0 through 7 from NYC_data and assign the result back to NYC_data."
   ]
  },
  {
   "cell_type": "code",
   "execution_count": 4,
   "metadata": {},
   "outputs": [
    {
     "data": {
      "text/html": [
       "<div>\n",
       "<style scoped>\n",
       "    .dataframe tbody tr th:only-of-type {\n",
       "        vertical-align: middle;\n",
       "    }\n",
       "\n",
       "    .dataframe tbody tr th {\n",
       "        vertical-align: top;\n",
       "    }\n",
       "\n",
       "    .dataframe thead th {\n",
       "        text-align: right;\n",
       "    }\n",
       "</style>\n",
       "<table border=\"1\" class=\"dataframe\">\n",
       "  <thead>\n",
       "    <tr style=\"text-align: right;\">\n",
       "      <th></th>\n",
       "      <th>8</th>\n",
       "      <th>9</th>\n",
       "      <th>10</th>\n",
       "      <th>11</th>\n",
       "      <th>12</th>\n",
       "      <th>13</th>\n",
       "      <th>14</th>\n",
       "    </tr>\n",
       "  </thead>\n",
       "  <tbody>\n",
       "    <tr>\n",
       "      <th>0</th>\n",
       "      <td>2014</td>\n",
       "      <td>Diabetes Mellitus (E10-E14)</td>\n",
       "      <td>F</td>\n",
       "      <td>Other Race/ Ethnicity</td>\n",
       "      <td>11</td>\n",
       "      <td>.</td>\n",
       "      <td>.</td>\n",
       "    </tr>\n",
       "    <tr>\n",
       "      <th>1</th>\n",
       "      <td>2011</td>\n",
       "      <td>Cerebrovascular Disease (Stroke: I60-I69)</td>\n",
       "      <td>M</td>\n",
       "      <td>White Non-Hispanic</td>\n",
       "      <td>290</td>\n",
       "      <td>21.7</td>\n",
       "      <td>18.2</td>\n",
       "    </tr>\n",
       "    <tr>\n",
       "      <th>2</th>\n",
       "      <td>2008</td>\n",
       "      <td>Malignant Neoplasms (Cancer: C00-C97)</td>\n",
       "      <td>M</td>\n",
       "      <td>Not Stated/Unknown</td>\n",
       "      <td>60</td>\n",
       "      <td>.</td>\n",
       "      <td>.</td>\n",
       "    </tr>\n",
       "    <tr>\n",
       "      <th>3</th>\n",
       "      <td>2010</td>\n",
       "      <td>Malignant Neoplasms (Cancer: C00-C97)</td>\n",
       "      <td>F</td>\n",
       "      <td>Hispanic</td>\n",
       "      <td>1045</td>\n",
       "      <td>85.9</td>\n",
       "      <td>98.5</td>\n",
       "    </tr>\n",
       "    <tr>\n",
       "      <th>4</th>\n",
       "      <td>2012</td>\n",
       "      <td>Cerebrovascular Disease (Stroke: I60-I69)</td>\n",
       "      <td>M</td>\n",
       "      <td>Black Non-Hispanic</td>\n",
       "      <td>170</td>\n",
       "      <td>19.9</td>\n",
       "      <td>23.3</td>\n",
       "    </tr>\n",
       "  </tbody>\n",
       "</table>\n",
       "</div>"
      ],
      "text/plain": [
       "     8                                          9  10                     11  \\\n",
       "0  2014                Diabetes Mellitus (E10-E14)  F  Other Race/ Ethnicity   \n",
       "1  2011  Cerebrovascular Disease (Stroke: I60-I69)  M     White Non-Hispanic   \n",
       "2  2008      Malignant Neoplasms (Cancer: C00-C97)  M     Not Stated/Unknown   \n",
       "3  2010      Malignant Neoplasms (Cancer: C00-C97)  F               Hispanic   \n",
       "4  2012  Cerebrovascular Disease (Stroke: I60-I69)  M     Black Non-Hispanic   \n",
       "\n",
       "     12    13    14  \n",
       "0    11     .     .  \n",
       "1   290  21.7  18.2  \n",
       "2    60     .     .  \n",
       "3  1045  85.9  98.5  \n",
       "4   170  19.9  23.3  "
      ]
     },
     "execution_count": 4,
     "metadata": {},
     "output_type": "execute_result"
    }
   ],
   "source": [
    "NYC_data.drop(NYC_data.columns[[0,1,2,3,4,5,6,7]], inplace=True, axis=1)\n",
    "NYC_data.head()\n"
   ]
  },
  {
   "cell_type": "markdown",
   "metadata": {},
   "source": [
    "**Activity 5:** Rename the columns with the extracted names to replace the default numbered column names."
   ]
  },
  {
   "cell_type": "code",
   "execution_count": 5,
   "metadata": {
    "scrolled": true
   },
   "outputs": [
    {
     "data": {
      "text/html": [
       "<div>\n",
       "<style scoped>\n",
       "    .dataframe tbody tr th:only-of-type {\n",
       "        vertical-align: middle;\n",
       "    }\n",
       "\n",
       "    .dataframe tbody tr th {\n",
       "        vertical-align: top;\n",
       "    }\n",
       "\n",
       "    .dataframe thead th {\n",
       "        text-align: right;\n",
       "    }\n",
       "</style>\n",
       "<table border=\"1\" class=\"dataframe\">\n",
       "  <thead>\n",
       "    <tr style=\"text-align: right;\">\n",
       "      <th></th>\n",
       "      <th>year</th>\n",
       "      <th>leading_cause</th>\n",
       "      <th>sex</th>\n",
       "      <th>race_ethnicity</th>\n",
       "      <th>deaths</th>\n",
       "      <th>death_rate</th>\n",
       "      <th>age_adjusted_death_rate</th>\n",
       "    </tr>\n",
       "  </thead>\n",
       "  <tbody>\n",
       "    <tr>\n",
       "      <th>0</th>\n",
       "      <td>2014</td>\n",
       "      <td>Diabetes Mellitus (E10-E14)</td>\n",
       "      <td>F</td>\n",
       "      <td>Other Race/ Ethnicity</td>\n",
       "      <td>11</td>\n",
       "      <td>.</td>\n",
       "      <td>.</td>\n",
       "    </tr>\n",
       "    <tr>\n",
       "      <th>1</th>\n",
       "      <td>2011</td>\n",
       "      <td>Cerebrovascular Disease (Stroke: I60-I69)</td>\n",
       "      <td>M</td>\n",
       "      <td>White Non-Hispanic</td>\n",
       "      <td>290</td>\n",
       "      <td>21.7</td>\n",
       "      <td>18.2</td>\n",
       "    </tr>\n",
       "    <tr>\n",
       "      <th>2</th>\n",
       "      <td>2008</td>\n",
       "      <td>Malignant Neoplasms (Cancer: C00-C97)</td>\n",
       "      <td>M</td>\n",
       "      <td>Not Stated/Unknown</td>\n",
       "      <td>60</td>\n",
       "      <td>.</td>\n",
       "      <td>.</td>\n",
       "    </tr>\n",
       "    <tr>\n",
       "      <th>3</th>\n",
       "      <td>2010</td>\n",
       "      <td>Malignant Neoplasms (Cancer: C00-C97)</td>\n",
       "      <td>F</td>\n",
       "      <td>Hispanic</td>\n",
       "      <td>1045</td>\n",
       "      <td>85.9</td>\n",
       "      <td>98.5</td>\n",
       "    </tr>\n",
       "    <tr>\n",
       "      <th>4</th>\n",
       "      <td>2012</td>\n",
       "      <td>Cerebrovascular Disease (Stroke: I60-I69)</td>\n",
       "      <td>M</td>\n",
       "      <td>Black Non-Hispanic</td>\n",
       "      <td>170</td>\n",
       "      <td>19.9</td>\n",
       "      <td>23.3</td>\n",
       "    </tr>\n",
       "  </tbody>\n",
       "</table>\n",
       "</div>"
      ],
      "text/plain": [
       "   year                              leading_cause sex         race_ethnicity  \\\n",
       "0  2014                Diabetes Mellitus (E10-E14)   F  Other Race/ Ethnicity   \n",
       "1  2011  Cerebrovascular Disease (Stroke: I60-I69)   M     White Non-Hispanic   \n",
       "2  2008      Malignant Neoplasms (Cancer: C00-C97)   M     Not Stated/Unknown   \n",
       "3  2010      Malignant Neoplasms (Cancer: C00-C97)   F               Hispanic   \n",
       "4  2012  Cerebrovascular Disease (Stroke: I60-I69)   M     Black Non-Hispanic   \n",
       "\n",
       "  deaths death_rate age_adjusted_death_rate  \n",
       "0     11          .                       .  \n",
       "1    290       21.7                    18.2  \n",
       "2     60          .                       .  \n",
       "3   1045       85.9                    98.5  \n",
       "4    170       19.9                    23.3  "
      ]
     },
     "execution_count": 5,
     "metadata": {},
     "output_type": "execute_result"
    }
   ],
   "source": [
    "NYC_data.columns = names\n",
    "NYC_data.head()"
   ]
  },
  {
   "cell_type": "markdown",
   "metadata": {},
   "source": [
    "**Activity 6:** Draw a countplot for the number of NaN values in each row. This is similar to what is done in the lab."
   ]
  },
  {
   "cell_type": "code",
   "execution_count": 6,
   "metadata": {
    "scrolled": true
   },
   "outputs": [
    {
     "data": {
      "text/html": [
       "<div>\n",
       "<style scoped>\n",
       "    .dataframe tbody tr th:only-of-type {\n",
       "        vertical-align: middle;\n",
       "    }\n",
       "\n",
       "    .dataframe tbody tr th {\n",
       "        vertical-align: top;\n",
       "    }\n",
       "\n",
       "    .dataframe thead th {\n",
       "        text-align: right;\n",
       "    }\n",
       "</style>\n",
       "<table border=\"1\" class=\"dataframe\">\n",
       "  <thead>\n",
       "    <tr style=\"text-align: right;\">\n",
       "      <th></th>\n",
       "      <th>year</th>\n",
       "      <th>leading_cause</th>\n",
       "      <th>sex</th>\n",
       "      <th>race_ethnicity</th>\n",
       "      <th>deaths</th>\n",
       "      <th>death_rate</th>\n",
       "      <th>age_adjusted_death_rate</th>\n",
       "      <th>num_of_null</th>\n",
       "    </tr>\n",
       "  </thead>\n",
       "  <tbody>\n",
       "    <tr>\n",
       "      <th>0</th>\n",
       "      <td>2014</td>\n",
       "      <td>Diabetes Mellitus (E10-E14)</td>\n",
       "      <td>F</td>\n",
       "      <td>Other Race/ Ethnicity</td>\n",
       "      <td>11</td>\n",
       "      <td>.</td>\n",
       "      <td>.</td>\n",
       "      <td>0</td>\n",
       "    </tr>\n",
       "    <tr>\n",
       "      <th>1</th>\n",
       "      <td>2011</td>\n",
       "      <td>Cerebrovascular Disease (Stroke: I60-I69)</td>\n",
       "      <td>M</td>\n",
       "      <td>White Non-Hispanic</td>\n",
       "      <td>290</td>\n",
       "      <td>21.7</td>\n",
       "      <td>18.2</td>\n",
       "      <td>0</td>\n",
       "    </tr>\n",
       "    <tr>\n",
       "      <th>2</th>\n",
       "      <td>2008</td>\n",
       "      <td>Malignant Neoplasms (Cancer: C00-C97)</td>\n",
       "      <td>M</td>\n",
       "      <td>Not Stated/Unknown</td>\n",
       "      <td>60</td>\n",
       "      <td>.</td>\n",
       "      <td>.</td>\n",
       "      <td>0</td>\n",
       "    </tr>\n",
       "    <tr>\n",
       "      <th>3</th>\n",
       "      <td>2010</td>\n",
       "      <td>Malignant Neoplasms (Cancer: C00-C97)</td>\n",
       "      <td>F</td>\n",
       "      <td>Hispanic</td>\n",
       "      <td>1045</td>\n",
       "      <td>85.9</td>\n",
       "      <td>98.5</td>\n",
       "      <td>0</td>\n",
       "    </tr>\n",
       "    <tr>\n",
       "      <th>4</th>\n",
       "      <td>2012</td>\n",
       "      <td>Cerebrovascular Disease (Stroke: I60-I69)</td>\n",
       "      <td>M</td>\n",
       "      <td>Black Non-Hispanic</td>\n",
       "      <td>170</td>\n",
       "      <td>19.9</td>\n",
       "      <td>23.3</td>\n",
       "      <td>0</td>\n",
       "    </tr>\n",
       "  </tbody>\n",
       "</table>\n",
       "</div>"
      ],
      "text/plain": [
       "   year                              leading_cause sex         race_ethnicity  \\\n",
       "0  2014                Diabetes Mellitus (E10-E14)   F  Other Race/ Ethnicity   \n",
       "1  2011  Cerebrovascular Disease (Stroke: I60-I69)   M     White Non-Hispanic   \n",
       "2  2008      Malignant Neoplasms (Cancer: C00-C97)   M     Not Stated/Unknown   \n",
       "3  2010      Malignant Neoplasms (Cancer: C00-C97)   F               Hispanic   \n",
       "4  2012  Cerebrovascular Disease (Stroke: I60-I69)   M     Black Non-Hispanic   \n",
       "\n",
       "  deaths death_rate age_adjusted_death_rate  num_of_null  \n",
       "0     11          .                       .            0  \n",
       "1    290       21.7                    18.2            0  \n",
       "2     60          .                       .            0  \n",
       "3   1045       85.9                    98.5            0  \n",
       "4    170       19.9                    23.3            0  "
      ]
     },
     "execution_count": 6,
     "metadata": {},
     "output_type": "execute_result"
    }
   ],
   "source": [
    "NYC_data['num_of_null'] = NYC_data.isnull().sum(axis=1)\n",
    "NYC_data.head()"
   ]
  },
  {
   "cell_type": "code",
   "execution_count": 7,
   "metadata": {},
   "outputs": [
    {
     "data": {
      "text/plain": [
       "<matplotlib.axes._subplots.AxesSubplot at 0x7ff3fe738c88>"
      ]
     },
     "execution_count": 7,
     "metadata": {},
     "output_type": "execute_result"
    },
    {
     "data": {
      "image/png": "[encoded data removed]",
      "text/plain": [
       "<Figure size 576x288 with 1 Axes>"
      ]
     },
     "metadata": {
      "needs_background": "light"
     },
     "output_type": "display_data"
    }
   ],
   "source": [
    "# Forms bins to plot a count plot \n",
    "bins = [0,1,2,3,4]\n",
    "\n",
    "# make bins of data in num_of_null using pandas.cut() function. The bin ranges are specified in bins variable.  \n",
    "cut = pd.cut(NYC_data.num_of_null, bins=bins, include_lowest=True, right=False)\n",
    "fig, axis1 = plt.subplots(1,figsize=(8,4))\n",
    "sns.countplot(x=cut, data=cut.to_frame(), ax=axis1)\n"
   ]
  },
  {
   "cell_type": "markdown",
   "metadata": {},
   "source": [
    "**Activity 7:** Replace \"..\" present in rows with a valid NAN and re draw the above plot. "
   ]
  },
  {
   "cell_type": "code",
   "execution_count": 8,
   "metadata": {},
   "outputs": [
    {
     "data": {
      "text/plain": [
       "<matplotlib.axes._subplots.AxesSubplot at 0x7ff3fde0d400>"
      ]
     },
     "execution_count": 8,
     "metadata": {},
     "output_type": "execute_result"
    },
    {
     "data": {
      "image/png": "[encoded data removed]",
      "text/plain": [
       "<Figure size 576x288 with 1 Axes>"
      ]
     },
     "metadata": {
      "needs_background": "light"
     },
     "output_type": "display_data"
    }
   ],
   "source": [
    "# replace '.' to NaN\n",
    "NYC_data.replace('.',np.NaN,inplace=True)\n",
    "NYC_data['num_of_null'] = NYC_data.isnull().sum(axis=1)\n",
    "\n",
    "# make bins of data in num_of_null using pandas.cut() function. The bin ranges are specified in bins variable.  \n",
    "cut = pd.cut(NYC_data.num_of_null, bins=bins, include_lowest=True, right=False)\n",
    "fig, axis1 = plt.subplots(1,figsize=(8,4))\n",
    "sns.countplot(x=cut, data=cut.to_frame(), ax=axis1)\n"
   ]
  },
  {
   "cell_type": "markdown",
   "metadata": {},
   "source": [
    "**Activity 8:** Fill the NAN values in the dataset using median values of columns. Make sure to have the column names right. "
   ]
  },
  {
   "cell_type": "code",
   "execution_count": 9,
   "metadata": {
    "scrolled": true
   },
   "outputs": [],
   "source": [
    "data = NYC_data.iloc[:,4:7]\n",
    "NYC_data.iloc[:,4:7] = data.fillna(data.median())"
   ]
  },
  {
   "cell_type": "code",
   "execution_count": 10,
   "metadata": {},
   "outputs": [
    {
     "data": {
      "text/html": [
       "<div>\n",
       "<style scoped>\n",
       "    .dataframe tbody tr th:only-of-type {\n",
       "        vertical-align: middle;\n",
       "    }\n",
       "\n",
       "    .dataframe tbody tr th {\n",
       "        vertical-align: top;\n",
       "    }\n",
       "\n",
       "    .dataframe thead th {\n",
       "        text-align: right;\n",
       "    }\n",
       "</style>\n",
       "<table border=\"1\" class=\"dataframe\">\n",
       "  <thead>\n",
       "    <tr style=\"text-align: right;\">\n",
       "      <th></th>\n",
       "      <th>year</th>\n",
       "      <th>leading_cause</th>\n",
       "      <th>sex</th>\n",
       "      <th>race_ethnicity</th>\n",
       "      <th>deaths</th>\n",
       "      <th>death_rate</th>\n",
       "      <th>age_adjusted_death_rate</th>\n",
       "      <th>num_of_null</th>\n",
       "    </tr>\n",
       "  </thead>\n",
       "  <tbody>\n",
       "    <tr>\n",
       "      <th>0</th>\n",
       "      <td>2014</td>\n",
       "      <td>Diabetes Mellitus (E10-E14)</td>\n",
       "      <td>F</td>\n",
       "      <td>Other Race/ Ethnicity</td>\n",
       "      <td>11</td>\n",
       "      <td>18.35</td>\n",
       "      <td>20.35</td>\n",
       "      <td>2</td>\n",
       "    </tr>\n",
       "    <tr>\n",
       "      <th>1</th>\n",
       "      <td>2011</td>\n",
       "      <td>Cerebrovascular Disease (Stroke: I60-I69)</td>\n",
       "      <td>M</td>\n",
       "      <td>White Non-Hispanic</td>\n",
       "      <td>290</td>\n",
       "      <td>21.7</td>\n",
       "      <td>18.2</td>\n",
       "      <td>0</td>\n",
       "    </tr>\n",
       "    <tr>\n",
       "      <th>2</th>\n",
       "      <td>2008</td>\n",
       "      <td>Malignant Neoplasms (Cancer: C00-C97)</td>\n",
       "      <td>M</td>\n",
       "      <td>Not Stated/Unknown</td>\n",
       "      <td>60</td>\n",
       "      <td>18.35</td>\n",
       "      <td>20.35</td>\n",
       "      <td>2</td>\n",
       "    </tr>\n",
       "    <tr>\n",
       "      <th>3</th>\n",
       "      <td>2010</td>\n",
       "      <td>Malignant Neoplasms (Cancer: C00-C97)</td>\n",
       "      <td>F</td>\n",
       "      <td>Hispanic</td>\n",
       "      <td>1045</td>\n",
       "      <td>85.9</td>\n",
       "      <td>98.5</td>\n",
       "      <td>0</td>\n",
       "    </tr>\n",
       "    <tr>\n",
       "      <th>4</th>\n",
       "      <td>2012</td>\n",
       "      <td>Cerebrovascular Disease (Stroke: I60-I69)</td>\n",
       "      <td>M</td>\n",
       "      <td>Black Non-Hispanic</td>\n",
       "      <td>170</td>\n",
       "      <td>19.9</td>\n",
       "      <td>23.3</td>\n",
       "      <td>0</td>\n",
       "    </tr>\n",
       "  </tbody>\n",
       "</table>\n",
       "</div>"
      ],
      "text/plain": [
       "   year                              leading_cause sex         race_ethnicity  \\\n",
       "0  2014                Diabetes Mellitus (E10-E14)   F  Other Race/ Ethnicity   \n",
       "1  2011  Cerebrovascular Disease (Stroke: I60-I69)   M     White Non-Hispanic   \n",
       "2  2008      Malignant Neoplasms (Cancer: C00-C97)   M     Not Stated/Unknown   \n",
       "3  2010      Malignant Neoplasms (Cancer: C00-C97)   F               Hispanic   \n",
       "4  2012  Cerebrovascular Disease (Stroke: I60-I69)   M     Black Non-Hispanic   \n",
       "\n",
       "  deaths death_rate age_adjusted_death_rate  num_of_null  \n",
       "0     11      18.35                   20.35            2  \n",
       "1    290       21.7                    18.2            0  \n",
       "2     60      18.35                   20.35            2  \n",
       "3   1045       85.9                    98.5            0  \n",
       "4    170       19.9                    23.3            0  "
      ]
     },
     "execution_count": 10,
     "metadata": {},
     "output_type": "execute_result"
    }
   ],
   "source": [
    "NYC_data.head()"
   ]
  },
  {
   "cell_type": "code",
   "execution_count": 11,
   "metadata": {},
   "outputs": [
    {
     "name": "stdout",
     "output_type": "stream",
     "text": [
      "<class 'pandas.core.frame.DataFrame'>\n",
      "RangeIndex: 1094 entries, 0 to 1093\n",
      "Data columns (total 8 columns):\n",
      "year                       1094 non-null object\n",
      "leading_cause              1094 non-null object\n",
      "sex                        1094 non-null object\n",
      "race_ethnicity             1094 non-null object\n",
      "deaths                     1094 non-null float64\n",
      "death_rate                 1094 non-null float64\n",
      "age_adjusted_death_rate    1094 non-null float64\n",
      "num_of_null                1094 non-null int64\n",
      "dtypes: float64(3), int64(1), object(4)\n",
      "memory usage: 68.5+ KB\n"
     ]
    }
   ],
   "source": [
    "# change data type from object to float in columns: deaths, death_rate, age_adjusted_death_rate\n",
    "NYC_data[\"deaths\"] = NYC_data.deaths.astype(float)\n",
    "NYC_data[\"death_rate\"] = NYC_data.death_rate.astype(float)\n",
    "NYC_data[\"age_adjusted_death_rate\"] = NYC_data.age_adjusted_death_rate.astype(float)\n",
    "NYC_data.info()"
   ]
  },
  {
   "cell_type": "markdown",
   "metadata": {},
   "source": [
    "**Activity 9:** Find all rows where number of deaths are greater than 3 standard deviations from average and store this into a new data frame. "
   ]
  },
  {
   "cell_type": "code",
   "execution_count": 12,
   "metadata": {
    "scrolled": true
   },
   "outputs": [
    {
     "data": {
      "text/html": [
       "<div>\n",
       "<style scoped>\n",
       "    .dataframe tbody tr th:only-of-type {\n",
       "        vertical-align: middle;\n",
       "    }\n",
       "\n",
       "    .dataframe tbody tr th {\n",
       "        vertical-align: top;\n",
       "    }\n",
       "\n",
       "    .dataframe thead th {\n",
       "        text-align: right;\n",
       "    }\n",
       "</style>\n",
       "<table border=\"1\" class=\"dataframe\">\n",
       "  <thead>\n",
       "    <tr style=\"text-align: right;\">\n",
       "      <th></th>\n",
       "      <th>year</th>\n",
       "      <th>leading_cause</th>\n",
       "      <th>sex</th>\n",
       "      <th>race_ethnicity</th>\n",
       "      <th>deaths</th>\n",
       "      <th>death_rate</th>\n",
       "      <th>age_adjusted_death_rate</th>\n",
       "      <th>num_of_null</th>\n",
       "    </tr>\n",
       "  </thead>\n",
       "  <tbody>\n",
       "    <tr>\n",
       "      <th>61</th>\n",
       "      <td>2010</td>\n",
       "      <td>Malignant Neoplasms (Cancer: C00-C97)</td>\n",
       "      <td>M</td>\n",
       "      <td>White Non-Hispanic</td>\n",
       "      <td>3408.0</td>\n",
       "      <td>254.1</td>\n",
       "      <td>216.6</td>\n",
       "      <td>0</td>\n",
       "    </tr>\n",
       "    <tr>\n",
       "      <th>79</th>\n",
       "      <td>2007</td>\n",
       "      <td>Malignant Neoplasms (Cancer: C00-C97)</td>\n",
       "      <td>M</td>\n",
       "      <td>White Non-Hispanic</td>\n",
       "      <td>3356.0</td>\n",
       "      <td>250.9</td>\n",
       "      <td>213.7</td>\n",
       "      <td>0</td>\n",
       "    </tr>\n",
       "    <tr>\n",
       "      <th>119</th>\n",
       "      <td>2010</td>\n",
       "      <td>Diseases of Heart (I00-I09, I11, I13, I20-I51)</td>\n",
       "      <td>F</td>\n",
       "      <td>White Non-Hispanic</td>\n",
       "      <td>5351.0</td>\n",
       "      <td>374.2</td>\n",
       "      <td>189.2</td>\n",
       "      <td>0</td>\n",
       "    </tr>\n",
       "    <tr>\n",
       "      <th>190</th>\n",
       "      <td>2009</td>\n",
       "      <td>Malignant Neoplasms (Cancer: C00-C97)</td>\n",
       "      <td>F</td>\n",
       "      <td>White Non-Hispanic</td>\n",
       "      <td>3346.0</td>\n",
       "      <td>232.9</td>\n",
       "      <td>159.0</td>\n",
       "      <td>0</td>\n",
       "    </tr>\n",
       "    <tr>\n",
       "      <th>195</th>\n",
       "      <td>2011</td>\n",
       "      <td>Malignant Neoplasms (Cancer: C00-C97)</td>\n",
       "      <td>F</td>\n",
       "      <td>White Non-Hispanic</td>\n",
       "      <td>3371.0</td>\n",
       "      <td>238.0</td>\n",
       "      <td>161.1</td>\n",
       "      <td>0</td>\n",
       "    </tr>\n",
       "  </tbody>\n",
       "</table>\n",
       "</div>"
      ],
      "text/plain": [
       "     year                                   leading_cause sex  \\\n",
       "61   2010           Malignant Neoplasms (Cancer: C00-C97)   M   \n",
       "79   2007           Malignant Neoplasms (Cancer: C00-C97)   M   \n",
       "119  2010  Diseases of Heart (I00-I09, I11, I13, I20-I51)   F   \n",
       "190  2009           Malignant Neoplasms (Cancer: C00-C97)   F   \n",
       "195  2011           Malignant Neoplasms (Cancer: C00-C97)   F   \n",
       "\n",
       "         race_ethnicity  deaths  death_rate  age_adjusted_death_rate  \\\n",
       "61   White Non-Hispanic  3408.0       254.1                    216.6   \n",
       "79   White Non-Hispanic  3356.0       250.9                    213.7   \n",
       "119  White Non-Hispanic  5351.0       374.2                    189.2   \n",
       "190  White Non-Hispanic  3346.0       232.9                    159.0   \n",
       "195  White Non-Hispanic  3371.0       238.0                    161.1   \n",
       "\n",
       "     num_of_null  \n",
       "61             0  \n",
       "79             0  \n",
       "119            0  \n",
       "190            0  \n",
       "195            0  "
      ]
     },
     "execution_count": 12,
     "metadata": {},
     "output_type": "execute_result"
    }
   ],
   "source": [
    "from scipy import stats\n",
    "outliers = NYC_data[(np.abs(stats.zscore(NYC_data[[\"deaths\"]])) > 3).all(axis=1)]\n",
    "outliers.head()"
   ]
  },
  {
   "cell_type": "markdown",
   "metadata": {},
   "source": [
    "**Activity 10:** Draw a scatter plot between the columns deaths and death rate for your reduced data frame from Activity 9. \n",
    "Use \"leading_cause\" as the color label for points. \n",
    "Explain the graph briefly in below markdown cell. \n",
    "\n",
    "`Hint`: Use [seaborn library](https://seaborn.pydata.org/index.html) or [MatplotLib](https://matplotlib.org/)"
   ]
  },
  {
   "cell_type": "code",
   "execution_count": 13,
   "metadata": {},
   "outputs": [
    {
     "data": {
      "image/png": "[encoded data removed]",
      "text/plain": [
       "<Figure size 614.375x360 with 1 Axes>"
      ]
     },
     "metadata": {
      "needs_background": "light"
     },
     "output_type": "display_data"
    }
   ],
   "source": [
    "#plot data with seaborn\n",
    "\n",
    "facet = sns.lmplot(data=outliers, x='deaths', y='death_rate', hue='leading_cause', \n",
    "                   fit_reg=False, legend=True, legend_out=True)\n",
    "plt.xlabel('Death',fontsize=15)\n",
    "plt.ylabel('Death Rate',fontsize=15)\n",
    "plt.title('Scatter plot between Deaths and Death Rate')\n",
    "plt.show()"
   ]
  },
  {
   "cell_type": "raw",
   "metadata": {},
   "source": [
    "Looking at the graph above, we see the data is divided into 2 groups: Malignant Neoplasms and Diseases of Hearts.\n",
    "Malignant Neoplasms causes less deaths than Heart Diseases.  \n",
    "For Malignant Neoplasms Cancer, deaths are less than 3900 deaths, and death_rate is less than 275.\n",
    "For Heart Diseases, deaths are greater than 3900 deaths, and death_rate is more than 275."
   ]
  },
  {
   "cell_type": "markdown",
   "metadata": {},
   "source": [
    "**Activity 11:** Draw a histogram for deaths by year.\n",
    "\n",
    "`Hint`: Explore pandas dataframe visualization functions\n",
    "\n",
    "**Reference:** [pandas visualizations](http://pandas.pydata.org/pandas-docs/version/0.18.1/visualization.html)"
   ]
  },
  {
   "cell_type": "code",
   "execution_count": 14,
   "metadata": {
    "scrolled": true
   },
   "outputs": [
    {
     "data": {
      "image/png": "[encoded data removed]",
      "text/plain": [
       "<Figure size 432x288 with 1 Axes>"
      ]
     },
     "metadata": {
      "needs_background": "light"
     },
     "output_type": "display_data"
    }
   ],
   "source": [
    "# plot shows deaths by year using NYC_data\n",
    "a = NYC_data.groupby(['year'])[[\"deaths\"]].sum()\n",
    "a.plot.bar(legend=False)\n",
    "plt.xlabel('Year',fontsize=15)\n",
    "plt.ylabel('Count',fontsize=15)\n",
    "plt.title('Number Deaths by Year (NYC_data)')\n",
    "plt.show()"
   ]
  },
  {
   "cell_type": "code",
   "execution_count": 15,
   "metadata": {},
   "outputs": [
    {
     "data": {
      "image/png": "[encoded data removed]",
      "text/plain": [
       "<Figure size 432x288 with 1 Axes>"
      ]
     },
     "metadata": {
      "needs_background": "light"
     },
     "output_type": "display_data"
    }
   ],
   "source": [
    "# plot shows deaths by year using outliers\n",
    "b = outliers.groupby(['year'])[[\"deaths\"]].sum()\n",
    "b.plot.bar(legend=False)\n",
    "plt.xlabel('Year',fontsize=15)\n",
    "plt.ylabel('Count',fontsize=15)\n",
    "plt.title('Number Deaths by Year (outliers)')\n",
    "plt.show()"
   ]
  },
  {
   "cell_type": "markdown",
   "metadata": {},
   "source": [
    "**Activity 12:** Draw a box plot for deaths by year again. Give your thoughts on the plot in below markdown cell. "
   ]
  },
  {
   "cell_type": "code",
   "execution_count": 16,
   "metadata": {},
   "outputs": [
    {
     "data": {
      "image/png": "[encoded data removed]",
      "text/plain": [
       "<Figure size 432x288 with 1 Axes>"
      ]
     },
     "metadata": {
      "needs_background": "light"
     },
     "output_type": "display_data"
    }
   ],
   "source": [
    "# boxplot using NYC_data\n",
    "boxplot = sns.boxplot(x=\"year\", y=\"deaths\", data=NYC_data)\n",
    "plt.xlabel('Year',fontsize=15)\n",
    "plt.ylabel('Deaths',fontsize=15)\n",
    "plt.title('Box plot Deaths by Year (NYC_data)')\n",
    "plt.show()"
   ]
  },
  {
   "cell_type": "raw",
   "metadata": {},
   "source": [
    "Total number deaths per year dont decrease alot.  It looks pretty much stable to me.  However, looking at the box plot, I see the outliers have been decreased over years.  It was 7000 deaths in 2007, and it decreases to 4500 deaths in 2014."
   ]
  }
 ],
 "metadata": {
  "anaconda-cloud": {},
  "kernelspec": {
   "display_name": "Python 3",
   "language": "python",
   "name": "python3"
  },
  "language_info": {
   "codemirror_mode": {
    "name": "ipython",
    "version": 3
   },
   "file_extension": ".py",
   "mimetype": "text/x-python",
   "name": "python",
   "nbconvert_exporter": "python",
   "pygments_lexer": "ipython3",
   "version": "3.6.7"
  }
 },
 "nbformat": 4,
 "nbformat_minor": 1
}
