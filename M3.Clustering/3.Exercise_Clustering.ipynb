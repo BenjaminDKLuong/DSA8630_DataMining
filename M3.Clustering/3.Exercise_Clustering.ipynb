{
 "cells": [
  {
   "cell_type": "markdown",
   "metadata": {},
   "source": [
    "## Module 3 Clustering Exercises\n",
    "\n",
    "Market segmentation is a strategy that divides a broad target market of customers into smaller, \n",
    "more similar groups, and then designs a marketing strategy specifically for each group.\n",
    "Clustering is a common technique for market segmentation since it automatically finds \n",
    "similar groups given a data set.\n",
    "\n",
    "In this notebook, we'll see how clustering can be used to find similar groups of \n",
    "customers who belong to an airline's frequent flyer program. \n",
    "The airline is trying to learn more about its customers so that it can target different \n",
    "customer segments with different types of mileage offers.\n",
    "\n",
    "We will be focusing on Hierarchical clustering to find clusters of data. \n",
    "Most of the exercises are similar to what we have in labs and practices while some of \n",
    "them might be a bit challenging. \n",
    "Explore the web to find the commands needed to perform few exercises. \n",
    "Exercises uses the file AirlinesCluster.csv that contains information on 3,999 members of \n",
    "the frequent flyer program. The data comes from the textbook \"Data Mining for Business Intelligence,\" \n",
    "by Galit Shmueli, Nitin R. Patel, and Peter C. Bruce.\n",
    "\n",
    "There are seven different variables in the dataset, as described below:\n",
    "\n",
    "- Balance = number of miles eligible for award travel\n",
    "- QualMiles = number of miles qualifying for TopFlight status\n",
    "- BonusMiles = number of miles earned from non-flight bonus transactions in the past 12 months\n",
    "- BonusTrans = number of non-flight bonus transactions in the past 12 months\n",
    "- FlightMiles = number of flight miles in the past 12 months\n",
    "- FlightTrans = number of flight transactions in the past 12 months\n",
    "- DaysSinceEnroll = number of days since enrolled in the frequent flyer program"
   ]
  },
  {
   "cell_type": "code",
   "execution_count": 1,
   "metadata": {},
   "outputs": [],
   "source": [
    "import numpy as np\n",
    "import pandas as pd\n",
    "from sklearn import cluster\n",
    "from matplotlib import pyplot\n",
    "from sklearn.decomposition import PCA\n",
    "from sklearn.preprocessing import StandardScaler\n",
    "import scipy.cluster.hierarchy as hca\n",
    "from sklearn.cluster import DBSCAN\n",
    "from sklearn.cluster import KMeans\n",
    "import matplotlib.pyplot as plt\n",
    "from pylab import *\n",
    "\n",
    "%matplotlib inline"
   ]
  },
  {
   "cell_type": "code",
   "execution_count": 2,
   "metadata": {},
   "outputs": [
    {
     "data": {
      "text/html": [
       "<div>\n",
       "<style scoped>\n",
       "    .dataframe tbody tr th:only-of-type {\n",
       "        vertical-align: middle;\n",
       "    }\n",
       "\n",
       "    .dataframe tbody tr th {\n",
       "        vertical-align: top;\n",
       "    }\n",
       "\n",
       "    .dataframe thead th {\n",
       "        text-align: right;\n",
       "    }\n",
       "</style>\n",
       "<table border=\"1\" class=\"dataframe\">\n",
       "  <thead>\n",
       "    <tr style=\"text-align: right;\">\n",
       "      <th></th>\n",
       "      <th>Balance</th>\n",
       "      <th>QualMiles</th>\n",
       "      <th>BonusMiles</th>\n",
       "      <th>BonusTrans</th>\n",
       "      <th>FlightMiles</th>\n",
       "      <th>FlightTrans</th>\n",
       "      <th>DaysSinceEnroll</th>\n",
       "    </tr>\n",
       "  </thead>\n",
       "  <tbody>\n",
       "    <tr>\n",
       "      <th>0</th>\n",
       "      <td>28143</td>\n",
       "      <td>0</td>\n",
       "      <td>174</td>\n",
       "      <td>1</td>\n",
       "      <td>0</td>\n",
       "      <td>0</td>\n",
       "      <td>7000</td>\n",
       "    </tr>\n",
       "    <tr>\n",
       "      <th>1</th>\n",
       "      <td>19244</td>\n",
       "      <td>0</td>\n",
       "      <td>215</td>\n",
       "      <td>2</td>\n",
       "      <td>0</td>\n",
       "      <td>0</td>\n",
       "      <td>6968</td>\n",
       "    </tr>\n",
       "    <tr>\n",
       "      <th>2</th>\n",
       "      <td>41354</td>\n",
       "      <td>0</td>\n",
       "      <td>4123</td>\n",
       "      <td>4</td>\n",
       "      <td>0</td>\n",
       "      <td>0</td>\n",
       "      <td>7034</td>\n",
       "    </tr>\n",
       "    <tr>\n",
       "      <th>3</th>\n",
       "      <td>14776</td>\n",
       "      <td>0</td>\n",
       "      <td>500</td>\n",
       "      <td>1</td>\n",
       "      <td>0</td>\n",
       "      <td>0</td>\n",
       "      <td>6952</td>\n",
       "    </tr>\n",
       "  </tbody>\n",
       "</table>\n",
       "</div>"
      ],
      "text/plain": [
       "   Balance  QualMiles  BonusMiles  BonusTrans  FlightMiles  FlightTrans  \\\n",
       "0    28143          0         174           1            0            0   \n",
       "1    19244          0         215           2            0            0   \n",
       "2    41354          0        4123           4            0            0   \n",
       "3    14776          0         500           1            0            0   \n",
       "\n",
       "   DaysSinceEnroll  \n",
       "0             7000  \n",
       "1             6968  \n",
       "2             7034  \n",
       "3             6952  "
      ]
     },
     "execution_count": 2,
     "metadata": {},
     "output_type": "execute_result"
    }
   ],
   "source": [
    "airlines_data = pd.read_csv(\"/dsa/data/all_datasets/AirlinesCluster.csv\")\n",
    "airlines_data[:4]"
   ]
  },
  {
   "cell_type": "code",
   "execution_count": 3,
   "metadata": {},
   "outputs": [
    {
     "data": {
      "text/plain": [
       "(3999, 7)"
      ]
     },
     "execution_count": 3,
     "metadata": {},
     "output_type": "execute_result"
    }
   ],
   "source": [
    "airlines_data.shape"
   ]
  },
  {
   "cell_type": "markdown",
   "metadata": {},
   "source": [
    "#### Normalize the data\n",
    "\n",
    "Why is it important to normalize the data before clustering?\n",
    "\n",
    "- If we don't normalize the data, the variables that are on a larger scale will contribute much more to the distance calculation, and thus will dominate the clustering.\n",
    "\n",
    "\n",
    "**Activity 1:** Create a normalized data frame called \"airlinesNorm\" using StandardScaler() function"
   ]
  },
  {
   "cell_type": "code",
   "execution_count": 4,
   "metadata": {},
   "outputs": [
    {
     "name": "stderr",
     "output_type": "stream",
     "text": [
      "/opt/conda/lib/python3.6/site-packages/sklearn/preprocessing/data.py:625: DataConversionWarning: Data with input dtype int64 were all converted to float64 by StandardScaler.\n",
      "  return self.partial_fit(X, y)\n",
      "/opt/conda/lib/python3.6/site-packages/sklearn/base.py:462: DataConversionWarning: Data with input dtype int64 were all converted to float64 by StandardScaler.\n",
      "  return self.fit(X, **fit_params).transform(X)\n"
     ]
    }
   ],
   "source": [
    "# Your code for activity 1 goes here.\n",
    "# ----------------------------------------\n",
    "\n",
    "stscaler = StandardScaler()\n",
    "airlinesNorm = stscaler.fit_transform(airlines_data)"
   ]
  },
  {
   "cell_type": "code",
   "execution_count": 5,
   "metadata": {},
   "outputs": [
    {
     "data": {
      "text/plain": [
       "array([[ -4.51140783e-01,  -1.86298687e-01,  -7.02786266e-01, ...,\n",
       "         -3.28603258e-01,  -3.62167870e-01,   1.39545434e+00],\n",
       "       [ -5.39456874e-01,  -1.86298687e-01,  -7.01088399e-01, ...,\n",
       "         -3.28603258e-01,  -3.62167870e-01,   1.37995704e+00],\n",
       "       [ -3.20031232e-01,  -1.86298687e-01,  -5.39252702e-01, ...,\n",
       "         -3.28603258e-01,  -3.62167870e-01,   1.41192021e+00],\n",
       "       ..., \n",
       "       [ -4.29480975e-05,  -1.86298687e-01,   3.43803696e-01, ...,\n",
       "         -3.28603258e-01,  -3.62167870e-01,  -1.31560393e+00],\n",
       "       [ -1.85606976e-01,  -1.86298687e-01,  -6.89286154e-01, ...,\n",
       "          2.85309024e-02,  -9.85033311e-02,  -1.31608822e+00],\n",
       "       [ -7.00507951e-01,  -1.86298687e-01,  -7.09991847e-01, ...,\n",
       "         -3.28603258e-01,  -3.62167870e-01,  -1.31754109e+00]])"
      ]
     },
     "execution_count": 5,
     "metadata": {},
     "output_type": "execute_result"
    }
   ],
   "source": [
    "airlinesNorm"
   ]
  },
  {
   "cell_type": "markdown",
   "metadata": {},
   "source": [
    "**Activity 2:** Compute the distances between data points (using euclidean distance) and then run the Hierarchical clustering algorithm (using method=\"ward\") on the normalized data"
   ]
  },
  {
   "cell_type": "code",
   "execution_count": 6,
   "metadata": {},
   "outputs": [],
   "source": [
    "# Your code for activity 2 goes here.\n",
    "# ----------------------------------------\n",
    "link_matrix=hca.linkage(airlinesNorm,metric = 'euclidean',method='ward')"
   ]
  },
  {
   "cell_type": "markdown",
   "metadata": {},
   "source": [
    "**Activity 3:** Plot the dendogram"
   ]
  },
  {
   "cell_type": "code",
   "execution_count": 7,
   "metadata": {},
   "outputs": [
    {
     "data": {
      "text/plain": [
       "Text(0.5, 0.9, 'Dendrogram (euclidean, ward)')"
      ]
     },
     "execution_count": 7,
     "metadata": {},
     "output_type": "execute_result"
    },
    {
     "data": {
      "image/png": "[encoded data removed]",
      "text/plain": [
       "<Figure size 432x288 with 1 Axes>"
      ]
     },
     "metadata": {
      "needs_background": "light"
     },
     "output_type": "display_data"
    }
   ],
   "source": [
    "# Your code for activity 3 goes here.\n",
    "# ----------------------------------------\n",
    "\n",
    "plot = hca.dendrogram(link_matrix, truncate_mode = 'lastp',p=25)\n",
    "xticks(rotation=90)\n",
    "ylabel(\"Distance\")\n",
    "figtext(0.5,0.95,\"AirlinesNorm Data\",ha=\"center\",fontsize=12)\n",
    "figtext(0.5,0.90,\"Dendrogram (euclidean, ward)\",ha=\"center\",fontsize=10)"
   ]
  },
  {
   "cell_type": "markdown",
   "metadata": {},
   "source": [
    "### knowing K (number of clusters)\n",
    "\n",
    "**Activity 4:** Plot the same dendogram again but draw a line on the dendogram to show 5 clusters are formed when performing a cut on dendogram as shown below\n",
    "\n",
    "**Hint:** Use `fig, axes = pyplot.subplots(1, 1, figsize=(10, 10))` to create figure and use axes object to plot a horizontal line\n",
    "<img src=\"../images/dendogram.PNG\">"
   ]
  },
  {
   "cell_type": "code",
   "execution_count": 8,
   "metadata": {},
   "outputs": [
    {
     "data": {
      "text/plain": [
       "<matplotlib.lines.Line2D at 0x7f7e71b75ba8>"
      ]
     },
     "execution_count": 8,
     "metadata": {},
     "output_type": "execute_result"
    },
    {
     "data": {
      "image/png": "[encoded data removed]",
      "text/plain": [
       "<Figure size 720x720 with 1 Axes>"
      ]
     },
     "metadata": {
      "needs_background": "light"
     },
     "output_type": "display_data"
    }
   ],
   "source": [
    "fig, axes = pyplot.subplots(1, 1, figsize=(10, 10))\n",
    "plot=hca.dendrogram(link_matrix, truncate_mode = 'lastp',p=25)\n",
    "xticks(rotation=90)\n",
    "ylabel(\"Distance\")\n",
    "figtext(0.5,0.95,\"AirlinesNorm Data\",ha=\"center\",fontsize=12)\n",
    "figtext(0.5,0.90,\"Dendrogram (euclidean, ward)\",ha=\"center\",fontsize=10)\n",
    "axes.axhline(y=60)"
   ]
  },
  {
   "cell_type": "markdown",
   "metadata": {},
   "source": [
    "**Activity 5:** Print the number of samples in each of the 5 clusters"
   ]
  },
  {
   "cell_type": "code",
   "execution_count": 9,
   "metadata": {},
   "outputs": [],
   "source": [
    "from scipy.cluster.hierarchy import fcluster\n",
    "\n",
    "# Your code for activity 5 goes here.\n",
    "# ----------------------------------------\n",
    "k=5\n",
    "clusters= fcluster(link_matrix,k,criterion='maxclust')"
   ]
  },
  {
   "cell_type": "code",
   "execution_count": 10,
   "metadata": {},
   "outputs": [
    {
     "data": {
      "text/html": [
       "<div>\n",
       "<style scoped>\n",
       "    .dataframe tbody tr th:only-of-type {\n",
       "        vertical-align: middle;\n",
       "    }\n",
       "\n",
       "    .dataframe tbody tr th {\n",
       "        vertical-align: top;\n",
       "    }\n",
       "\n",
       "    .dataframe thead th {\n",
       "        text-align: right;\n",
       "    }\n",
       "</style>\n",
       "<table border=\"1\" class=\"dataframe\">\n",
       "  <thead>\n",
       "    <tr style=\"text-align: right;\">\n",
       "      <th></th>\n",
       "      <th>Cluster</th>\n",
       "      <th>Count</th>\n",
       "    </tr>\n",
       "  </thead>\n",
       "  <tbody>\n",
       "    <tr>\n",
       "      <th>0</th>\n",
       "      <td>1</td>\n",
       "      <td>48</td>\n",
       "    </tr>\n",
       "    <tr>\n",
       "      <th>1</th>\n",
       "      <td>2</td>\n",
       "      <td>53</td>\n",
       "    </tr>\n",
       "    <tr>\n",
       "      <th>2</th>\n",
       "      <td>3</td>\n",
       "      <td>360</td>\n",
       "    </tr>\n",
       "    <tr>\n",
       "      <th>3</th>\n",
       "      <td>4</td>\n",
       "      <td>1737</td>\n",
       "    </tr>\n",
       "    <tr>\n",
       "      <th>4</th>\n",
       "      <td>5</td>\n",
       "      <td>1801</td>\n",
       "    </tr>\n",
       "  </tbody>\n",
       "</table>\n",
       "</div>"
      ],
      "text/plain": [
       "   Cluster  Count\n",
       "0        1     48\n",
       "1        2     53\n",
       "2        3    360\n",
       "3        4   1737\n",
       "4        5   1801"
      ]
     },
     "execution_count": 10,
     "metadata": {},
     "output_type": "execute_result"
    }
   ],
   "source": [
    "unique_elements, counts_elements = np.unique(clusters, return_counts=True)\n",
    "count_df = pd.DataFrame({'Cluster':unique_elements,'Count':counts_elements})\n",
    "count_df"
   ]
  },
  {
   "cell_type": "markdown",
   "metadata": {},
   "source": [
    "**Activity 6:** Plot the variables BonusMiles on X-axis and BonusTrans on Y-axis with clusters as color reference. use the parameter cmap='prism' to display the colors better."
   ]
  },
  {
   "cell_type": "code",
   "execution_count": 11,
   "metadata": {},
   "outputs": [
    {
     "data": {
      "image/png": "[encoded data removed]",
      "text/plain": [
       "<Figure size 720x576 with 1 Axes>"
      ]
     },
     "metadata": {
      "needs_background": "light"
     },
     "output_type": "display_data"
    }
   ],
   "source": [
    "# Your code for activity 6 goes here.\n",
    "# ----------------------------------------\n",
    "plt.figure(figsize=(10,8))\n",
    "plt.scatter(airlines_data.iloc[:,2],airlines_data.iloc[:,3],c=clusters,cmap='prism')\n",
    "xlabel(\"BonusMiles\")\n",
    "ylabel(\"BonusTrans\")\n",
    "plt.title(\"BonusMiles Vs BonusTrans by Clusters\",fontsize=21)\n",
    "plt.show()\n"
   ]
  },
  {
   "cell_type": "markdown",
   "metadata": {},
   "source": [
    "**Activity 7:** Create a new column called cluster in airlines_data dataframe using clusters that are generated in activity 5. Group the data according to cluster column and store the result in a variable called grouped. "
   ]
  },
  {
   "cell_type": "code",
   "execution_count": 12,
   "metadata": {},
   "outputs": [],
   "source": [
    "# Your code for activity 7 goes here.\n",
    "# ----------------------------------------\n",
    "airlines_data['cluster']= clusters\n",
    "grouped = airlines_data.groupby(['cluster'])"
   ]
  },
  {
   "cell_type": "markdown",
   "metadata": {},
   "source": [
    "**Activity 8:** Split the airlines data into 5 new dataframes according to the clusters each row is assigned to."
   ]
  },
  {
   "cell_type": "code",
   "execution_count": 13,
   "metadata": {},
   "outputs": [],
   "source": [
    "# Your code for activity 8 goes here.\n",
    "# ----------------------------------------\n",
    "cluster1 = grouped.get_group(1)\n",
    "cluster2 = grouped.get_group(2)\n",
    "cluster3 = grouped.get_group(3)\n",
    "cluster4 = grouped.get_group(4)\n",
    "cluster5 = grouped.get_group(5)"
   ]
  },
  {
   "cell_type": "markdown",
   "metadata": {},
   "source": [
    "Creating a list below with the five new clusters formed. "
   ]
  },
  {
   "cell_type": "code",
   "execution_count": 14,
   "metadata": {},
   "outputs": [],
   "source": [
    "clt = [cluster1, cluster2, cluster3, cluster4, cluster5]"
   ]
  },
  {
   "cell_type": "markdown",
   "metadata": {},
   "source": [
    "**Activity 9:** Compare the mean values in each of the variables for the 5 clusters. You may want to compute the average values of the unnormalized data(airlines_data) so that it is easier to interpret.\n",
    "\n",
    "**Sample output:**\n",
    "\n",
    "dimensions of cluster:  (48, 8)\n",
    "\n",
    "Balance:  135318\n",
    "\n",
    "QualMiles:  5870\n",
    "\n",
    "BonusMiles:  16406\n",
    "\n",
    "BonusTrans:  13\n",
    "\n",
    "FlightMiles:  975\n",
    "\n",
    "FlightTrans:  3\n",
    "\n",
    "DaysSinceEnroll:  4320\n",
    "\n",
    "cluster:  1"
   ]
  },
  {
   "cell_type": "code",
   "execution_count": 15,
   "metadata": {},
   "outputs": [
    {
     "data": {
      "text/html": [
       "<div>\n",
       "<style scoped>\n",
       "    .dataframe tbody tr th:only-of-type {\n",
       "        vertical-align: middle;\n",
       "    }\n",
       "\n",
       "    .dataframe tbody tr th {\n",
       "        vertical-align: top;\n",
       "    }\n",
       "\n",
       "    .dataframe thead th {\n",
       "        text-align: right;\n",
       "    }\n",
       "</style>\n",
       "<table border=\"1\" class=\"dataframe\">\n",
       "  <thead>\n",
       "    <tr style=\"text-align: right;\">\n",
       "      <th>cluster</th>\n",
       "      <th>1</th>\n",
       "      <th>2</th>\n",
       "      <th>3</th>\n",
       "      <th>4</th>\n",
       "      <th>5</th>\n",
       "    </tr>\n",
       "  </thead>\n",
       "  <tbody>\n",
       "    <tr>\n",
       "      <th>Balance</th>\n",
       "      <td>135318</td>\n",
       "      <td>154830</td>\n",
       "      <td>204316</td>\n",
       "      <td>79910</td>\n",
       "      <td>37353</td>\n",
       "    </tr>\n",
       "    <tr>\n",
       "      <th>QualMiles</th>\n",
       "      <td>5870</td>\n",
       "      <td>490</td>\n",
       "      <td>144</td>\n",
       "      <td>123</td>\n",
       "      <td>0</td>\n",
       "    </tr>\n",
       "    <tr>\n",
       "      <th>BonusMiles</th>\n",
       "      <td>16406</td>\n",
       "      <td>32137</td>\n",
       "      <td>36265</td>\n",
       "      <td>26735</td>\n",
       "      <td>3651</td>\n",
       "    </tr>\n",
       "    <tr>\n",
       "      <th>BonusTrans</th>\n",
       "      <td>12</td>\n",
       "      <td>33</td>\n",
       "      <td>19</td>\n",
       "      <td>16</td>\n",
       "      <td>4</td>\n",
       "    </tr>\n",
       "    <tr>\n",
       "      <th>FlightMiles</th>\n",
       "      <td>974</td>\n",
       "      <td>8752</td>\n",
       "      <td>2286</td>\n",
       "      <td>148</td>\n",
       "      <td>137</td>\n",
       "    </tr>\n",
       "    <tr>\n",
       "      <th>FlightTrans</th>\n",
       "      <td>3</td>\n",
       "      <td>23</td>\n",
       "      <td>6</td>\n",
       "      <td>0</td>\n",
       "      <td>0</td>\n",
       "    </tr>\n",
       "    <tr>\n",
       "      <th>DaysSinceEnroll</th>\n",
       "      <td>4320</td>\n",
       "      <td>4046</td>\n",
       "      <td>4744</td>\n",
       "      <td>4727</td>\n",
       "      <td>3402</td>\n",
       "    </tr>\n",
       "    <tr>\n",
       "      <th>Dimension</th>\n",
       "      <td>(48, 8)</td>\n",
       "      <td>(53, 8)</td>\n",
       "      <td>(360, 8)</td>\n",
       "      <td>(1737, 8)</td>\n",
       "      <td>(1801, 8)</td>\n",
       "    </tr>\n",
       "  </tbody>\n",
       "</table>\n",
       "</div>"
      ],
      "text/plain": [
       "cluster                1        2         3          4          5\n",
       "Balance           135318   154830    204316      79910      37353\n",
       "QualMiles           5870      490       144        123          0\n",
       "BonusMiles         16406    32137     36265      26735       3651\n",
       "BonusTrans            12       33        19         16          4\n",
       "FlightMiles          974     8752      2286        148        137\n",
       "FlightTrans            3       23         6          0          0\n",
       "DaysSinceEnroll     4320     4046      4744       4727       3402\n",
       "Dimension        (48, 8)  (53, 8)  (360, 8)  (1737, 8)  (1801, 8)"
      ]
     },
     "execution_count": 15,
     "metadata": {},
     "output_type": "execute_result"
    }
   ],
   "source": [
    "# Supress scientific notation. Output numbers look neat without 10 digit long precision values\n",
    "np.set_printoptions(suppress=True)\n",
    "\n",
    "# Your code for activity 9 goes here.\n",
    "# ----------------------------------------\n",
    "df=grouped.mean().astype('int64')\n",
    "for i, cluster in enumerate(clt):\n",
    "    df.loc[i+1,'Dimension'] = str(cluster.shape)\n",
    "df.transpose()\n"
   ]
  },
  {
   "cell_type": "markdown",
   "metadata": {},
   "source": [
    "**Activity 10:** Write your conclusions based on the average values for each variable in each cluster. "
   ]
  },
  {
   "cell_type": "raw",
   "metadata": {},
   "source": [
    "Cluster 1 is a group of people who has highest number of miles qualifying for TopFlight status.  In the past 12 months, their bonus miles earned from non-flight transactions are in the mid-range (not too high nor too low).  They have flightmiles and flighttrans in the mid-range also.  I think they are seasonal travelers and average spenders. \n",
    "\n",
    "I think cluster 2 and 3 are really close to each other because people in both groups have high bonus miles from non-flight transactions.  It means they earn bonus miles via their spendings.  The more they spend, the more they earn.  Moreover, people in cluster 2 flight a lot more than other people in different groups.  People in cluster 3 flight frequently, but less than people in cluster 2.  They are both spenders and frequent fliers.\n",
    "\n",
    "People in cluster 4 dont flight a lot.  They have flightmiles in low-range (148).  However, they earned bonus miles through non-flight transactions.  Their bonusmiles are pretty high (26735).  I think people in this cluster are trying to earn bonus miles as much as they can, so they can use it later.  And they dont travel much.\n",
    "\n",
    "People in cluster 5 dont earn a lot of bonus miles (3651) and dont flight much (137).  I would call this group as non-active group.  \n",
    "\n",
    "Most of the people in cluster 4 (1737) and 5 (1801). There are 360 persons in cluster 3, 53 persons in cluster 2, and 48 persons in cluster 1.  Majority of people dont flight much.  Many of them try to earn bonus miles through non-flight transactions.  Small percentage of people flight frequently and earn a lot of bonus miles."
   ]
  }
 ],
 "metadata": {
  "kernelspec": {
   "display_name": "Python 3",
   "language": "python",
   "name": "python3"
  },
  "language_info": {
   "codemirror_mode": {
    "name": "ipython",
    "version": 3
   },
   "file_extension": ".py",
   "mimetype": "text/x-python",
   "name": "python",
   "nbconvert_exporter": "python",
   "pygments_lexer": "ipython3",
   "version": "3.7.1"
  }
 },
 "nbformat": 4,
 "nbformat_minor": 1
}
