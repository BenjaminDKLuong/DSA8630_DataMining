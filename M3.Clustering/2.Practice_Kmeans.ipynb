{
 "cells": [
  {
   "cell_type": "markdown",
   "metadata": {},
   "source": [
    "# Practice: KMeans Clustering\n",
    "\n",
    "\n",
    "In this notebook, data on eruptions from a famous geyser in Yellowstone Park is used for illustration purposes. \n",
    "It contains only two attributes, waiting time between eruptions (in minutes) and length of eruption (in minutes). \n",
    "This small dataset with just two attributes will be easier to use to create a simple k-means cluster model.\n",
    "Most of the activities are either partially complete for you to finish\n",
    "while some of them might require you to work out the all the code for the activity."
   ]
  },
  {
   "cell_type": "markdown",
   "metadata": {},
   "source": [
    "Kmeans is a kind of iterative descent algorithm, \n",
    "where you repeatedly find the minimum until it converges. \n",
    "A potential issue with this kind of algorithm is that it is not guaranteed to\n",
    "find the most optimal cluster arrangement if you pick the wrong starting points. \n",
    "One method for overcoming this is to run the algorithm a number of times with \n",
    "different randomly selected starting points, and then pick the solution\n",
    "that has the lowest total squared Euclidean distance. \n",
    "This approach is used in the scikit-learn package, defaulting to 10 separate repetitions.\n",
    "\n",
    "Scikit-learn uses numpy arrays, so make sure you format your data accordingly."
   ]
  },
  {
   "cell_type": "code",
   "execution_count": 1,
   "metadata": {},
   "outputs": [],
   "source": [
    "import numpy as np\n",
    "import pandas as pd\n",
    "from sklearn import cluster\n",
    "from matplotlib import pyplot"
   ]
  },
  {
   "cell_type": "code",
   "execution_count": 2,
   "metadata": {},
   "outputs": [
    {
     "data": {
      "text/html": [
       "<div>\n",
       "<style scoped>\n",
       "    .dataframe tbody tr th:only-of-type {\n",
       "        vertical-align: middle;\n",
       "    }\n",
       "\n",
       "    .dataframe tbody tr th {\n",
       "        vertical-align: top;\n",
       "    }\n",
       "\n",
       "    .dataframe thead th {\n",
       "        text-align: right;\n",
       "    }\n",
       "</style>\n",
       "<table border=\"1\" class=\"dataframe\">\n",
       "  <thead>\n",
       "    <tr style=\"text-align: right;\">\n",
       "      <th></th>\n",
       "      <th>eruptions</th>\n",
       "      <th>waiting</th>\n",
       "    </tr>\n",
       "  </thead>\n",
       "  <tbody>\n",
       "    <tr>\n",
       "      <th>0</th>\n",
       "      <td>3.600</td>\n",
       "      <td>79</td>\n",
       "    </tr>\n",
       "    <tr>\n",
       "      <th>1</th>\n",
       "      <td>1.800</td>\n",
       "      <td>54</td>\n",
       "    </tr>\n",
       "    <tr>\n",
       "      <th>2</th>\n",
       "      <td>3.333</td>\n",
       "      <td>74</td>\n",
       "    </tr>\n",
       "    <tr>\n",
       "      <th>3</th>\n",
       "      <td>2.283</td>\n",
       "      <td>62</td>\n",
       "    </tr>\n",
       "  </tbody>\n",
       "</table>\n",
       "</div>"
      ],
      "text/plain": [
       "   eruptions   waiting\n",
       "0      3.600        79\n",
       "1      1.800        54\n",
       "2      3.333        74\n",
       "3      2.283        62"
      ]
     },
     "execution_count": 2,
     "metadata": {},
     "output_type": "execute_result"
    }
   ],
   "source": [
    "eruptions = pd.read_csv(\"/dsa/data/all_datasets/eruptions/eruptions.txt\")\n",
    "eruptions[:4]"
   ]
  },
  {
   "cell_type": "markdown",
   "metadata": {},
   "source": [
    "**Activity 1:** Convert the data \"eruptions\" into an array and save the result in a variable called eruptions_data. "
   ]
  },
  {
   "cell_type": "code",
   "execution_count": 3,
   "metadata": {},
   "outputs": [
    {
     "name": "stderr",
     "output_type": "stream",
     "text": [
      "/opt/conda/lib/python3.6/site-packages/ipykernel_launcher.py:4: FutureWarning: Method .as_matrix will be removed in a future version. Use .values instead.\n",
      "  after removing the cwd from sys.path.\n"
     ]
    },
    {
     "data": {
      "text/plain": [
       "array([[  3.6  ,  79.   ],\n",
       "       [  1.8  ,  54.   ],\n",
       "       [  3.333,  74.   ],\n",
       "       [  2.283,  62.   ],\n",
       "       [  4.533,  85.   ]])"
      ]
     },
     "execution_count": 3,
     "metadata": {},
     "output_type": "execute_result"
    }
   ],
   "source": [
    "# Your code for activity 1 goes here.\n",
    "# -----------------------------------\n",
    "\n",
    "eruptions_data = eruptions.as_matrix()\n",
    "\n",
    "# Print first five rows of data\n",
    "eruptions_data[:5]"
   ]
  },
  {
   "cell_type": "markdown",
   "metadata": {},
   "source": [
    "**Activity 2:** Run the Kmeans algorithm on eruptions_data with two clusters."
   ]
  },
  {
   "cell_type": "code",
   "execution_count": 4,
   "metadata": {},
   "outputs": [
    {
     "data": {
      "text/plain": [
       "KMeans(algorithm='auto', copy_x=True, init='k-means++', max_iter=300,\n",
       "    n_clusters=2, n_init=10, n_jobs=None, precompute_distances='auto',\n",
       "    random_state=None, tol=0.0001, verbose=0)"
      ]
     },
     "execution_count": 4,
     "metadata": {},
     "output_type": "execute_result"
    }
   ],
   "source": [
    "# Your code for activity 2 goes here.\n",
    "# -----------------------------------\n",
    "from sklearn.cluster import KMeans\n",
    "k = 2\n",
    "kmeans = KMeans(n_clusters=k)\n",
    "kmeans.fit(eruptions_data)"
   ]
  },
  {
   "cell_type": "markdown",
   "metadata": {},
   "source": [
    "Get the locations of the centroids and the label of the owning cluster for each observation in the data set:"
   ]
  },
  {
   "cell_type": "code",
   "execution_count": 5,
   "metadata": {},
   "outputs": [],
   "source": [
    "labels = kmeans.labels_\n",
    "centroids = kmeans.cluster_centers_"
   ]
  },
  {
   "cell_type": "code",
   "execution_count": 6,
   "metadata": {
    "scrolled": true
   },
   "outputs": [
    {
     "data": {
      "text/plain": [
       "array([  4.29793023,  80.28488372])"
      ]
     },
     "execution_count": 6,
     "metadata": {},
     "output_type": "execute_result"
    }
   ],
   "source": [
    "centroids[0]"
   ]
  },
  {
   "cell_type": "markdown",
   "metadata": {},
   "source": [
    "**Activity 3:** Plot the clusters and their calculated centroids."
   ]
  },
  {
   "cell_type": "code",
   "execution_count": 7,
   "metadata": {},
   "outputs": [
    {
     "data": {
      "image/png": "[encoded data removed]",
      "text/plain": [
       "<Figure size 432x288 with 1 Axes>"
      ]
     },
     "metadata": {
      "needs_background": "light"
     },
     "output_type": "display_data"
    }
   ],
   "source": [
    "# Your code for activity 3 goes here.\n",
    "# -----------------------------------\n",
    "\n",
    "\n",
    "for i in range(k): # repeat loop n times for n clusters\n",
    "    ds = eruptions_data[np.where(labels==i)] # Get the data for indexes where label is equal to a particular cluster\n",
    "    pyplot.plot(ds[:,0],ds[:,1],'o')  \n",
    "    lines = pyplot.plot(centroids[i][0],centroids[i][1],'kx')\n",
    "    pyplot.setp(lines,ms=15.0)\n",
    "    pyplot.setp(lines,mew=2.0)\n",
    "pyplot.show()"
   ]
  },
  {
   "cell_type": "markdown",
   "metadata": {},
   "source": [
    "**Activity 4:** Run the Kmeans algorithm on eruptions_data with six clusters, and get the locations of the centroids and the label of the owning cluster for each observation in the data set:"
   ]
  },
  {
   "cell_type": "code",
   "execution_count": 8,
   "metadata": {},
   "outputs": [],
   "source": [
    "# Your code for activity 4 goes here.\n",
    "# -----------------------------------\n",
    "\n",
    "\n",
    "k = 6\n",
    "kmeans = KMeans(n_clusters=k)\n",
    "kmeans.fit(eruptions_data)\n",
    "\n",
    "labels = kmeans.labels_\n",
    "centroids = kmeans.cluster_centers_"
   ]
  },
  {
   "cell_type": "markdown",
   "metadata": {},
   "source": [
    "**Activity 5:** Plot the clusters and their calculated centroids."
   ]
  },
  {
   "cell_type": "code",
   "execution_count": 9,
   "metadata": {},
   "outputs": [
    {
     "data": {
      "image/png": "[encoded data removed]",
      "text/plain": [
       "<Figure size 432x288 with 1 Axes>"
      ]
     },
     "metadata": {
      "needs_background": "light"
     },
     "output_type": "display_data"
    }
   ],
   "source": [
    "# Your code for activity 5 goes here.\n",
    "# -----------------------------------\n",
    "\n",
    "\n",
    "for i in range(k): # repeat loop n times for n clusters\n",
    "    ds = eruptions_data[np.where(labels==i)] # Get the data for indexes where label is equal to a particular cluster\n",
    "    pyplot.plot(ds[:,0],ds[:,1],'o')  \n",
    "    lines = pyplot.plot(centroids[i][0],centroids[i][1],'kx')\n",
    "    pyplot.setp(lines,ms=15.0)\n",
    "    pyplot.setp(lines,mew=2.0)\n",
    "pyplot.show()"
   ]
  },
  {
   "cell_type": "markdown",
   "metadata": {},
   "source": [
    "The scikit-learn package also has a function that allows you to get the centroids and labels directly:"
   ]
  },
  {
   "cell_type": "code",
   "execution_count": 10,
   "metadata": {},
   "outputs": [],
   "source": [
    "from sklearn import cluster\n",
    "\n",
    "k=2\n",
    "centroids,labels,inertia = cluster.k_means(eruptions_data,n_clusters=k)"
   ]
  },
  {
   "cell_type": "markdown",
   "metadata": {},
   "source": [
    "By using the KMeans object directly we can make predictions on new observations and assign them to clusters. \n",
    "\n",
    "Split the data into a training set and a test set so that K-means clustering can be performed on the training set and use the test set to make predictions. A simple way to split the data is to do a random split as shown below."
   ]
  },
  {
   "cell_type": "code",
   "execution_count": 11,
   "metadata": {},
   "outputs": [],
   "source": [
    "import numpy as np\n",
    "import numpy.random as npr\n",
    "import math\n",
    "\n",
    "def split_data(data,train_split=0.8):\n",
    "    num_train = math.floor(data.shape[0] * train_split)\n",
    "    npr.shuffle(data)\n",
    "    return (data[:num_train],data[num_train:])\n",
    "\n",
    "training_data,test_data = split_data(eruptions_data)"
   ]
  },
  {
   "cell_type": "markdown",
   "metadata": {},
   "source": [
    "The predictions are then simply calculated:"
   ]
  },
  {
   "cell_type": "code",
   "execution_count": 12,
   "metadata": {},
   "outputs": [],
   "source": [
    "labels = kmeans.predict(test_data)"
   ]
  },
  {
   "cell_type": "markdown",
   "metadata": {},
   "source": [
    "Plotting the predictions, as before, for 2 clusters"
   ]
  },
  {
   "cell_type": "code",
   "execution_count": 13,
   "metadata": {},
   "outputs": [
    {
     "data": {
      "image/png": "[encoded data removed]",
      "text/plain": [
       "<Figure size 432x288 with 1 Axes>"
      ]
     },
     "metadata": {
      "needs_background": "light"
     },
     "output_type": "display_data"
    }
   ],
   "source": [
    "for i in range(k):\n",
    "    ds = test_data[np.where(labels==i)]\n",
    "    pyplot.plot(ds[:,0],ds[:,1],'o')\n",
    "    lines = pyplot.plot(centroids[i,0],centroids[i,1],'kx')\n",
    "    pyplot.setp(lines,ms=15.0)\n",
    "    pyplot.setp(lines,mew=2.0)\n",
    "pyplot.show()"
   ]
  },
  {
   "cell_type": "markdown",
   "metadata": {},
   "source": [
    "# Save your notebook, then `File > Close and Halt`"
   ]
  }
 ],
 "metadata": {
  "kernelspec": {
   "display_name": "Python 3",
   "language": "python",
   "name": "python3"
  },
  "language_info": {
   "codemirror_mode": {
    "name": "ipython",
    "version": 3
   },
   "file_extension": ".py",
   "mimetype": "text/x-python",
   "name": "python",
   "nbconvert_exporter": "python",
   "pygments_lexer": "ipython3",
   "version": "3.6.7"
  }
 },
 "nbformat": 4,
 "nbformat_minor": 2
}
