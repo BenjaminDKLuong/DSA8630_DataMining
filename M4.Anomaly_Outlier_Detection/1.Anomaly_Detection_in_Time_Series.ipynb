{
 "cells": [
  {
   "cell_type": "markdown",
   "metadata": {},
   "source": [
    "# Anomaly Detection in Time Series data"
   ]
  },
  {
   "cell_type": "markdown",
   "metadata": {},
   "source": [
    "The package `tsoutliers` detects 5 different types of outliers iteratively in time series data:\n",
    "\n",
    "- Additive Outlier (AO)\n",
    "- Innovation Outlier (IO)\n",
    "- Level Shift (LS)\n",
    "- Temporary change (TC)\n",
    "- Seasonal Level Shift (SLS)\n",
    "\n",
    "[Click here for definition of these outliers](https://www.ibm.com/support/knowledgecenter/SS3RA7_15.0.0/com.ibm.spss.modeler.help/ts_outliers_overview.htm)\n",
    "\n"
   ]
  },
  {
   "cell_type": "code",
   "execution_count": 1,
   "metadata": {},
   "outputs": [
    {
     "name": "stderr",
     "output_type": "stream",
     "text": [
      "Loading required package: forecast\n"
     ]
    }
   ],
   "source": [
    "library(tsoutliers)\n",
    "library(expsmooth)\n",
    "library(fma)"
   ]
  },
  {
   "cell_type": "markdown",
   "metadata": {},
   "source": [
    "We will be using historical stock data, contained in `historic_stock_data_table_a.csv`. It has following fields:\n",
    "\n",
    "- Date – This provides the date as an integer where 20100527 would represent May 27th, 2010.\n",
    "- Time – This gives the time as an integer where 1426 would represent 2:26PM EST.\n",
    "- Open – The open price.\n",
    "- High – The high price.\n",
    "- Low – The low price.\n",
    "- Close – The close price.\n",
    "- Volume – The trading volume during the interval. Note that it is extremely difficult to get accurate volume information. The volume is adjusted for splits so that the total value of shares traded remains constant even if a split occurs."
   ]
  },
  {
   "cell_type": "code",
   "execution_count": 2,
   "metadata": {},
   "outputs": [],
   "source": [
    "names=c(\"Date\",\"Time\",\"Open\",\"High\",\"Low\",\"Close\",\"Volume\")\n",
    "stock = read.csv(\"/dsa/data/all_datasets/historic_stock_data_table_a.csv\",header=FALSE)\n",
    "names(stock) = names"
   ]
  },
  {
   "cell_type": "code",
   "execution_count": 3,
   "metadata": {},
   "outputs": [
    {
     "data": {
      "text/html": [
       "<table>\n",
       "<thead><tr><th scope=col>Date</th><th scope=col>Time</th><th scope=col>Open</th><th scope=col>High</th><th scope=col>Low</th><th scope=col>Close</th><th scope=col>Volume</th></tr></thead>\n",
       "<tbody>\n",
       "\t<tr><td>19991118</td><td>0       </td><td>42.2076 </td><td>46.3820 </td><td>37.4581 </td><td>39.1928 </td><td>43981813</td></tr>\n",
       "\t<tr><td>19991119</td><td>0       </td><td>39.8329 </td><td>39.8885 </td><td>36.9293 </td><td>37.6251 </td><td>11390201</td></tr>\n",
       "\t<tr><td>19991122</td><td>0       </td><td>38.3208 </td><td>40.0091 </td><td>37.1613 </td><td>39.9442 </td><td> 4654716</td></tr>\n",
       "\t<tr><td>19991123</td><td>0       </td><td>39.4247 </td><td>40.4729 </td><td>37.3375 </td><td>37.5138 </td><td> 4268903</td></tr>\n",
       "\t<tr><td>19991124</td><td>0       </td><td>37.2262 </td><td>38.9052 </td><td>37.1056 </td><td>38.0889 </td><td> 3602367</td></tr>\n",
       "\t<tr><td>19991126</td><td>0       </td><td>37.9219 </td><td>38.4971 </td><td>37.8013 </td><td>38.2095 </td><td> 1332198</td></tr>\n",
       "</tbody>\n",
       "</table>\n"
      ],
      "text/latex": [
       "\\begin{tabular}{r|lllllll}\n",
       " Date & Time & Open & High & Low & Close & Volume\\\\\n",
       "\\hline\n",
       "\t 19991118 & 0        & 42.2076  & 46.3820  & 37.4581  & 39.1928  & 43981813\\\\\n",
       "\t 19991119 & 0        & 39.8329  & 39.8885  & 36.9293  & 37.6251  & 11390201\\\\\n",
       "\t 19991122 & 0        & 38.3208  & 40.0091  & 37.1613  & 39.9442  &  4654716\\\\\n",
       "\t 19991123 & 0        & 39.4247  & 40.4729  & 37.3375  & 37.5138  &  4268903\\\\\n",
       "\t 19991124 & 0        & 37.2262  & 38.9052  & 37.1056  & 38.0889  &  3602367\\\\\n",
       "\t 19991126 & 0        & 37.9219  & 38.4971  & 37.8013  & 38.2095  &  1332198\\\\\n",
       "\\end{tabular}\n"
      ],
      "text/markdown": [
       "\n",
       "| Date | Time | Open | High | Low | Close | Volume |\n",
       "|---|---|---|---|---|---|---|\n",
       "| 19991118 | 0        | 42.2076  | 46.3820  | 37.4581  | 39.1928  | 43981813 |\n",
       "| 19991119 | 0        | 39.8329  | 39.8885  | 36.9293  | 37.6251  | 11390201 |\n",
       "| 19991122 | 0        | 38.3208  | 40.0091  | 37.1613  | 39.9442  |  4654716 |\n",
       "| 19991123 | 0        | 39.4247  | 40.4729  | 37.3375  | 37.5138  |  4268903 |\n",
       "| 19991124 | 0        | 37.2262  | 38.9052  | 37.1056  | 38.0889  |  3602367 |\n",
       "| 19991126 | 0        | 37.9219  | 38.4971  | 37.8013  | 38.2095  |  1332198 |\n",
       "\n"
      ],
      "text/plain": [
       "  Date     Time Open    High    Low     Close   Volume  \n",
       "1 19991118 0    42.2076 46.3820 37.4581 39.1928 43981813\n",
       "2 19991119 0    39.8329 39.8885 36.9293 37.6251 11390201\n",
       "3 19991122 0    38.3208 40.0091 37.1613 39.9442  4654716\n",
       "4 19991123 0    39.4247 40.4729 37.3375 37.5138  4268903\n",
       "5 19991124 0    37.2262 38.9052 37.1056 38.0889  3602367\n",
       "6 19991126 0    37.9219 38.4971 37.8013 38.2095  1332198"
      ]
     },
     "metadata": {},
     "output_type": "display_data"
    },
    {
     "data": {
      "text/html": [
       "<table>\n",
       "<thead><tr><th></th><th scope=col>Date</th><th scope=col>Time</th><th scope=col>Open</th><th scope=col>High</th><th scope=col>Low</th><th scope=col>Close</th><th scope=col>Volume</th></tr></thead>\n",
       "<tbody>\n",
       "\t<tr><th scope=row>3447</th><td>20130802</td><td>0       </td><td>46.06   </td><td>46.51   </td><td>46.00   </td><td>46.36   </td><td>2183410 </td></tr>\n",
       "\t<tr><th scope=row>3448</th><td>20130805</td><td>0       </td><td>46.26   </td><td>46.40   </td><td>45.80   </td><td>45.87   </td><td>1793270 </td></tr>\n",
       "\t<tr><th scope=row>3449</th><td>20130806</td><td>0       </td><td>45.93   </td><td>46.21   </td><td>45.61   </td><td>46.05   </td><td>2069341 </td></tr>\n",
       "\t<tr><th scope=row>3450</th><td>20130807</td><td>0       </td><td>45.88   </td><td>46.46   </td><td>45.62   </td><td>46.30   </td><td>1491208 </td></tr>\n",
       "\t<tr><th scope=row>3451</th><td>20130808</td><td>0       </td><td>46.49   </td><td>46.55   </td><td>45.64   </td><td>45.86   </td><td>1509067 </td></tr>\n",
       "\t<tr><th scope=row>3452</th><td>20130809</td><td>0       </td><td>45.85   </td><td>46.46   </td><td>45.81   </td><td>46.24   </td><td>1740855 </td></tr>\n",
       "</tbody>\n",
       "</table>\n"
      ],
      "text/latex": [
       "\\begin{tabular}{r|lllllll}\n",
       "  & Date & Time & Open & High & Low & Close & Volume\\\\\n",
       "\\hline\n",
       "\t3447 & 20130802 & 0        & 46.06    & 46.51    & 46.00    & 46.36    & 2183410 \\\\\n",
       "\t3448 & 20130805 & 0        & 46.26    & 46.40    & 45.80    & 45.87    & 1793270 \\\\\n",
       "\t3449 & 20130806 & 0        & 45.93    & 46.21    & 45.61    & 46.05    & 2069341 \\\\\n",
       "\t3450 & 20130807 & 0        & 45.88    & 46.46    & 45.62    & 46.30    & 1491208 \\\\\n",
       "\t3451 & 20130808 & 0        & 46.49    & 46.55    & 45.64    & 45.86    & 1509067 \\\\\n",
       "\t3452 & 20130809 & 0        & 45.85    & 46.46    & 45.81    & 46.24    & 1740855 \\\\\n",
       "\\end{tabular}\n"
      ],
      "text/markdown": [
       "\n",
       "| <!--/--> | Date | Time | Open | High | Low | Close | Volume |\n",
       "|---|---|---|---|---|---|---|---|\n",
       "| 3447 | 20130802 | 0        | 46.06    | 46.51    | 46.00    | 46.36    | 2183410  |\n",
       "| 3448 | 20130805 | 0        | 46.26    | 46.40    | 45.80    | 45.87    | 1793270  |\n",
       "| 3449 | 20130806 | 0        | 45.93    | 46.21    | 45.61    | 46.05    | 2069341  |\n",
       "| 3450 | 20130807 | 0        | 45.88    | 46.46    | 45.62    | 46.30    | 1491208  |\n",
       "| 3451 | 20130808 | 0        | 46.49    | 46.55    | 45.64    | 45.86    | 1509067  |\n",
       "| 3452 | 20130809 | 0        | 45.85    | 46.46    | 45.81    | 46.24    | 1740855  |\n",
       "\n"
      ],
      "text/plain": [
       "     Date     Time Open  High  Low   Close Volume \n",
       "3447 20130802 0    46.06 46.51 46.00 46.36 2183410\n",
       "3448 20130805 0    46.26 46.40 45.80 45.87 1793270\n",
       "3449 20130806 0    45.93 46.21 45.61 46.05 2069341\n",
       "3450 20130807 0    45.88 46.46 45.62 46.30 1491208\n",
       "3451 20130808 0    46.49 46.55 45.64 45.86 1509067\n",
       "3452 20130809 0    45.85 46.46 45.81 46.24 1740855"
      ]
     },
     "metadata": {},
     "output_type": "display_data"
    }
   ],
   "source": [
    "head(stock)\n",
    "tail(stock)"
   ]
  },
  {
   "cell_type": "markdown",
   "metadata": {},
   "source": [
    "We will use the `ts()` fuction to convert a portion of this data to to a time series. \n",
    "Time series are vectors or matrices with class of \"ts\" (and additional attributes) \n",
    "which represent data which has been sampled at equispaced points in time. \n",
    "In the matrix case, each column of the matrix data is assumed to contain a single (univariate) time series. \n",
    "\n",
    "The ts() function takes parameters for start and end, representing the time of the first and last observations. \n",
    "These are not what you would think - they are not actual time values.\n",
    "They are either single numbers or vectors of two integers which specify a natural time unit and a (1-based) number of samples in that time unit. \n",
    "Another parameter is frequency which is the number of observations per unit of time.\n",
    "So for instance, \n",
    " * `ts(data = someDataVectorOrMatrix, frequency = 4, start = c(2016, 2))` # 2nd Quarter of 2016\n",
    " * `ts(data = someDataVectorOrMatrix, frequency = 12, start = c(2016, 1))` # 1st Month of 2016\n",
    " * `ts(data = someDataVectorOrMatrix, frequency = 7, start = c(201605, 4))` # 4th day of the fifth week of 2016\n",
    "\n",
    "Our data is daily, but what is the natural time unit? We will approximate this to a year.\n",
    "The NYSE and NASDAQ average about 252 trading days a year. \n",
    "(Our time series may not exactly have the right number of days per year because of this approximation.) \n",
    "The data start with 1999-11-18, which was the 224th trading day of that year.\n",
    "\n",
    "We will convert the Close column into time series data using the `ts()` function, \n",
    "but limit it to just over two years worth of data to keep the data small enough to work with in this notebook. "
   ]
  },
  {
   "cell_type": "code",
   "execution_count": 4,
   "metadata": {},
   "outputs": [],
   "source": [
    "help(ts)"
   ]
  },
  {
   "cell_type": "code",
   "execution_count": 5,
   "metadata": {},
   "outputs": [],
   "source": [
    "stock_series <- ts(stock$Close, start=c(1999,224) , end = c(2000, 224), frequency=252)"
   ]
  },
  {
   "cell_type": "code",
   "execution_count": 6,
   "metadata": {},
   "outputs": [
    {
     "data": {
      "text/html": [
       "<ol class=list-inline>\n",
       "\t<li>39.1928</li>\n",
       "\t<li>37.6251</li>\n",
       "\t<li>39.9442</li>\n",
       "\t<li>37.5138</li>\n",
       "\t<li>38.0889</li>\n",
       "\t<li>38.2095</li>\n",
       "\t<li>38.9052</li>\n",
       "\t<li>39.1371</li>\n",
       "\t<li>40.1204</li>\n",
       "\t<li>41.5119</li>\n",
       "\t<li>41.6881</li>\n",
       "\t<li>42.3839</li>\n",
       "\t<li>41.9757</li>\n",
       "\t<li>41.6881</li>\n",
       "\t<li>42.4395</li>\n",
       "\t<li>41.92</li>\n",
       "\t<li>41.6881</li>\n",
       "\t<li>39.0815</li>\n",
       "\t<li>38.6733</li>\n",
       "\t<li>42.0963</li>\n",
       "\t<li>42.6158</li>\n",
       "\t<li>43.3115</li>\n",
       "\t<li>43.2558</li>\n",
       "\t<li>43.4878</li>\n",
       "\t<li>46.0388</li>\n",
       "\t<li>48.9887</li>\n",
       "\t<li>56.8179</li>\n",
       "\t<li>64.0628</li>\n",
       "\t<li>72.8754</li>\n",
       "\t<li>71.7158</li>\n",
       "\t<li>66.6138</li>\n",
       "\t<li>60.8161</li>\n",
       "\t<li>57.9775</li>\n",
       "\t<li>54.5545</li>\n",
       "\t<li>60.4172</li>\n",
       "\t<li>63.8309</li>\n",
       "\t<li>62.9682</li>\n",
       "\t<li>61.3448</li>\n",
       "\t<li>62.9033</li>\n",
       "\t<li>63.432</li>\n",
       "\t<li>66.3263</li>\n",
       "\t<li>65.6305</li>\n",
       "\t<li>63.2001</li>\n",
       "\t<li>63.599</li>\n",
       "\t<li>63.4877</li>\n",
       "\t<li>62.6713</li>\n",
       "\t<li>63.3671</li>\n",
       "\t<li>63.6639</li>\n",
       "\t<li>62.9033</li>\n",
       "\t<li>61.3448</li>\n",
       "\t<li>66.0387</li>\n",
       "\t<li>68.8773</li>\n",
       "\t<li>72.124</li>\n",
       "\t<li>70.7325</li>\n",
       "\t<li>73.803</li>\n",
       "\t<li>72.7084</li>\n",
       "\t<li>70.2131</li>\n",
       "\t<li>71.0201</li>\n",
       "\t<li>69.9812</li>\n",
       "\t<li>70.7325</li>\n",
       "\t<li>75.3707</li>\n",
       "\t<li>75.1388</li>\n",
       "\t<li>76.5303</li>\n",
       "\t<li>87.3187</li>\n",
       "\t<li>84.9996</li>\n",
       "\t<li>91.892</li>\n",
       "\t<li>98.0979</li>\n",
       "\t<li>100.417</li>\n",
       "\t<li>92.6527</li>\n",
       "\t<li>95.315</li>\n",
       "\t<li>101.057</li>\n",
       "\t<li>95.8994</li>\n",
       "\t<li>100.649</li>\n",
       "\t<li>141.354</li>\n",
       "\t<li>128.71</li>\n",
       "\t<li>134.452</li>\n",
       "\t<li>141.465</li>\n",
       "\t<li>132.653</li>\n",
       "\t<li>121.808</li>\n",
       "\t<li>112.708</li>\n",
       "\t<li>107.374</li>\n",
       "\t<li>110.677</li>\n",
       "\t<li>112.244</li>\n",
       "\t<li>105.287</li>\n",
       "\t<li>105.519</li>\n",
       "\t<li>110.742</li>\n",
       "\t<li>111.317</li>\n",
       "\t<li>108.423</li>\n",
       "\t<li>106.215</li>\n",
       "\t<li>110.565</li>\n",
       "\t<li>103.432</li>\n",
       "\t<li>96.827</li>\n",
       "\t<li>96.4189</li>\n",
       "\t<li>90.7325</li>\n",
       "\t<li>86.2705</li>\n",
       "\t<li>89.4616</li>\n",
       "\t<li>96.994</li>\n",
       "\t<li>114.044</li>\n",
       "\t<li>98.7936</li>\n",
       "\t<li>93.3484</li>\n",
       "</ol>\n"
      ],
      "text/latex": [
       "\\begin{enumerate*}\n",
       "\\item 39.1928\n",
       "\\item 37.6251\n",
       "\\item 39.9442\n",
       "\\item 37.5138\n",
       "\\item 38.0889\n",
       "\\item 38.2095\n",
       "\\item 38.9052\n",
       "\\item 39.1371\n",
       "\\item 40.1204\n",
       "\\item 41.5119\n",
       "\\item 41.6881\n",
       "\\item 42.3839\n",
       "\\item 41.9757\n",
       "\\item 41.6881\n",
       "\\item 42.4395\n",
       "\\item 41.92\n",
       "\\item 41.6881\n",
       "\\item 39.0815\n",
       "\\item 38.6733\n",
       "\\item 42.0963\n",
       "\\item 42.6158\n",
       "\\item 43.3115\n",
       "\\item 43.2558\n",
       "\\item 43.4878\n",
       "\\item 46.0388\n",
       "\\item 48.9887\n",
       "\\item 56.8179\n",
       "\\item 64.0628\n",
       "\\item 72.8754\n",
       "\\item 71.7158\n",
       "\\item 66.6138\n",
       "\\item 60.8161\n",
       "\\item 57.9775\n",
       "\\item 54.5545\n",
       "\\item 60.4172\n",
       "\\item 63.8309\n",
       "\\item 62.9682\n",
       "\\item 61.3448\n",
       "\\item 62.9033\n",
       "\\item 63.432\n",
       "\\item 66.3263\n",
       "\\item 65.6305\n",
       "\\item 63.2001\n",
       "\\item 63.599\n",
       "\\item 63.4877\n",
       "\\item 62.6713\n",
       "\\item 63.3671\n",
       "\\item 63.6639\n",
       "\\item 62.9033\n",
       "\\item 61.3448\n",
       "\\item 66.0387\n",
       "\\item 68.8773\n",
       "\\item 72.124\n",
       "\\item 70.7325\n",
       "\\item 73.803\n",
       "\\item 72.7084\n",
       "\\item 70.2131\n",
       "\\item 71.0201\n",
       "\\item 69.9812\n",
       "\\item 70.7325\n",
       "\\item 75.3707\n",
       "\\item 75.1388\n",
       "\\item 76.5303\n",
       "\\item 87.3187\n",
       "\\item 84.9996\n",
       "\\item 91.892\n",
       "\\item 98.0979\n",
       "\\item 100.417\n",
       "\\item 92.6527\n",
       "\\item 95.315\n",
       "\\item 101.057\n",
       "\\item 95.8994\n",
       "\\item 100.649\n",
       "\\item 141.354\n",
       "\\item 128.71\n",
       "\\item 134.452\n",
       "\\item 141.465\n",
       "\\item 132.653\n",
       "\\item 121.808\n",
       "\\item 112.708\n",
       "\\item 107.374\n",
       "\\item 110.677\n",
       "\\item 112.244\n",
       "\\item 105.287\n",
       "\\item 105.519\n",
       "\\item 110.742\n",
       "\\item 111.317\n",
       "\\item 108.423\n",
       "\\item 106.215\n",
       "\\item 110.565\n",
       "\\item 103.432\n",
       "\\item 96.827\n",
       "\\item 96.4189\n",
       "\\item 90.7325\n",
       "\\item 86.2705\n",
       "\\item 89.4616\n",
       "\\item 96.994\n",
       "\\item 114.044\n",
       "\\item 98.7936\n",
       "\\item 93.3484\n",
       "\\end{enumerate*}\n"
      ],
      "text/markdown": [
       "1. 39.1928\n",
       "2. 37.6251\n",
       "3. 39.9442\n",
       "4. 37.5138\n",
       "5. 38.0889\n",
       "6. 38.2095\n",
       "7. 38.9052\n",
       "8. 39.1371\n",
       "9. 40.1204\n",
       "10. 41.5119\n",
       "11. 41.6881\n",
       "12. 42.3839\n",
       "13. 41.9757\n",
       "14. 41.6881\n",
       "15. 42.4395\n",
       "16. 41.92\n",
       "17. 41.6881\n",
       "18. 39.0815\n",
       "19. 38.6733\n",
       "20. 42.0963\n",
       "21. 42.6158\n",
       "22. 43.3115\n",
       "23. 43.2558\n",
       "24. 43.4878\n",
       "25. 46.0388\n",
       "26. 48.9887\n",
       "27. 56.8179\n",
       "28. 64.0628\n",
       "29. 72.8754\n",
       "30. 71.7158\n",
       "31. 66.6138\n",
       "32. 60.8161\n",
       "33. 57.9775\n",
       "34. 54.5545\n",
       "35. 60.4172\n",
       "36. 63.8309\n",
       "37. 62.9682\n",
       "38. 61.3448\n",
       "39. 62.9033\n",
       "40. 63.432\n",
       "41. 66.3263\n",
       "42. 65.6305\n",
       "43. 63.2001\n",
       "44. 63.599\n",
       "45. 63.4877\n",
       "46. 62.6713\n",
       "47. 63.3671\n",
       "48. 63.6639\n",
       "49. 62.9033\n",
       "50. 61.3448\n",
       "51. 66.0387\n",
       "52. 68.8773\n",
       "53. 72.124\n",
       "54. 70.7325\n",
       "55. 73.803\n",
       "56. 72.7084\n",
       "57. 70.2131\n",
       "58. 71.0201\n",
       "59. 69.9812\n",
       "60. 70.7325\n",
       "61. 75.3707\n",
       "62. 75.1388\n",
       "63. 76.5303\n",
       "64. 87.3187\n",
       "65. 84.9996\n",
       "66. 91.892\n",
       "67. 98.0979\n",
       "68. 100.417\n",
       "69. 92.6527\n",
       "70. 95.315\n",
       "71. 101.057\n",
       "72. 95.8994\n",
       "73. 100.649\n",
       "74. 141.354\n",
       "75. 128.71\n",
       "76. 134.452\n",
       "77. 141.465\n",
       "78. 132.653\n",
       "79. 121.808\n",
       "80. 112.708\n",
       "81. 107.374\n",
       "82. 110.677\n",
       "83. 112.244\n",
       "84. 105.287\n",
       "85. 105.519\n",
       "86. 110.742\n",
       "87. 111.317\n",
       "88. 108.423\n",
       "89. 106.215\n",
       "90. 110.565\n",
       "91. 103.432\n",
       "92. 96.827\n",
       "93. 96.4189\n",
       "94. 90.7325\n",
       "95. 86.2705\n",
       "96. 89.4616\n",
       "97. 96.994\n",
       "98. 114.044\n",
       "99. 98.7936\n",
       "100. 93.3484\n",
       "\n",
       "\n"
      ],
      "text/plain": [
       "  [1]  39.1928  37.6251  39.9442  37.5138  38.0889  38.2095  38.9052  39.1371\n",
       "  [9]  40.1204  41.5119  41.6881  42.3839  41.9757  41.6881  42.4395  41.9200\n",
       " [17]  41.6881  39.0815  38.6733  42.0963  42.6158  43.3115  43.2558  43.4878\n",
       " [25]  46.0388  48.9887  56.8179  64.0628  72.8754  71.7158  66.6138  60.8161\n",
       " [33]  57.9775  54.5545  60.4172  63.8309  62.9682  61.3448  62.9033  63.4320\n",
       " [41]  66.3263  65.6305  63.2001  63.5990  63.4877  62.6713  63.3671  63.6639\n",
       " [49]  62.9033  61.3448  66.0387  68.8773  72.1240  70.7325  73.8030  72.7084\n",
       " [57]  70.2131  71.0201  69.9812  70.7325  75.3707  75.1388  76.5303  87.3187\n",
       " [65]  84.9996  91.8920  98.0979 100.4170  92.6527  95.3150 101.0570  95.8994\n",
       " [73] 100.6490 141.3540 128.7100 134.4520 141.4650 132.6530 121.8080 112.7080\n",
       " [81] 107.3740 110.6770 112.2440 105.2870 105.5190 110.7420 111.3170 108.4230\n",
       " [89] 106.2150 110.5650 103.4320  96.8270  96.4189  90.7325  86.2705  89.4616\n",
       " [97]  96.9940 114.0440  98.7936  93.3484"
      ]
     },
     "metadata": {},
     "output_type": "display_data"
    }
   ],
   "source": [
    "stock_series[1:100]"
   ]
  },
  {
   "cell_type": "code",
   "execution_count": 7,
   "metadata": {},
   "outputs": [
    {
     "data": {
      "text/html": [
       "253"
      ],
      "text/latex": [
       "253"
      ],
      "text/markdown": [
       "253"
      ],
      "text/plain": [
       "[1] 253"
      ]
     },
     "metadata": {},
     "output_type": "display_data"
    }
   ],
   "source": [
    "length(stock_series)"
   ]
  },
  {
   "cell_type": "markdown",
   "metadata": {},
   "source": [
    "In the cell below we are looking for Additive, Level Shift and Temporary Change outliers in data."
   ]
  },
  {
   "cell_type": "code",
   "execution_count": 8,
   "metadata": {},
   "outputs": [
    {
     "data": {
      "text/plain": [
       "Series: stock_series \n",
       "Regression with ARIMA(1,0,2) errors \n",
       "\n",
       "Coefficients:\n",
       "         ar1     ma1      ma2  intercept     LS64     TC74     TC98     LS101\n",
       "      0.9684  0.2447  -0.1938    66.4713  13.3023  38.1685  19.7573  -14.3880\n",
       "s.e.  0.0181  0.0666   0.0751     7.3123   3.3859   2.9944   3.0811    3.3568\n",
       "        TC122     LS170\n",
       "      13.9086  -24.7271\n",
       "s.e.   3.2432    3.2507\n",
       "\n",
       "sigma^2 estimated as 12.72:  log likelihood=-677.09\n",
       "AIC=1376.17   AICc=1377.27   BIC=1415.04\n",
       "\n",
       "Outliers:\n",
       "  type ind     time coefhat  tstat\n",
       "1   LS  64  2000:35   13.30  3.929\n",
       "2   TC  74  2000:45   38.17 12.747\n",
       "3   TC  98  2000:69   19.76  6.412\n",
       "4   LS 101  2000:72  -14.39 -4.286\n",
       "5   TC 122  2000:93   13.91  4.288\n",
       "6   LS 170 2000:141  -24.73 -7.607"
      ]
     },
     "metadata": {},
     "output_type": "display_data"
    }
   ],
   "source": [
    "stock_outliers <- tso(stock_series,types = c(\"AO\",\"LS\",\"TC\"),maxit.iloop=6)\n",
    "stock_outliers"
   ]
  },
  {
   "cell_type": "code",
   "execution_count": 9,
   "metadata": {},
   "outputs": [
    {
     "data": {
      "image/png": "[encoded data removed]",
      "text/plain": [
       "plot without title"
      ]
     },
     "metadata": {},
     "output_type": "display_data"
    }
   ],
   "source": [
    "plot(stock_outliers)"
   ]
  },
  {
   "cell_type": "markdown",
   "metadata": {},
   "source": [
    "The **tso** algorithm detects and adjusts the series for outliers.\n",
    "In the plot obtained after running the cell above,\n",
    "the gray line is the original series with outliers, and the blue line is the adjusted series.\n",
    "\n",
    "In the bottom portion of the plot, different types of outliers are evident by the unit impulse, \n",
    "as in this image taken from: [tsoutliers R Package for Detection of Outliers in Time Series](https://web.dsa.missouri.edu/static/PDF/DMIR/tsoutliers.pdf).\n",
    "![Unit impulse for different types of outliers](../images/tsoutliers.png)\n",
    "\n",
    "To delve deeper into time series outliers, in addition to the above resource, you can consult the documentation for the _tsoutliers_ package [here](https://cran.r-project.org/web/packages/tsoutliers/tsoutliers.pdf)."
   ]
  },
  {
   "cell_type": "markdown",
   "metadata": {},
   "source": [
    "## Extra\n",
    "\n",
    "-----\n",
    "\n",
    "\n",
    "**Have you used `apply()` before? Here's something similar that does a little more than that** \n",
    "\n",
    "- [sweep()](https://www.rdocumentation.org/packages/base/versions/3.4.3/topics/sweep) - or help(sweep).\n",
    "\n",
    "**Syntax:** sweep(x, MARGIN, STATS, FUN=\"-\", check.margin=T, ...)\n",
    "\n",
    "\n",
    "**`sweep`** is similar to `apply()` where you apply a function to each column or row of a dataframe. \n",
    "But `sweep` is typically used when you operate a matrix by row or by column, \n",
    "and need the flexibility for the input of the operation to have a different value for each row / column. \n",
    "Whether you operate by row(1) or column(2) is defined by MARGIN, the second parameter in below code. \n",
    "So in below piece of code, for each column you will take a value from c(10, 20, 30) which is being defined by STATS parameter and use in the operation \"+\" defined by FUN parameter."
   ]
  },
  {
   "cell_type": "code",
   "execution_count": 10,
   "metadata": {},
   "outputs": [
    {
     "name": "stdout",
     "output_type": "stream",
     "text": [
      "  Weight Waist Height\n",
      "1    130    26    140\n",
      "2    110    24    155\n",
      "3    118    25    142\n",
      "4    112    25    175\n",
      "5    128    26    170\n"
     ]
    },
    {
     "data": {
      "text/html": [
       "<table>\n",
       "<thead><tr><th scope=col>Weight</th><th scope=col>Waist</th><th scope=col>Height</th></tr></thead>\n",
       "<tbody>\n",
       "\t<tr><td>140</td><td>46 </td><td>170</td></tr>\n",
       "\t<tr><td>120</td><td>44 </td><td>185</td></tr>\n",
       "\t<tr><td>128</td><td>45 </td><td>172</td></tr>\n",
       "\t<tr><td>122</td><td>45 </td><td>205</td></tr>\n",
       "\t<tr><td>138</td><td>46 </td><td>200</td></tr>\n",
       "</tbody>\n",
       "</table>\n"
      ],
      "text/latex": [
       "\\begin{tabular}{r|lll}\n",
       " Weight & Waist & Height\\\\\n",
       "\\hline\n",
       "\t 140 & 46  & 170\\\\\n",
       "\t 120 & 44  & 185\\\\\n",
       "\t 128 & 45  & 172\\\\\n",
       "\t 122 & 45  & 205\\\\\n",
       "\t 138 & 46  & 200\\\\\n",
       "\\end{tabular}\n"
      ],
      "text/markdown": [
       "\n",
       "| Weight | Waist | Height |\n",
       "|---|---|---|\n",
       "| 140 | 46  | 170 |\n",
       "| 120 | 44  | 185 |\n",
       "| 128 | 45  | 172 |\n",
       "| 122 | 45  | 205 |\n",
       "| 138 | 46  | 200 |\n",
       "\n"
      ],
      "text/plain": [
       "  Weight Waist Height\n",
       "1 140    46    170   \n",
       "2 120    44    185   \n",
       "3 128    45    172   \n",
       "4 122    45    205   \n",
       "5 138    46    200   "
      ]
     },
     "metadata": {},
     "output_type": "display_data"
    }
   ],
   "source": [
    "# Sample code explaining what sweep() is doing\n",
    "a = c(130,110,118,112,128)\n",
    "b = c(26,24,25,25,26)\n",
    "c = c(140,155,142,175,170)\n",
    "names=c(\"Weight\",\"Waist\",\"Height\")\n",
    "size = data.frame(a,b,c)\n",
    "names(size)=names\n",
    "print(size)\n",
    "\n",
    "# We are adding values 10, 20, 30 to columns \n",
    "sweep(size, 2, c(10, 20, 30), \"+\")\n"
   ]
  },
  {
   "cell_type": "markdown",
   "metadata": {},
   "source": [
    "--- "
   ]
  }
 ],
 "metadata": {
  "kernelspec": {
   "display_name": "R",
   "language": "R",
   "name": "ir"
  },
  "language_info": {
   "codemirror_mode": "r",
   "file_extension": ".r",
   "mimetype": "text/x-r-source",
   "name": "R",
   "pygments_lexer": "r",
   "version": "3.5.1"
  }
 },
 "nbformat": 4,
 "nbformat_minor": 2
}
