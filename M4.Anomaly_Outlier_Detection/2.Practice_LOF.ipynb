{
 "cells": [
  {
   "cell_type": "markdown",
   "metadata": {},
   "source": [
    "# Practice: Anomaly Detection with LOF"
   ]
  },
  {
   "cell_type": "markdown",
   "metadata": {},
   "source": [
    "In the second lab we showed how to use the LOF algorithm with prostate cancer data.\n",
    "We call this Outlier Detection Using Local Outlier Factor (LOF)\n",
    "\n",
    "Local outlier factor (LOF) is a proximity-based outlier detection model in Aggarwal's classification scheme.  \n",
    "\n",
    "The basic procedure is to:\n",
    "\n",
    "- For each point, compute the density of its local neighborhood.\n",
    "- Compute local outlier factor (LOF) of a sample p as the average of the ratios of the density of sample p and the density of its nearest neighbors.\n",
    "- Outliers are points with largest LOF value.\n",
    "\n",
    "The below wiki page goes into more detail on how this method works. \n",
    "\n",
    "**Reference:** \n",
    "- [Wiki](https://en.wikipedia.org/wiki/Local_outlier_factor)\n",
    "\n",
    "In this practice, we want you to apply LOF to statewide crime data. The dataset is found at:\n",
    "`/dsa/data/all_datasets/mini_project/us_statewide_crime.csv`"
   ]
  },
  {
   "cell_type": "markdown",
   "metadata": {},
   "source": [
    "For future reference, it is good to know you can check out the file beforehand to make sure the separating character is what you'd expect and whether it has headers or not like this in a terminal, from your home directory on your server:\n",
    "\n",
    "```\n",
    "[sebcq5@metal ~]$ head /dsa/data/all_datasets/mini_project/us_statewide_crime.csv\n",
    "State,violent crime rate,murder rate,poverty,high school,college,single parent,unemployed,metropolitan\n",
    "Alabama,486,7.4,14.7,77.5,20.4,26,4.6,70.2\n",
    "Alaska,567,4.3,8.4,90.4,28.1,23.2,6.6,41.6\n",
    "Arizona,532,7,13.5,85.1,24.6,23.5,3.9,87.9\n",
    "Arkansas,445,6.3,15.8,81.7,18.4,24.7,4.4,49\n",
    "California,622,6.1,14,81.2,27.5,21.8,4.9,96.7\n",
    "Colorado,334,3.1,8.5,89.7,34.6,20.8,2.7,84\n",
    "Connecticut,325,2.9,7.7,88.2,31.6,22.9,2.3,95.6\n",
    "Delaware,684,3.2,9.9,86.1,24,25.6,4,81.4\n",
    "District of Columbia,1508,41.8,17.4,83.2,38.3,44.7,5.8,10\n",
    "```\n",
    "\n",
    "**Activity 1**: First we'll load the Data Mining with R (DMwR) library and read in the dataset into a dataframe named `crime`."
   ]
  },
  {
   "cell_type": "code",
   "execution_count": 1,
   "metadata": {},
   "outputs": [
    {
     "name": "stderr",
     "output_type": "stream",
     "text": [
      "Loading required package: lattice\n",
      "Loading required package: grid\n"
     ]
    }
   ],
   "source": [
    "library(DMwR)\n",
    "crime <- read.table(\"/dsa/data/all_datasets/mini_project/us_statewide_crime.csv\",sep=',',header=TRUE)\n"
   ]
  },
  {
   "cell_type": "markdown",
   "metadata": {},
   "source": [
    "**Activity 2**: Examine the dataset to get a sense of what we're working with.  Look at the top rows of the file, check out the number of rows and columns, and summarize the data's distribution.\n",
    "\n",
    "Note: Unfortunately, the provenance of this dataset has been lost or misplaced. We also do not know the dates this data covers. This is less than ideal, but will do for a practice."
   ]
  },
  {
   "cell_type": "code",
   "execution_count": 2,
   "metadata": {},
   "outputs": [
    {
     "data": {
      "text/html": [
       "<table>\n",
       "<thead><tr><th scope=col>State</th><th scope=col>violent.crime.rate</th><th scope=col>murder.rate</th><th scope=col>poverty</th><th scope=col>high.school</th><th scope=col>college</th><th scope=col>single.parent</th><th scope=col>unemployed</th><th scope=col>metropolitan</th></tr></thead>\n",
       "<tbody>\n",
       "\t<tr><td>Alabama   </td><td>486       </td><td>7.4       </td><td>14.7      </td><td>77.5      </td><td>20.4      </td><td>26.0      </td><td>4.6       </td><td>70.2      </td></tr>\n",
       "\t<tr><td>Alaska    </td><td>567       </td><td>4.3       </td><td> 8.4      </td><td>90.4      </td><td>28.1      </td><td>23.2      </td><td>6.6       </td><td>41.6      </td></tr>\n",
       "\t<tr><td>Arizona   </td><td>532       </td><td>7.0       </td><td>13.5      </td><td>85.1      </td><td>24.6      </td><td>23.5      </td><td>3.9       </td><td>87.9      </td></tr>\n",
       "\t<tr><td>Arkansas  </td><td>445       </td><td>6.3       </td><td>15.8      </td><td>81.7      </td><td>18.4      </td><td>24.7      </td><td>4.4       </td><td>49.0      </td></tr>\n",
       "\t<tr><td>California</td><td>622       </td><td>6.1       </td><td>14.0      </td><td>81.2      </td><td>27.5      </td><td>21.8      </td><td>4.9       </td><td>96.7      </td></tr>\n",
       "\t<tr><td>Colorado  </td><td>334       </td><td>3.1       </td><td> 8.5      </td><td>89.7      </td><td>34.6      </td><td>20.8      </td><td>2.7       </td><td>84.0      </td></tr>\n",
       "</tbody>\n",
       "</table>\n"
      ],
      "text/latex": [
       "\\begin{tabular}{r|lllllllll}\n",
       " State & violent.crime.rate & murder.rate & poverty & high.school & college & single.parent & unemployed & metropolitan\\\\\n",
       "\\hline\n",
       "\t Alabama    & 486        & 7.4        & 14.7       & 77.5       & 20.4       & 26.0       & 4.6        & 70.2      \\\\\n",
       "\t Alaska     & 567        & 4.3        &  8.4       & 90.4       & 28.1       & 23.2       & 6.6        & 41.6      \\\\\n",
       "\t Arizona    & 532        & 7.0        & 13.5       & 85.1       & 24.6       & 23.5       & 3.9        & 87.9      \\\\\n",
       "\t Arkansas   & 445        & 6.3        & 15.8       & 81.7       & 18.4       & 24.7       & 4.4        & 49.0      \\\\\n",
       "\t California & 622        & 6.1        & 14.0       & 81.2       & 27.5       & 21.8       & 4.9        & 96.7      \\\\\n",
       "\t Colorado   & 334        & 3.1        &  8.5       & 89.7       & 34.6       & 20.8       & 2.7        & 84.0      \\\\\n",
       "\\end{tabular}\n"
      ],
      "text/markdown": [
       "\n",
       "| State | violent.crime.rate | murder.rate | poverty | high.school | college | single.parent | unemployed | metropolitan |\n",
       "|---|---|---|---|---|---|---|---|---|\n",
       "| Alabama    | 486        | 7.4        | 14.7       | 77.5       | 20.4       | 26.0       | 4.6        | 70.2       |\n",
       "| Alaska     | 567        | 4.3        |  8.4       | 90.4       | 28.1       | 23.2       | 6.6        | 41.6       |\n",
       "| Arizona    | 532        | 7.0        | 13.5       | 85.1       | 24.6       | 23.5       | 3.9        | 87.9       |\n",
       "| Arkansas   | 445        | 6.3        | 15.8       | 81.7       | 18.4       | 24.7       | 4.4        | 49.0       |\n",
       "| California | 622        | 6.1        | 14.0       | 81.2       | 27.5       | 21.8       | 4.9        | 96.7       |\n",
       "| Colorado   | 334        | 3.1        |  8.5       | 89.7       | 34.6       | 20.8       | 2.7        | 84.0       |\n",
       "\n"
      ],
      "text/plain": [
       "  State      violent.crime.rate murder.rate poverty high.school college\n",
       "1 Alabama    486                7.4         14.7    77.5        20.4   \n",
       "2 Alaska     567                4.3          8.4    90.4        28.1   \n",
       "3 Arizona    532                7.0         13.5    85.1        24.6   \n",
       "4 Arkansas   445                6.3         15.8    81.7        18.4   \n",
       "5 California 622                6.1         14.0    81.2        27.5   \n",
       "6 Colorado   334                3.1          8.5    89.7        34.6   \n",
       "  single.parent unemployed metropolitan\n",
       "1 26.0          4.6        70.2        \n",
       "2 23.2          6.6        41.6        \n",
       "3 23.5          3.9        87.9        \n",
       "4 24.7          4.4        49.0        \n",
       "5 21.8          4.9        96.7        \n",
       "6 20.8          2.7        84.0        "
      ]
     },
     "metadata": {},
     "output_type": "display_data"
    }
   ],
   "source": [
    "### Write code that shows the top rows of the file you read in. \n",
    "\n",
    "# ----------------------------------\n",
    "head(crime)\n"
   ]
  },
  {
   "cell_type": "code",
   "execution_count": 3,
   "metadata": {},
   "outputs": [
    {
     "data": {
      "text/html": [
       "<ol class=list-inline>\n",
       "\t<li>51</li>\n",
       "\t<li>9</li>\n",
       "</ol>\n"
      ],
      "text/latex": [
       "\\begin{enumerate*}\n",
       "\\item 51\n",
       "\\item 9\n",
       "\\end{enumerate*}\n"
      ],
      "text/markdown": [
       "1. 51\n",
       "2. 9\n",
       "\n",
       "\n"
      ],
      "text/plain": [
       "[1] 51  9"
      ]
     },
     "metadata": {},
     "output_type": "display_data"
    }
   ],
   "source": [
    "# Write code that gives you an idea how many rows and columns the dataset has\n",
    "\n",
    "# ----------------------------------\n",
    "dim(crime)"
   ]
  },
  {
   "cell_type": "code",
   "execution_count": 4,
   "metadata": {},
   "outputs": [
    {
     "data": {
      "text/plain": [
       "        State    violent.crime.rate  murder.rate        poverty     \n",
       " Alabama   : 1   Min.   :  81.0     Min.   : 0.600   Min.   : 7.30  \n",
       " Alaska    : 1   1st Qu.: 281.5     1st Qu.: 2.700   1st Qu.: 9.45  \n",
       " Arizona   : 1   Median : 384.0     Median : 4.800   Median :10.60  \n",
       " Arkansas  : 1   Mean   : 441.6     Mean   : 5.333   Mean   :11.56  \n",
       " California: 1   3rd Qu.: 549.5     3rd Qu.: 6.400   3rd Qu.:13.45  \n",
       " Colorado  : 1   Max.   :1508.0     Max.   :41.800   Max.   :19.30  \n",
       " (Other)   :45                                                      \n",
       "  high.school       college      single.parent     unemployed   \n",
       " Min.   :77.10   Min.   :15.30   Min.   :13.60   Min.   :2.200  \n",
       " 1st Qu.:82.55   1st Qu.:22.55   1st Qu.:21.10   1st Qu.:3.250  \n",
       " Median :86.10   Median :24.60   Median :22.80   Median :3.900  \n",
       " Mean   :85.44   Mean   :25.19   Mean   :23.40   Mean   :3.941  \n",
       " 3rd Qu.:88.15   3rd Qu.:27.80   3rd Qu.:24.65   3rd Qu.:4.500  \n",
       " Max.   :91.80   Max.   :38.30   Max.   :44.70   Max.   :6.600  \n",
       "                                                                \n",
       "  metropolitan   \n",
       " Min.   : 27.90  \n",
       " 1st Qu.: 50.60  \n",
       " Median : 70.30  \n",
       " Mean   : 68.36  \n",
       " 3rd Qu.: 84.50  \n",
       " Max.   :100.00  \n",
       "                 "
      ]
     },
     "metadata": {},
     "output_type": "display_data"
    }
   ],
   "source": [
    "## Write code that summarizes the crime data's distribution\n",
    "\n",
    "summary(crime)"
   ]
  },
  {
   "cell_type": "markdown",
   "metadata": {},
   "source": [
    "We will be using LOF to identify and plot outliers, but our data includes the State column which is non-numeric. Even though it is non-numeric, we don't want to lose this important semantic information. So we will extract the State into a new dataframe named state and then remove it from the crime dataframe.\n",
    "\n",
    "**Activity 3**: Extract the State column into a new dataframe named `state` and then remove the State column from the crime dataframe. Be sure to check your work by looking at a few rows from each dataframe.\n"
   ]
  },
  {
   "cell_type": "code",
   "execution_count": 5,
   "metadata": {},
   "outputs": [],
   "source": [
    "# create the state dataframe from the State column of crime\n",
    "# Your answer here:\n",
    "# ----------------------------------\n",
    "state <- crime[,1]\n",
    "\n",
    "\n",
    "\n",
    "#remove the State column from the crime dataframe\n",
    "# Your answer here:\n",
    "# ----------------------------------\n",
    "crime <- crime[,-1]\n"
   ]
  },
  {
   "cell_type": "code",
   "execution_count": 6,
   "metadata": {},
   "outputs": [
    {
     "data": {
      "text/html": [
       "<ol class=list-inline>\n",
       "\t<li>Alabama</li>\n",
       "\t<li>Alaska</li>\n",
       "\t<li>Arizona</li>\n",
       "\t<li>Arkansas</li>\n",
       "\t<li>California</li>\n",
       "\t<li>Colorado</li>\n",
       "</ol>\n",
       "\n",
       "<details>\n",
       "\t<summary style=display:list-item;cursor:pointer>\n",
       "\t\t<strong>Levels</strong>:\n",
       "\t</summary>\n",
       "\t<ol class=list-inline>\n",
       "\t\t<li>'Alabama'</li>\n",
       "\t\t<li>'Alaska'</li>\n",
       "\t\t<li>'Arizona'</li>\n",
       "\t\t<li>'Arkansas'</li>\n",
       "\t\t<li>'California'</li>\n",
       "\t\t<li>'Colorado'</li>\n",
       "\t\t<li>'Connecticut'</li>\n",
       "\t\t<li>'Delaware'</li>\n",
       "\t\t<li>'District of Columbia'</li>\n",
       "\t\t<li>'Florida'</li>\n",
       "\t\t<li>'Georgia'</li>\n",
       "\t\t<li>'Hawaii'</li>\n",
       "\t\t<li>'Idaho'</li>\n",
       "\t\t<li>'Illinois'</li>\n",
       "\t\t<li>'Indiana'</li>\n",
       "\t\t<li>'Iowa'</li>\n",
       "\t\t<li>'Kansas'</li>\n",
       "\t\t<li>'Kentucky'</li>\n",
       "\t\t<li>'Lousiana'</li>\n",
       "\t\t<li>'Maine'</li>\n",
       "\t\t<li>'Maryland'</li>\n",
       "\t\t<li>'Massachusetts'</li>\n",
       "\t\t<li>'Michigan'</li>\n",
       "\t\t<li>'Minnesota'</li>\n",
       "\t\t<li>'Mississippi'</li>\n",
       "\t\t<li>'Missouri'</li>\n",
       "\t\t<li>'Montana'</li>\n",
       "\t\t<li>'Nebraska'</li>\n",
       "\t\t<li>'Nevada'</li>\n",
       "\t\t<li>'New Hampshire'</li>\n",
       "\t\t<li>'New Jersey'</li>\n",
       "\t\t<li>'New Mexico'</li>\n",
       "\t\t<li>'New York'</li>\n",
       "\t\t<li>'North Carolina'</li>\n",
       "\t\t<li>'North Dakota'</li>\n",
       "\t\t<li>'Ohio'</li>\n",
       "\t\t<li>'Oklahoma'</li>\n",
       "\t\t<li>'Oregon'</li>\n",
       "\t\t<li>'Pennsylvania'</li>\n",
       "\t\t<li>'Rhode Island'</li>\n",
       "\t\t<li>'South Carolina'</li>\n",
       "\t\t<li>'South Dakota'</li>\n",
       "\t\t<li>'Tennessee'</li>\n",
       "\t\t<li>'Texas'</li>\n",
       "\t\t<li>'Utah'</li>\n",
       "\t\t<li>'Vermont'</li>\n",
       "\t\t<li>'Virginia'</li>\n",
       "\t\t<li>'Washington'</li>\n",
       "\t\t<li>'West Virginia'</li>\n",
       "\t\t<li>'Wisconsin'</li>\n",
       "\t\t<li>'Wyoming'</li>\n",
       "\t</ol>\n",
       "</details>"
      ],
      "text/latex": [
       "\\begin{enumerate*}\n",
       "\\item Alabama\n",
       "\\item Alaska\n",
       "\\item Arizona\n",
       "\\item Arkansas\n",
       "\\item California\n",
       "\\item Colorado\n",
       "\\end{enumerate*}\n",
       "\n",
       "\\emph{Levels}: \\begin{enumerate*}\n",
       "\\item 'Alabama'\n",
       "\\item 'Alaska'\n",
       "\\item 'Arizona'\n",
       "\\item 'Arkansas'\n",
       "\\item 'California'\n",
       "\\item 'Colorado'\n",
       "\\item 'Connecticut'\n",
       "\\item 'Delaware'\n",
       "\\item 'District of Columbia'\n",
       "\\item 'Florida'\n",
       "\\item 'Georgia'\n",
       "\\item 'Hawaii'\n",
       "\\item 'Idaho'\n",
       "\\item 'Illinois'\n",
       "\\item 'Indiana'\n",
       "\\item 'Iowa'\n",
       "\\item 'Kansas'\n",
       "\\item 'Kentucky'\n",
       "\\item 'Lousiana'\n",
       "\\item 'Maine'\n",
       "\\item 'Maryland'\n",
       "\\item 'Massachusetts'\n",
       "\\item 'Michigan'\n",
       "\\item 'Minnesota'\n",
       "\\item 'Mississippi'\n",
       "\\item 'Missouri'\n",
       "\\item 'Montana'\n",
       "\\item 'Nebraska'\n",
       "\\item 'Nevada'\n",
       "\\item 'New Hampshire'\n",
       "\\item 'New Jersey'\n",
       "\\item 'New Mexico'\n",
       "\\item 'New York'\n",
       "\\item 'North Carolina'\n",
       "\\item 'North Dakota'\n",
       "\\item 'Ohio'\n",
       "\\item 'Oklahoma'\n",
       "\\item 'Oregon'\n",
       "\\item 'Pennsylvania'\n",
       "\\item 'Rhode Island'\n",
       "\\item 'South Carolina'\n",
       "\\item 'South Dakota'\n",
       "\\item 'Tennessee'\n",
       "\\item 'Texas'\n",
       "\\item 'Utah'\n",
       "\\item 'Vermont'\n",
       "\\item 'Virginia'\n",
       "\\item 'Washington'\n",
       "\\item 'West Virginia'\n",
       "\\item 'Wisconsin'\n",
       "\\item 'Wyoming'\n",
       "\\end{enumerate*}\n"
      ],
      "text/markdown": [
       "1. Alabama\n",
       "2. Alaska\n",
       "3. Arizona\n",
       "4. Arkansas\n",
       "5. California\n",
       "6. Colorado\n",
       "\n",
       "\n",
       "\n",
       "**Levels**: 1. 'Alabama'\n",
       "2. 'Alaska'\n",
       "3. 'Arizona'\n",
       "4. 'Arkansas'\n",
       "5. 'California'\n",
       "6. 'Colorado'\n",
       "7. 'Connecticut'\n",
       "8. 'Delaware'\n",
       "9. 'District of Columbia'\n",
       "10. 'Florida'\n",
       "11. 'Georgia'\n",
       "12. 'Hawaii'\n",
       "13. 'Idaho'\n",
       "14. 'Illinois'\n",
       "15. 'Indiana'\n",
       "16. 'Iowa'\n",
       "17. 'Kansas'\n",
       "18. 'Kentucky'\n",
       "19. 'Lousiana'\n",
       "20. 'Maine'\n",
       "21. 'Maryland'\n",
       "22. 'Massachusetts'\n",
       "23. 'Michigan'\n",
       "24. 'Minnesota'\n",
       "25. 'Mississippi'\n",
       "26. 'Missouri'\n",
       "27. 'Montana'\n",
       "28. 'Nebraska'\n",
       "29. 'Nevada'\n",
       "30. 'New Hampshire'\n",
       "31. 'New Jersey'\n",
       "32. 'New Mexico'\n",
       "33. 'New York'\n",
       "34. 'North Carolina'\n",
       "35. 'North Dakota'\n",
       "36. 'Ohio'\n",
       "37. 'Oklahoma'\n",
       "38. 'Oregon'\n",
       "39. 'Pennsylvania'\n",
       "40. 'Rhode Island'\n",
       "41. 'South Carolina'\n",
       "42. 'South Dakota'\n",
       "43. 'Tennessee'\n",
       "44. 'Texas'\n",
       "45. 'Utah'\n",
       "46. 'Vermont'\n",
       "47. 'Virginia'\n",
       "48. 'Washington'\n",
       "49. 'West Virginia'\n",
       "50. 'Wisconsin'\n",
       "51. 'Wyoming'\n",
       "\n",
       "\n"
      ],
      "text/plain": [
       "[1] Alabama    Alaska     Arizona    Arkansas   California Colorado  \n",
       "51 Levels: Alabama Alaska Arizona Arkansas California Colorado ... Wyoming"
      ]
     },
     "metadata": {},
     "output_type": "display_data"
    }
   ],
   "source": [
    "# is state what you expect?\n",
    "# Your answer here (code to determine):\n",
    "# ----------------------------------\n",
    "head(state)\n",
    "\n"
   ]
  },
  {
   "cell_type": "code",
   "execution_count": 7,
   "metadata": {},
   "outputs": [
    {
     "data": {
      "text/html": [
       "<table>\n",
       "<thead><tr><th scope=col>violent.crime.rate</th><th scope=col>murder.rate</th><th scope=col>poverty</th><th scope=col>high.school</th><th scope=col>college</th><th scope=col>single.parent</th><th scope=col>unemployed</th><th scope=col>metropolitan</th></tr></thead>\n",
       "<tbody>\n",
       "\t<tr><td>486 </td><td>7.4 </td><td>14.7</td><td>77.5</td><td>20.4</td><td>26.0</td><td>4.6 </td><td>70.2</td></tr>\n",
       "\t<tr><td>567 </td><td>4.3 </td><td> 8.4</td><td>90.4</td><td>28.1</td><td>23.2</td><td>6.6 </td><td>41.6</td></tr>\n",
       "\t<tr><td>532 </td><td>7.0 </td><td>13.5</td><td>85.1</td><td>24.6</td><td>23.5</td><td>3.9 </td><td>87.9</td></tr>\n",
       "\t<tr><td>445 </td><td>6.3 </td><td>15.8</td><td>81.7</td><td>18.4</td><td>24.7</td><td>4.4 </td><td>49.0</td></tr>\n",
       "\t<tr><td>622 </td><td>6.1 </td><td>14.0</td><td>81.2</td><td>27.5</td><td>21.8</td><td>4.9 </td><td>96.7</td></tr>\n",
       "\t<tr><td>334 </td><td>3.1 </td><td> 8.5</td><td>89.7</td><td>34.6</td><td>20.8</td><td>2.7 </td><td>84.0</td></tr>\n",
       "</tbody>\n",
       "</table>\n"
      ],
      "text/latex": [
       "\\begin{tabular}{r|llllllll}\n",
       " violent.crime.rate & murder.rate & poverty & high.school & college & single.parent & unemployed & metropolitan\\\\\n",
       "\\hline\n",
       "\t 486  & 7.4  & 14.7 & 77.5 & 20.4 & 26.0 & 4.6  & 70.2\\\\\n",
       "\t 567  & 4.3  &  8.4 & 90.4 & 28.1 & 23.2 & 6.6  & 41.6\\\\\n",
       "\t 532  & 7.0  & 13.5 & 85.1 & 24.6 & 23.5 & 3.9  & 87.9\\\\\n",
       "\t 445  & 6.3  & 15.8 & 81.7 & 18.4 & 24.7 & 4.4  & 49.0\\\\\n",
       "\t 622  & 6.1  & 14.0 & 81.2 & 27.5 & 21.8 & 4.9  & 96.7\\\\\n",
       "\t 334  & 3.1  &  8.5 & 89.7 & 34.6 & 20.8 & 2.7  & 84.0\\\\\n",
       "\\end{tabular}\n"
      ],
      "text/markdown": [
       "\n",
       "| violent.crime.rate | murder.rate | poverty | high.school | college | single.parent | unemployed | metropolitan |\n",
       "|---|---|---|---|---|---|---|---|\n",
       "| 486  | 7.4  | 14.7 | 77.5 | 20.4 | 26.0 | 4.6  | 70.2 |\n",
       "| 567  | 4.3  |  8.4 | 90.4 | 28.1 | 23.2 | 6.6  | 41.6 |\n",
       "| 532  | 7.0  | 13.5 | 85.1 | 24.6 | 23.5 | 3.9  | 87.9 |\n",
       "| 445  | 6.3  | 15.8 | 81.7 | 18.4 | 24.7 | 4.4  | 49.0 |\n",
       "| 622  | 6.1  | 14.0 | 81.2 | 27.5 | 21.8 | 4.9  | 96.7 |\n",
       "| 334  | 3.1  |  8.5 | 89.7 | 34.6 | 20.8 | 2.7  | 84.0 |\n",
       "\n"
      ],
      "text/plain": [
       "  violent.crime.rate murder.rate poverty high.school college single.parent\n",
       "1 486                7.4         14.7    77.5        20.4    26.0         \n",
       "2 567                4.3          8.4    90.4        28.1    23.2         \n",
       "3 532                7.0         13.5    85.1        24.6    23.5         \n",
       "4 445                6.3         15.8    81.7        18.4    24.7         \n",
       "5 622                6.1         14.0    81.2        27.5    21.8         \n",
       "6 334                3.1          8.5    89.7        34.6    20.8         \n",
       "  unemployed metropolitan\n",
       "1 4.6        70.2        \n",
       "2 6.6        41.6        \n",
       "3 3.9        87.9        \n",
       "4 4.4        49.0        \n",
       "5 4.9        96.7        \n",
       "6 2.7        84.0        "
      ]
     },
     "metadata": {},
     "output_type": "display_data"
    }
   ],
   "source": [
    "# is crime what you expect?\n",
    "# Your answer here (code to determine):\n",
    "# ----------------------------------\n",
    "head(crime)"
   ]
  },
  {
   "cell_type": "markdown",
   "metadata": {},
   "source": [
    "Next, we will use LOF to identify and plot outliers. For the first plot, we would like you to use a density plot of the outlier scores. We don't think we've exposed you to density plots before. They are similar to histograms, but for continuous data and using a smoothing technique. For more details, see:\n",
    "\n",
    "- [Density Plot](https://datavizcatalogue.com/methods/density_plot.html)\n",
    "- [Kernel Desnity Estimation](https://en.wikipedia.org/wiki/Kernel_density_estimation)\n",
    "\n",
    "Here are some references for you to figure out how to do a density plot in R:\n",
    "- [plot.density](https://www.rdocumentation.org/packages/stats/versions/3.4.3/topics/plot.density)\n",
    "Note it says that the input parameter `x` should be a density object\n",
    "- [density](https://www.rdocumentation.org/packages/stats/versions/3.4.3/topics/density)\n",
    "Notice the specifications for the return value say \"If give.Rkern is true, the number $R(K)$, otherwise an object with class \"density\" whose underlying structure is a list...\n",
    "\n",
    "We recommend you use `k=9` for your LOF parameter for number of neighbors.  \n",
    "Your result should look like this:\n",
    "<img src=\"../images/density_plot.png\" alt=\"example density plot\" style=\"width: 400px;\"/>\n",
    "**Activity 4**: Use LOF to identify outliers, and use a density plot of the outlier scores to visualize outliers.\n"
   ]
  },
  {
   "cell_type": "code",
   "execution_count": 8,
   "metadata": {},
   "outputs": [
    {
     "data": {
      "image/png": "[encoded data removed]",
      "text/plain": [
       "Plot with title “density.default(x = outlier.scores)”"
      ]
     },
     "metadata": {},
     "output_type": "display_data"
    }
   ],
   "source": [
    "## Write code to first identify and then plot outliers using a density plot of outlier scores\n",
    "# Your answer here:\n",
    "# ----------------------------------\n",
    "outlier.scores <- lofactor(crime,k=9)\n",
    "\n",
    "plot(density(outlier.scores))\n"
   ]
  },
  {
   "cell_type": "markdown",
   "metadata": {},
   "source": [
    "**Activity 5**: List the indexes and the outlier scores of the first five outliers"
   ]
  },
  {
   "cell_type": "code",
   "execution_count": 9,
   "metadata": {},
   "outputs": [
    {
     "data": {
      "text/html": [
       "<ol class=list-inline>\n",
       "\t<li>9</li>\n",
       "\t<li>35</li>\n",
       "\t<li>20</li>\n",
       "\t<li>46</li>\n",
       "\t<li>42</li>\n",
       "</ol>\n"
      ],
      "text/latex": [
       "\\begin{enumerate*}\n",
       "\\item 9\n",
       "\\item 35\n",
       "\\item 20\n",
       "\\item 46\n",
       "\\item 42\n",
       "\\end{enumerate*}\n"
      ],
      "text/markdown": [
       "1. 9\n",
       "2. 35\n",
       "3. 20\n",
       "4. 46\n",
       "5. 42\n",
       "\n",
       "\n"
      ],
      "text/plain": [
       "[1]  9 35 20 46 42"
      ]
     },
     "metadata": {},
     "output_type": "display_data"
    }
   ],
   "source": [
    "## Write code to List the indexes of the five points with the highest outlier scores\n",
    "# Your answer here:\n",
    "# ----------------------------------\n",
    "outliers <- order(outlier.scores,decreasing = T)[1:5]\n",
    "outliers"
   ]
  },
  {
   "cell_type": "code",
   "execution_count": 10,
   "metadata": {},
   "outputs": [
    {
     "data": {
      "text/html": [
       "<ol class=list-inline>\n",
       "\t<li>5.15001078390465</li>\n",
       "\t<li>2.12691322271761</li>\n",
       "\t<li>1.93292363255242</li>\n",
       "\t<li>1.91602341541062</li>\n",
       "\t<li>1.56414624651592</li>\n",
       "</ol>\n"
      ],
      "text/latex": [
       "\\begin{enumerate*}\n",
       "\\item 5.15001078390465\n",
       "\\item 2.12691322271761\n",
       "\\item 1.93292363255242\n",
       "\\item 1.91602341541062\n",
       "\\item 1.56414624651592\n",
       "\\end{enumerate*}\n"
      ],
      "text/markdown": [
       "1. 5.15001078390465\n",
       "2. 2.12691322271761\n",
       "3. 1.93292363255242\n",
       "4. 1.91602341541062\n",
       "5. 1.56414624651592\n",
       "\n",
       "\n"
      ],
      "text/plain": [
       "[1] 5.150011 2.126913 1.932924 1.916023 1.564146"
      ]
     },
     "metadata": {},
     "output_type": "display_data"
    }
   ],
   "source": [
    "## Use the indexes calculated above to print the outlier scores for those five points\n",
    "# Your answer here:\n",
    "# ----------------------------------\n",
    "outlier.scores[outliers]\n"
   ]
  },
  {
   "cell_type": "markdown",
   "metadata": {},
   "source": [
    "**Activity 6**: Identify the above five points in a biplot of the first two principal components."
   ]
  },
  {
   "cell_type": "code",
   "execution_count": 11,
   "metadata": {},
   "outputs": [
    {
     "data": {
      "image/png": "[encoded data removed]",
      "text/plain": [
       "plot without title"
      ]
     },
     "metadata": {},
     "output_type": "display_data"
    }
   ],
   "source": [
    "## Write code that identifies the outliers in a plot\n",
    "# Your answer here:\n",
    "# ----------------------------------\n",
    "n<-nrow(crime)\n",
    "labels <- 1:n\n",
    "labels[-outliers] <- \".\"\n",
    "biplot(prcomp(crime),cex=.8,xlabs=labels)\n"
   ]
  },
  {
   "cell_type": "markdown",
   "metadata": {},
   "source": [
    "Next we would like to visualize the relationship between outliers and the various factors included in the crime data. \n",
    "A correlation matrix plot (also called a pairs plot) showing the bivariate relationship between each pair of parameters in the dataset is a good way to do this, \n",
    "while highlighting the outliers with a different symbol and color.\n",
    "\n",
    "- [Pairs plot](https://www.rdocumentation.org/packages/graphics/versions/3.4.3/topics/pairs)\n",
    "\n",
    "You will want to set the graphical parameters for pch and col\n",
    "\n",
    "- [Graphical parameters](https://www.rdocumentation.org/packages/graphics/versions/3.4.3/topics/par)\n",
    "\n",
    "We also want two different symbols and colors in the vectors pch and col, varying by index on whether it is a normal point or an outlier. We can do this by creating a vector of the default symbol of the same length as the dataframe (which you probably calculated in activity 6) and then replacing it with the outlier character for the indexes of the outliers. The rep function can create the vector for us.\n",
    "\n",
    "- [rep function](https://www.rdocumentation.org/packages/base/versions/3.4.3/topics/rep)\n",
    "\n",
    "Your resultant matrix of plots should look like this:\n",
    "\n",
    "<img src=\"../images/pairs_plot.png\" alt=\"example pairs plot\" style=\"width: 600px;\"/>\n",
    "\n",
    "**Activity 8**: Write code to visualize the relationship between outliers and the various factors included in the crime data. "
   ]
  },
  {
   "cell_type": "code",
   "execution_count": 18,
   "metadata": {},
   "outputs": [
    {
     "data": {
      "image/png": "[encoded data removed]",
      "text/plain": [
       "plot without title"
      ]
     },
     "metadata": {},
     "output_type": "display_data"
    }
   ],
   "source": [
    "## Write code to visualize the relationship between outliers and various factors included \n",
    "## in the crime data using a pairs plot.\n",
    "# Your answer here:\n",
    "# ----------------------------------\n",
    "\n",
    "pch <- rep(\".\", n)\n",
    "pch[outliers] <- \"+\"\n",
    "\n",
    "col <- rep(\"black\", n)\n",
    "col[outliers] <- \"red\"\n",
    "\n",
    "pairs(crime, pch=pch, col=col)\n"
   ]
  },
  {
   "cell_type": "markdown",
   "metadata": {},
   "source": [
    "**Activity 9**: Add the state column back into the crime data set, and list the outliers."
   ]
  },
  {
   "cell_type": "code",
   "execution_count": 21,
   "metadata": {},
   "outputs": [
    {
     "data": {
      "text/html": [
       "<table>\n",
       "<thead><tr><th></th><th scope=col>violent.crime.rate</th><th scope=col>murder.rate</th><th scope=col>poverty</th><th scope=col>high.school</th><th scope=col>college</th><th scope=col>single.parent</th><th scope=col>unemployed</th><th scope=col>metropolitan</th><th scope=col>state</th></tr></thead>\n",
       "<tbody>\n",
       "\t<tr><th scope=row>9</th><td>1508                </td><td>41.8                </td><td>17.4                </td><td>83.2                </td><td>38.3                </td><td>44.7                </td><td>5.8                 </td><td>100.0               </td><td>District of Columbia</td></tr>\n",
       "\t<tr><th scope=row>35</th><td>  81                </td><td> 0.6                </td><td>12.8                </td><td>85.5                </td><td>22.6                </td><td>19.1                </td><td>3.0                 </td><td> 43.4               </td><td>North Dakota        </td></tr>\n",
       "\t<tr><th scope=row>20</th><td> 110                </td><td> 1.2                </td><td> 9.8                </td><td>89.3                </td><td>24.1                </td><td>23.7                </td><td>3.5                 </td><td> 36.3               </td><td>Maine               </td></tr>\n",
       "\t<tr><th scope=row>46</th><td> 114                </td><td> 1.5                </td><td>10.3                </td><td>90.0                </td><td>28.8                </td><td>22.5                </td><td>2.9                 </td><td> 27.9               </td><td>Vermont             </td></tr>\n",
       "\t<tr><th scope=row>42</th><td> 167                </td><td> 0.9                </td><td> 9.4                </td><td>91.8                </td><td>25.7                </td><td>20.7                </td><td>2.3                 </td><td> 34.5               </td><td>South Dakota        </td></tr>\n",
       "</tbody>\n",
       "</table>\n"
      ],
      "text/latex": [
       "\\begin{tabular}{r|lllllllll}\n",
       "  & violent.crime.rate & murder.rate & poverty & high.school & college & single.parent & unemployed & metropolitan & state\\\\\n",
       "\\hline\n",
       "\t9 & 1508                 & 41.8                 & 17.4                 & 83.2                 & 38.3                 & 44.7                 & 5.8                  & 100.0                & District of Columbia\\\\\n",
       "\t35 &   81                 &  0.6                 & 12.8                 & 85.5                 & 22.6                 & 19.1                 & 3.0                  &  43.4                & North Dakota        \\\\\n",
       "\t20 &  110                 &  1.2                 &  9.8                 & 89.3                 & 24.1                 & 23.7                 & 3.5                  &  36.3                & Maine               \\\\\n",
       "\t46 &  114                 &  1.5                 & 10.3                 & 90.0                 & 28.8                 & 22.5                 & 2.9                  &  27.9                & Vermont             \\\\\n",
       "\t42 &  167                 &  0.9                 &  9.4                 & 91.8                 & 25.7                 & 20.7                 & 2.3                  &  34.5                & South Dakota        \\\\\n",
       "\\end{tabular}\n"
      ],
      "text/markdown": [
       "\n",
       "| <!--/--> | violent.crime.rate | murder.rate | poverty | high.school | college | single.parent | unemployed | metropolitan | state |\n",
       "|---|---|---|---|---|---|---|---|---|---|\n",
       "| 9 | 1508                 | 41.8                 | 17.4                 | 83.2                 | 38.3                 | 44.7                 | 5.8                  | 100.0                | District of Columbia |\n",
       "| 35 |   81                 |  0.6                 | 12.8                 | 85.5                 | 22.6                 | 19.1                 | 3.0                  |  43.4                | North Dakota         |\n",
       "| 20 |  110                 |  1.2                 |  9.8                 | 89.3                 | 24.1                 | 23.7                 | 3.5                  |  36.3                | Maine                |\n",
       "| 46 |  114                 |  1.5                 | 10.3                 | 90.0                 | 28.8                 | 22.5                 | 2.9                  |  27.9                | Vermont              |\n",
       "| 42 |  167                 |  0.9                 |  9.4                 | 91.8                 | 25.7                 | 20.7                 | 2.3                  |  34.5                | South Dakota         |\n",
       "\n"
      ],
      "text/plain": [
       "   violent.crime.rate murder.rate poverty high.school college single.parent\n",
       "9  1508               41.8        17.4    83.2        38.3    44.7         \n",
       "35   81                0.6        12.8    85.5        22.6    19.1         \n",
       "20  110                1.2         9.8    89.3        24.1    23.7         \n",
       "46  114                1.5        10.3    90.0        28.8    22.5         \n",
       "42  167                0.9         9.4    91.8        25.7    20.7         \n",
       "   unemployed metropolitan state               \n",
       "9  5.8        100.0        District of Columbia\n",
       "35 3.0         43.4        North Dakota        \n",
       "20 3.5         36.3        Maine               \n",
       "46 2.9         27.9        Vermont             \n",
       "42 2.3         34.5        South Dakota        "
      ]
     },
     "metadata": {},
     "output_type": "display_data"
    }
   ],
   "source": [
    "# Add the state column back into the crime data set, and list the outliers.\n",
    "# Your answer here:\n",
    "# ----------------------------------\n",
    "crime$state = state\n",
    "crime[outliers,]"
   ]
  },
  {
   "cell_type": "code",
   "execution_count": 22,
   "metadata": {},
   "outputs": [
    {
     "data": {
      "text/html": [
       "<table>\n",
       "<thead><tr><th scope=col>violent.crime.rate</th><th scope=col>murder.rate</th><th scope=col>poverty</th><th scope=col>high.school</th><th scope=col>college</th><th scope=col>single.parent</th><th scope=col>unemployed</th><th scope=col>metropolitan</th><th scope=col>state</th></tr></thead>\n",
       "<tbody>\n",
       "\t<tr><td>486       </td><td>7.4       </td><td>14.7      </td><td>77.5      </td><td>20.4      </td><td>26.0      </td><td>4.6       </td><td>70.2      </td><td>Alabama   </td></tr>\n",
       "\t<tr><td>567       </td><td>4.3       </td><td> 8.4      </td><td>90.4      </td><td>28.1      </td><td>23.2      </td><td>6.6       </td><td>41.6      </td><td>Alaska    </td></tr>\n",
       "\t<tr><td>532       </td><td>7.0       </td><td>13.5      </td><td>85.1      </td><td>24.6      </td><td>23.5      </td><td>3.9       </td><td>87.9      </td><td>Arizona   </td></tr>\n",
       "\t<tr><td>445       </td><td>6.3       </td><td>15.8      </td><td>81.7      </td><td>18.4      </td><td>24.7      </td><td>4.4       </td><td>49.0      </td><td>Arkansas  </td></tr>\n",
       "\t<tr><td>622       </td><td>6.1       </td><td>14.0      </td><td>81.2      </td><td>27.5      </td><td>21.8      </td><td>4.9       </td><td>96.7      </td><td>California</td></tr>\n",
       "\t<tr><td>334       </td><td>3.1       </td><td> 8.5      </td><td>89.7      </td><td>34.6      </td><td>20.8      </td><td>2.7       </td><td>84.0      </td><td>Colorado  </td></tr>\n",
       "</tbody>\n",
       "</table>\n"
      ],
      "text/latex": [
       "\\begin{tabular}{r|lllllllll}\n",
       " violent.crime.rate & murder.rate & poverty & high.school & college & single.parent & unemployed & metropolitan & state\\\\\n",
       "\\hline\n",
       "\t 486        & 7.4        & 14.7       & 77.5       & 20.4       & 26.0       & 4.6        & 70.2       & Alabama   \\\\\n",
       "\t 567        & 4.3        &  8.4       & 90.4       & 28.1       & 23.2       & 6.6        & 41.6       & Alaska    \\\\\n",
       "\t 532        & 7.0        & 13.5       & 85.1       & 24.6       & 23.5       & 3.9        & 87.9       & Arizona   \\\\\n",
       "\t 445        & 6.3        & 15.8       & 81.7       & 18.4       & 24.7       & 4.4        & 49.0       & Arkansas  \\\\\n",
       "\t 622        & 6.1        & 14.0       & 81.2       & 27.5       & 21.8       & 4.9        & 96.7       & California\\\\\n",
       "\t 334        & 3.1        &  8.5       & 89.7       & 34.6       & 20.8       & 2.7        & 84.0       & Colorado  \\\\\n",
       "\\end{tabular}\n"
      ],
      "text/markdown": [
       "\n",
       "| violent.crime.rate | murder.rate | poverty | high.school | college | single.parent | unemployed | metropolitan | state |\n",
       "|---|---|---|---|---|---|---|---|---|\n",
       "| 486        | 7.4        | 14.7       | 77.5       | 20.4       | 26.0       | 4.6        | 70.2       | Alabama    |\n",
       "| 567        | 4.3        |  8.4       | 90.4       | 28.1       | 23.2       | 6.6        | 41.6       | Alaska     |\n",
       "| 532        | 7.0        | 13.5       | 85.1       | 24.6       | 23.5       | 3.9        | 87.9       | Arizona    |\n",
       "| 445        | 6.3        | 15.8       | 81.7       | 18.4       | 24.7       | 4.4        | 49.0       | Arkansas   |\n",
       "| 622        | 6.1        | 14.0       | 81.2       | 27.5       | 21.8       | 4.9        | 96.7       | California |\n",
       "| 334        | 3.1        |  8.5       | 89.7       | 34.6       | 20.8       | 2.7        | 84.0       | Colorado   |\n",
       "\n"
      ],
      "text/plain": [
       "  violent.crime.rate murder.rate poverty high.school college single.parent\n",
       "1 486                7.4         14.7    77.5        20.4    26.0         \n",
       "2 567                4.3          8.4    90.4        28.1    23.2         \n",
       "3 532                7.0         13.5    85.1        24.6    23.5         \n",
       "4 445                6.3         15.8    81.7        18.4    24.7         \n",
       "5 622                6.1         14.0    81.2        27.5    21.8         \n",
       "6 334                3.1          8.5    89.7        34.6    20.8         \n",
       "  unemployed metropolitan state     \n",
       "1 4.6        70.2         Alabama   \n",
       "2 6.6        41.6         Alaska    \n",
       "3 3.9        87.9         Arizona   \n",
       "4 4.4        49.0         Arkansas  \n",
       "5 4.9        96.7         California\n",
       "6 2.7        84.0         Colorado  "
      ]
     },
     "metadata": {},
     "output_type": "display_data"
    }
   ],
   "source": [
    "head(crime)"
   ]
  },
  {
   "cell_type": "markdown",
   "metadata": {},
   "source": [
    "**Activity 10**: Look over the various plots and the above listing of the outliers and describe what you can glean about the outliers."
   ]
  },
  {
   "cell_type": "raw",
   "metadata": {},
   "source": [
    "# Write your activity 10 answer here\n",
    "# ----------------------------------\n",
    "Density Plot: We see most of the scores are around 1.0.  There are some data with score greater than 2.  We can say those data are outliers.\n",
    "\n",
    "PCA plot: Looking at the PCA plot, we see violent.crime.rate and metropolitan stand out.  I think they are play an important role in the dataset.  \n",
    "\n",
    "\n"
   ]
  },
  {
   "cell_type": "markdown",
   "metadata": {},
   "source": [
    "**Activity 11**: What research might you conduct using internet resources to explain these crime outliers? What question(s) might you pursue?"
   ]
  },
  {
   "cell_type": "raw",
   "metadata": {
    "collapsed": true
   },
   "source": [
    "# Write your activity 10 answer here\n",
    "# ----------------------------------\n",
    "I want to research about District of Columbia because its numbers are out of range.  What happened with District Columbia?\n",
    "\n",
    "The other 4 outliers are okay in my opinion.  Its violents.crime.rate and murder.rate are lower than others. Unemployed and metropolitan are also lower.  I think they are related to each others. When there are not alot of people live close to each other, there are less conflicts between people.  People live spread out, it will be less crime.\n",
    "\n",
    "It would be great if I can find out more information about the dataset.  \n"
   ]
  },
  {
   "cell_type": "markdown",
   "metadata": {},
   "source": [
    "# Save your notebook, then `File > Close and Halt`"
   ]
  }
 ],
 "metadata": {
  "kernelspec": {
   "display_name": "R",
   "language": "R",
   "name": "ir"
  },
  "language_info": {
   "codemirror_mode": "r",
   "file_extension": ".r",
   "mimetype": "text/x-r-source",
   "name": "R",
   "pygments_lexer": "r",
   "version": "3.5.1"
  }
 },
 "nbformat": 4,
 "nbformat_minor": 2
}
