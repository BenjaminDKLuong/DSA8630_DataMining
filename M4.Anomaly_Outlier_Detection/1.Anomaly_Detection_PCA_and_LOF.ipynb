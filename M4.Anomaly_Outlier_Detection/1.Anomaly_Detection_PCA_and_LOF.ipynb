{
 "cells": [
  {
   "cell_type": "markdown",
   "metadata": {},
   "source": [
    "##  Lab - Multivariate Anomaly Detection\n",
    "\n",
    "In this lab we will cover two methods useful for multivariate anomaly detection: \n",
    "Principal Component Analysis and Local Outlier Factor (which can also be used with bivariate data).\n",
    "\n",
    "### Outlier Detection Using Principal Component Analysis\n",
    "\n",
    "PCA, a linear model in Aggarwal's classification scheme, is a statistical procedure that uses a \n",
    "transformation to convert a set of observations of possibly correlated variables into a set of\n",
    "values of linearly uncorrelated variables called principal components. \n",
    "The number of principal components is less than or equal to the number of original variables. \n",
    "This transformation is defined in such a way that the first principal component has the largest \n",
    "possible variance (that is, accounts for as much of the variability in the data as possible), \n",
    "and each succeeding component in turn has the highest variance possible under the constraint \n",
    "that it is orthogonal to the preceding components. \n",
    "The resulting vectors are an uncorrelated orthogonal basis set.\n",
    "\n",
    "Using PCA we can map our dataset with n-dimension (possibly correlated variables) \n",
    "to a k-dimensional sub-space of k uncorrelated components (k<=n).\n",
    "\n",
    "Below are steps for detecting anomalies using PCA:\n",
    "\n",
    "First we map the data set from its original n-dimensional space to a k-dimensional subspace using PCA.\n",
    "\n",
    "- Calculate the centroid of data points (μ)\n",
    "- Calculate the variance of each component (λ)\n",
    "- Calculate the score of each data point using below formula:\n",
    "\n",
    "![PCA_formula.png MISSING](../images/PCA_formula.png)\n",
    "\n",
    "- Finally, use extreme value analysis methods to find data points with extreme scores\n",
    "\n",
    "You don't have to worry about applying above formula to calculate scores. \n",
    "PCA is already implemented. \n",
    "You just have to call the method to find the scores.\n",
    "\n",
    "#### First we load the data and do some data prep."
   ]
  },
  {
   "cell_type": "code",
   "execution_count": 1,
   "metadata": {},
   "outputs": [],
   "source": [
    "library(psych)"
   ]
  },
  {
   "cell_type": "code",
   "execution_count": 2,
   "metadata": {},
   "outputs": [
    {
     "name": "stderr",
     "output_type": "stream",
     "text": [
      "\n",
      "Attaching package: ‘ggplot2’\n",
      "\n",
      "The following objects are masked from ‘package:psych’:\n",
      "\n",
      "    %+%, alpha\n",
      "\n"
     ]
    }
   ],
   "source": [
    "# First we load the diamonds dataset\n",
    "library(ggplot2)\n",
    "data(diamonds)"
   ]
  },
  {
   "cell_type": "code",
   "execution_count": 3,
   "metadata": {},
   "outputs": [
    {
     "data": {
      "text/html": [
       "<table>\n",
       "<thead><tr><th scope=col>carat</th><th scope=col>cut</th><th scope=col>color</th><th scope=col>clarity</th><th scope=col>depth</th><th scope=col>table</th><th scope=col>price</th><th scope=col>x</th><th scope=col>y</th><th scope=col>z</th></tr></thead>\n",
       "<tbody>\n",
       "\t<tr><td>0.23     </td><td>Ideal    </td><td>E        </td><td>SI2      </td><td>61.5     </td><td>55       </td><td>326      </td><td>3.95     </td><td>3.98     </td><td>2.43     </td></tr>\n",
       "\t<tr><td>0.21     </td><td>Premium  </td><td>E        </td><td>SI1      </td><td>59.8     </td><td>61       </td><td>326      </td><td>3.89     </td><td>3.84     </td><td>2.31     </td></tr>\n",
       "\t<tr><td>0.23     </td><td>Good     </td><td>E        </td><td>VS1      </td><td>56.9     </td><td>65       </td><td>327      </td><td>4.05     </td><td>4.07     </td><td>2.31     </td></tr>\n",
       "\t<tr><td>0.29     </td><td>Premium  </td><td>I        </td><td>VS2      </td><td>62.4     </td><td>58       </td><td>334      </td><td>4.20     </td><td>4.23     </td><td>2.63     </td></tr>\n",
       "\t<tr><td>0.31     </td><td>Good     </td><td>J        </td><td>SI2      </td><td>63.3     </td><td>58       </td><td>335      </td><td>4.34     </td><td>4.35     </td><td>2.75     </td></tr>\n",
       "\t<tr><td>0.24     </td><td>Very Good</td><td>J        </td><td>VVS2     </td><td>62.8     </td><td>57       </td><td>336      </td><td>3.94     </td><td>3.96     </td><td>2.48     </td></tr>\n",
       "</tbody>\n",
       "</table>\n"
      ],
      "text/latex": [
       "\\begin{tabular}{r|llllllllll}\n",
       " carat & cut & color & clarity & depth & table & price & x & y & z\\\\\n",
       "\\hline\n",
       "\t 0.23      & Ideal     & E         & SI2       & 61.5      & 55        & 326       & 3.95      & 3.98      & 2.43     \\\\\n",
       "\t 0.21      & Premium   & E         & SI1       & 59.8      & 61        & 326       & 3.89      & 3.84      & 2.31     \\\\\n",
       "\t 0.23      & Good      & E         & VS1       & 56.9      & 65        & 327       & 4.05      & 4.07      & 2.31     \\\\\n",
       "\t 0.29      & Premium   & I         & VS2       & 62.4      & 58        & 334       & 4.20      & 4.23      & 2.63     \\\\\n",
       "\t 0.31      & Good      & J         & SI2       & 63.3      & 58        & 335       & 4.34      & 4.35      & 2.75     \\\\\n",
       "\t 0.24      & Very Good & J         & VVS2      & 62.8      & 57        & 336       & 3.94      & 3.96      & 2.48     \\\\\n",
       "\\end{tabular}\n"
      ],
      "text/markdown": [
       "\n",
       "| carat | cut | color | clarity | depth | table | price | x | y | z |\n",
       "|---|---|---|---|---|---|---|---|---|---|\n",
       "| 0.23      | Ideal     | E         | SI2       | 61.5      | 55        | 326       | 3.95      | 3.98      | 2.43      |\n",
       "| 0.21      | Premium   | E         | SI1       | 59.8      | 61        | 326       | 3.89      | 3.84      | 2.31      |\n",
       "| 0.23      | Good      | E         | VS1       | 56.9      | 65        | 327       | 4.05      | 4.07      | 2.31      |\n",
       "| 0.29      | Premium   | I         | VS2       | 62.4      | 58        | 334       | 4.20      | 4.23      | 2.63      |\n",
       "| 0.31      | Good      | J         | SI2       | 63.3      | 58        | 335       | 4.34      | 4.35      | 2.75      |\n",
       "| 0.24      | Very Good | J         | VVS2      | 62.8      | 57        | 336       | 3.94      | 3.96      | 2.48      |\n",
       "\n"
      ],
      "text/plain": [
       "  carat cut       color clarity depth table price x    y    z   \n",
       "1 0.23  Ideal     E     SI2     61.5  55    326   3.95 3.98 2.43\n",
       "2 0.21  Premium   E     SI1     59.8  61    326   3.89 3.84 2.31\n",
       "3 0.23  Good      E     VS1     56.9  65    327   4.05 4.07 2.31\n",
       "4 0.29  Premium   I     VS2     62.4  58    334   4.20 4.23 2.63\n",
       "5 0.31  Good      J     SI2     63.3  58    335   4.34 4.35 2.75\n",
       "6 0.24  Very Good J     VVS2    62.8  57    336   3.94 3.96 2.48"
      ]
     },
     "metadata": {},
     "output_type": "display_data"
    },
    {
     "data": {
      "text/html": [
       "<table>\n",
       "<thead><tr><th scope=col>carat</th><th scope=col>cut</th><th scope=col>color</th><th scope=col>clarity</th><th scope=col>depth</th><th scope=col>table</th><th scope=col>price</th><th scope=col>x</th><th scope=col>y</th><th scope=col>z</th></tr></thead>\n",
       "<tbody>\n",
       "\t<tr><td>0.72     </td><td>Premium  </td><td>D        </td><td>SI1      </td><td>62.7     </td><td>59       </td><td>2757     </td><td>5.69     </td><td>5.73     </td><td>3.58     </td></tr>\n",
       "\t<tr><td>0.72     </td><td>Ideal    </td><td>D        </td><td>SI1      </td><td>60.8     </td><td>57       </td><td>2757     </td><td>5.75     </td><td>5.76     </td><td>3.50     </td></tr>\n",
       "\t<tr><td>0.72     </td><td>Good     </td><td>D        </td><td>SI1      </td><td>63.1     </td><td>55       </td><td>2757     </td><td>5.69     </td><td>5.75     </td><td>3.61     </td></tr>\n",
       "\t<tr><td>0.70     </td><td>Very Good</td><td>D        </td><td>SI1      </td><td>62.8     </td><td>60       </td><td>2757     </td><td>5.66     </td><td>5.68     </td><td>3.56     </td></tr>\n",
       "\t<tr><td>0.86     </td><td>Premium  </td><td>H        </td><td>SI2      </td><td>61.0     </td><td>58       </td><td>2757     </td><td>6.15     </td><td>6.12     </td><td>3.74     </td></tr>\n",
       "\t<tr><td>0.75     </td><td>Ideal    </td><td>D        </td><td>SI2      </td><td>62.2     </td><td>55       </td><td>2757     </td><td>5.83     </td><td>5.87     </td><td>3.64     </td></tr>\n",
       "</tbody>\n",
       "</table>\n"
      ],
      "text/latex": [
       "\\begin{tabular}{r|llllllllll}\n",
       " carat & cut & color & clarity & depth & table & price & x & y & z\\\\\n",
       "\\hline\n",
       "\t 0.72      & Premium   & D         & SI1       & 62.7      & 59        & 2757      & 5.69      & 5.73      & 3.58     \\\\\n",
       "\t 0.72      & Ideal     & D         & SI1       & 60.8      & 57        & 2757      & 5.75      & 5.76      & 3.50     \\\\\n",
       "\t 0.72      & Good      & D         & SI1       & 63.1      & 55        & 2757      & 5.69      & 5.75      & 3.61     \\\\\n",
       "\t 0.70      & Very Good & D         & SI1       & 62.8      & 60        & 2757      & 5.66      & 5.68      & 3.56     \\\\\n",
       "\t 0.86      & Premium   & H         & SI2       & 61.0      & 58        & 2757      & 6.15      & 6.12      & 3.74     \\\\\n",
       "\t 0.75      & Ideal     & D         & SI2       & 62.2      & 55        & 2757      & 5.83      & 5.87      & 3.64     \\\\\n",
       "\\end{tabular}\n"
      ],
      "text/markdown": [
       "\n",
       "| carat | cut | color | clarity | depth | table | price | x | y | z |\n",
       "|---|---|---|---|---|---|---|---|---|---|\n",
       "| 0.72      | Premium   | D         | SI1       | 62.7      | 59        | 2757      | 5.69      | 5.73      | 3.58      |\n",
       "| 0.72      | Ideal     | D         | SI1       | 60.8      | 57        | 2757      | 5.75      | 5.76      | 3.50      |\n",
       "| 0.72      | Good      | D         | SI1       | 63.1      | 55        | 2757      | 5.69      | 5.75      | 3.61      |\n",
       "| 0.70      | Very Good | D         | SI1       | 62.8      | 60        | 2757      | 5.66      | 5.68      | 3.56      |\n",
       "| 0.86      | Premium   | H         | SI2       | 61.0      | 58        | 2757      | 6.15      | 6.12      | 3.74      |\n",
       "| 0.75      | Ideal     | D         | SI2       | 62.2      | 55        | 2757      | 5.83      | 5.87      | 3.64      |\n",
       "\n"
      ],
      "text/plain": [
       "  carat cut       color clarity depth table price x    y    z   \n",
       "1 0.72  Premium   D     SI1     62.7  59    2757  5.69 5.73 3.58\n",
       "2 0.72  Ideal     D     SI1     60.8  57    2757  5.75 5.76 3.50\n",
       "3 0.72  Good      D     SI1     63.1  55    2757  5.69 5.75 3.61\n",
       "4 0.70  Very Good D     SI1     62.8  60    2757  5.66 5.68 3.56\n",
       "5 0.86  Premium   H     SI2     61.0  58    2757  6.15 6.12 3.74\n",
       "6 0.75  Ideal     D     SI2     62.2  55    2757  5.83 5.87 3.64"
      ]
     },
     "metadata": {},
     "output_type": "display_data"
    }
   ],
   "source": [
    "head(diamonds)\n",
    "tail(diamonds)"
   ]
  },
  {
   "cell_type": "code",
   "execution_count": 4,
   "metadata": {},
   "outputs": [],
   "source": [
    "# Run the cell to know more about the data\n",
    "help(diamonds)"
   ]
  },
  {
   "cell_type": "markdown",
   "metadata": {},
   "source": [
    "First we need to convert categorical variables to dummy variables since PCA doesn't work with character type factors. \n",
    "In the cell below we illustrate how dummy coding works. You may also read more in this reference: \n",
    "\n",
    "**Reference:** [Dummy coding the data](http://stats.idre.ucla.edu/r/library/r-library-contrast-coding-systems-for-categorical-variables/)\n"
   ]
  },
  {
   "cell_type": "code",
   "execution_count": 5,
   "metadata": {},
   "outputs": [
    {
     "name": "stdout",
     "output_type": "stream",
     "text": [
      "   strcol\n",
      "1       A\n",
      "2       A\n",
      "3       B\n",
      "4       F\n",
      "5       C\n",
      "6       G\n",
      "7       C\n",
      "8       D\n",
      "9       E\n",
      "10      F\n"
     ]
    },
    {
     "data": {
      "text/html": [
       "<table>\n",
       "<thead><tr><th scope=col>strcol</th><th scope=col>dummy_A</th><th scope=col>dummy_B</th><th scope=col>dummy_F</th><th scope=col>dummy_C</th><th scope=col>dummy_G</th><th scope=col>dummy_D</th><th scope=col>dummy_E</th></tr></thead>\n",
       "<tbody>\n",
       "\t<tr><td>A</td><td>1</td><td>0</td><td>0</td><td>0</td><td>0</td><td>0</td><td>0</td></tr>\n",
       "\t<tr><td>A</td><td>1</td><td>0</td><td>0</td><td>0</td><td>0</td><td>0</td><td>0</td></tr>\n",
       "\t<tr><td>B</td><td>0</td><td>1</td><td>0</td><td>0</td><td>0</td><td>0</td><td>0</td></tr>\n",
       "\t<tr><td>F</td><td>0</td><td>0</td><td>1</td><td>0</td><td>0</td><td>0</td><td>0</td></tr>\n",
       "\t<tr><td>C</td><td>0</td><td>0</td><td>0</td><td>1</td><td>0</td><td>0</td><td>0</td></tr>\n",
       "\t<tr><td>G</td><td>0</td><td>0</td><td>0</td><td>0</td><td>1</td><td>0</td><td>0</td></tr>\n",
       "\t<tr><td>C</td><td>0</td><td>0</td><td>0</td><td>1</td><td>0</td><td>0</td><td>0</td></tr>\n",
       "\t<tr><td>D</td><td>0</td><td>0</td><td>0</td><td>0</td><td>0</td><td>1</td><td>0</td></tr>\n",
       "\t<tr><td>E</td><td>0</td><td>0</td><td>0</td><td>0</td><td>0</td><td>0</td><td>1</td></tr>\n",
       "\t<tr><td>F</td><td>0</td><td>0</td><td>1</td><td>0</td><td>0</td><td>0</td><td>0</td></tr>\n",
       "</tbody>\n",
       "</table>\n"
      ],
      "text/latex": [
       "\\begin{tabular}{r|llllllll}\n",
       " strcol & dummy\\_A & dummy\\_B & dummy\\_F & dummy\\_C & dummy\\_G & dummy\\_D & dummy\\_E\\\\\n",
       "\\hline\n",
       "\t A & 1 & 0 & 0 & 0 & 0 & 0 & 0\\\\\n",
       "\t A & 1 & 0 & 0 & 0 & 0 & 0 & 0\\\\\n",
       "\t B & 0 & 1 & 0 & 0 & 0 & 0 & 0\\\\\n",
       "\t F & 0 & 0 & 1 & 0 & 0 & 0 & 0\\\\\n",
       "\t C & 0 & 0 & 0 & 1 & 0 & 0 & 0\\\\\n",
       "\t G & 0 & 0 & 0 & 0 & 1 & 0 & 0\\\\\n",
       "\t C & 0 & 0 & 0 & 1 & 0 & 0 & 0\\\\\n",
       "\t D & 0 & 0 & 0 & 0 & 0 & 1 & 0\\\\\n",
       "\t E & 0 & 0 & 0 & 0 & 0 & 0 & 1\\\\\n",
       "\t F & 0 & 0 & 1 & 0 & 0 & 0 & 0\\\\\n",
       "\\end{tabular}\n"
      ],
      "text/markdown": [
       "\n",
       "| strcol | dummy_A | dummy_B | dummy_F | dummy_C | dummy_G | dummy_D | dummy_E |\n",
       "|---|---|---|---|---|---|---|---|\n",
       "| A | 1 | 0 | 0 | 0 | 0 | 0 | 0 |\n",
       "| A | 1 | 0 | 0 | 0 | 0 | 0 | 0 |\n",
       "| B | 0 | 1 | 0 | 0 | 0 | 0 | 0 |\n",
       "| F | 0 | 0 | 1 | 0 | 0 | 0 | 0 |\n",
       "| C | 0 | 0 | 0 | 1 | 0 | 0 | 0 |\n",
       "| G | 0 | 0 | 0 | 0 | 1 | 0 | 0 |\n",
       "| C | 0 | 0 | 0 | 1 | 0 | 0 | 0 |\n",
       "| D | 0 | 0 | 0 | 0 | 0 | 1 | 0 |\n",
       "| E | 0 | 0 | 0 | 0 | 0 | 0 | 1 |\n",
       "| F | 0 | 0 | 1 | 0 | 0 | 0 | 0 |\n",
       "\n"
      ],
      "text/plain": [
       "   strcol dummy_A dummy_B dummy_F dummy_C dummy_G dummy_D dummy_E\n",
       "1  A      1       0       0       0       0       0       0      \n",
       "2  A      1       0       0       0       0       0       0      \n",
       "3  B      0       1       0       0       0       0       0      \n",
       "4  F      0       0       1       0       0       0       0      \n",
       "5  C      0       0       0       1       0       0       0      \n",
       "6  G      0       0       0       0       1       0       0      \n",
       "7  C      0       0       0       1       0       0       0      \n",
       "8  D      0       0       0       0       0       1       0      \n",
       "9  E      0       0       0       0       0       0       1      \n",
       "10 F      0       0       1       0       0       0       0      "
      ]
     },
     "metadata": {},
     "output_type": "display_data"
    }
   ],
   "source": [
    "# Generate example dataframe with character column\n",
    "example <- as.data.frame(c(\"A\", \"A\", \"B\", \"F\", \"C\", \"G\", \"C\", \"D\", \"E\", \"F\"))\n",
    "names(example) <- \"strcol\"\n",
    "print(example)\n",
    "# For every unique value in the string column, create a new 1/0 column\n",
    "# This is what Factors do \"under-the-hood\" automatically when passed to function requiring numeric data\n",
    "for(level in unique(example$strcol)){\n",
    "  example[paste(\"dummy\", level, sep = \"_\")] <- ifelse(example$strcol == level, 1, 0)\n",
    "    \n",
    "}\n",
    "example\n"
   ]
  },
  {
   "cell_type": "markdown",
   "metadata": {},
   "source": [
    "The function dummy.code() from the psych package makes this easy for us."
   ]
  },
  {
   "cell_type": "code",
   "execution_count": 6,
   "metadata": {},
   "outputs": [
    {
     "data": {
      "text/html": [
       "<table>\n",
       "<thead><tr><th scope=col>carat</th><th scope=col>cut</th><th scope=col>color</th><th scope=col>clarity</th><th scope=col>depth</th><th scope=col>table</th><th scope=col>price</th><th scope=col>x</th><th scope=col>y</th><th scope=col>z</th><th scope=col>⋯</th><th scope=col>I</th><th scope=col>J</th><th scope=col>I1</th><th scope=col>SI2</th><th scope=col>SI1</th><th scope=col>VS2</th><th scope=col>VS1</th><th scope=col>VVS2</th><th scope=col>VVS1</th><th scope=col>IF</th></tr></thead>\n",
       "<tbody>\n",
       "\t<tr><td>0.23     </td><td>Ideal    </td><td>E        </td><td>SI2      </td><td>61.5     </td><td>55       </td><td>326      </td><td>3.95     </td><td>3.98     </td><td>2.43     </td><td>⋯        </td><td>0        </td><td>0        </td><td>0        </td><td>1        </td><td>0        </td><td>0        </td><td>0        </td><td>0        </td><td>0        </td><td>0        </td></tr>\n",
       "\t<tr><td>0.21     </td><td>Premium  </td><td>E        </td><td>SI1      </td><td>59.8     </td><td>61       </td><td>326      </td><td>3.89     </td><td>3.84     </td><td>2.31     </td><td>⋯        </td><td>0        </td><td>0        </td><td>0        </td><td>0        </td><td>1        </td><td>0        </td><td>0        </td><td>0        </td><td>0        </td><td>0        </td></tr>\n",
       "\t<tr><td>0.23     </td><td>Good     </td><td>E        </td><td>VS1      </td><td>56.9     </td><td>65       </td><td>327      </td><td>4.05     </td><td>4.07     </td><td>2.31     </td><td>⋯        </td><td>0        </td><td>0        </td><td>0        </td><td>0        </td><td>0        </td><td>0        </td><td>1        </td><td>0        </td><td>0        </td><td>0        </td></tr>\n",
       "\t<tr><td>0.29     </td><td>Premium  </td><td>I        </td><td>VS2      </td><td>62.4     </td><td>58       </td><td>334      </td><td>4.20     </td><td>4.23     </td><td>2.63     </td><td>⋯        </td><td>1        </td><td>0        </td><td>0        </td><td>0        </td><td>0        </td><td>1        </td><td>0        </td><td>0        </td><td>0        </td><td>0        </td></tr>\n",
       "\t<tr><td>0.31     </td><td>Good     </td><td>J        </td><td>SI2      </td><td>63.3     </td><td>58       </td><td>335      </td><td>4.34     </td><td>4.35     </td><td>2.75     </td><td>⋯        </td><td>0        </td><td>1        </td><td>0        </td><td>1        </td><td>0        </td><td>0        </td><td>0        </td><td>0        </td><td>0        </td><td>0        </td></tr>\n",
       "\t<tr><td>0.24     </td><td>Very Good</td><td>J        </td><td>VVS2     </td><td>62.8     </td><td>57       </td><td>336      </td><td>3.94     </td><td>3.96     </td><td>2.48     </td><td>⋯        </td><td>0        </td><td>1        </td><td>0        </td><td>0        </td><td>0        </td><td>0        </td><td>0        </td><td>1        </td><td>0        </td><td>0        </td></tr>\n",
       "</tbody>\n",
       "</table>\n"
      ],
      "text/latex": [
       "\\begin{tabular}{r|llllllllllllllllllllllllllllll}\n",
       " carat & cut & color & clarity & depth & table & price & x & y & z & ⋯ & I & J & I1 & SI2 & SI1 & VS2 & VS1 & VVS2 & VVS1 & IF\\\\\n",
       "\\hline\n",
       "\t 0.23      & Ideal     & E         & SI2       & 61.5      & 55        & 326       & 3.95      & 3.98      & 2.43      & ⋯         & 0         & 0         & 0         & 1         & 0         & 0         & 0         & 0         & 0         & 0        \\\\\n",
       "\t 0.21      & Premium   & E         & SI1       & 59.8      & 61        & 326       & 3.89      & 3.84      & 2.31      & ⋯         & 0         & 0         & 0         & 0         & 1         & 0         & 0         & 0         & 0         & 0        \\\\\n",
       "\t 0.23      & Good      & E         & VS1       & 56.9      & 65        & 327       & 4.05      & 4.07      & 2.31      & ⋯         & 0         & 0         & 0         & 0         & 0         & 0         & 1         & 0         & 0         & 0        \\\\\n",
       "\t 0.29      & Premium   & I         & VS2       & 62.4      & 58        & 334       & 4.20      & 4.23      & 2.63      & ⋯         & 1         & 0         & 0         & 0         & 0         & 1         & 0         & 0         & 0         & 0        \\\\\n",
       "\t 0.31      & Good      & J         & SI2       & 63.3      & 58        & 335       & 4.34      & 4.35      & 2.75      & ⋯         & 0         & 1         & 0         & 1         & 0         & 0         & 0         & 0         & 0         & 0        \\\\\n",
       "\t 0.24      & Very Good & J         & VVS2      & 62.8      & 57        & 336       & 3.94      & 3.96      & 2.48      & ⋯         & 0         & 1         & 0         & 0         & 0         & 0         & 0         & 1         & 0         & 0        \\\\\n",
       "\\end{tabular}\n"
      ],
      "text/markdown": [
       "\n",
       "| carat | cut | color | clarity | depth | table | price | x | y | z | ⋯ | I | J | I1 | SI2 | SI1 | VS2 | VS1 | VVS2 | VVS1 | IF |\n",
       "|---|---|---|---|---|---|---|---|---|---|---|---|---|---|---|---|---|---|---|---|---|\n",
       "| 0.23      | Ideal     | E         | SI2       | 61.5      | 55        | 326       | 3.95      | 3.98      | 2.43      | ⋯         | 0         | 0         | 0         | 1         | 0         | 0         | 0         | 0         | 0         | 0         |\n",
       "| 0.21      | Premium   | E         | SI1       | 59.8      | 61        | 326       | 3.89      | 3.84      | 2.31      | ⋯         | 0         | 0         | 0         | 0         | 1         | 0         | 0         | 0         | 0         | 0         |\n",
       "| 0.23      | Good      | E         | VS1       | 56.9      | 65        | 327       | 4.05      | 4.07      | 2.31      | ⋯         | 0         | 0         | 0         | 0         | 0         | 0         | 1         | 0         | 0         | 0         |\n",
       "| 0.29      | Premium   | I         | VS2       | 62.4      | 58        | 334       | 4.20      | 4.23      | 2.63      | ⋯         | 1         | 0         | 0         | 0         | 0         | 1         | 0         | 0         | 0         | 0         |\n",
       "| 0.31      | Good      | J         | SI2       | 63.3      | 58        | 335       | 4.34      | 4.35      | 2.75      | ⋯         | 0         | 1         | 0         | 1         | 0         | 0         | 0         | 0         | 0         | 0         |\n",
       "| 0.24      | Very Good | J         | VVS2      | 62.8      | 57        | 336       | 3.94      | 3.96      | 2.48      | ⋯         | 0         | 1         | 0         | 0         | 0         | 0         | 0         | 1         | 0         | 0         |\n",
       "\n"
      ],
      "text/plain": [
       "  carat cut       color clarity depth table price x    y    z    ⋯ I J I1 SI2\n",
       "1 0.23  Ideal     E     SI2     61.5  55    326   3.95 3.98 2.43 ⋯ 0 0 0  1  \n",
       "2 0.21  Premium   E     SI1     59.8  61    326   3.89 3.84 2.31 ⋯ 0 0 0  0  \n",
       "3 0.23  Good      E     VS1     56.9  65    327   4.05 4.07 2.31 ⋯ 0 0 0  0  \n",
       "4 0.29  Premium   I     VS2     62.4  58    334   4.20 4.23 2.63 ⋯ 1 0 0  0  \n",
       "5 0.31  Good      J     SI2     63.3  58    335   4.34 4.35 2.75 ⋯ 0 1 0  1  \n",
       "6 0.24  Very Good J     VVS2    62.8  57    336   3.94 3.96 2.48 ⋯ 0 1 0  0  \n",
       "  SI1 VS2 VS1 VVS2 VVS1 IF\n",
       "1 0   0   0   0    0    0 \n",
       "2 1   0   0   0    0    0 \n",
       "3 0   0   1   0    0    0 \n",
       "4 0   1   0   0    0    0 \n",
       "5 0   0   0   0    0    0 \n",
       "6 0   0   0   1    0    0 "
      ]
     },
     "metadata": {},
     "output_type": "display_data"
    }
   ],
   "source": [
    "# Convert the categorical variables to dummy variables. \n",
    "# Use dummy.code from psych package\n",
    "codedData <- cbind(diamonds,dummy.code(diamonds$cut),dummy.code(diamonds$color),dummy.code(diamonds$clarity))\n",
    "head(codedData)"
   ]
  },
  {
   "cell_type": "markdown",
   "metadata": {},
   "source": [
    "From the output of the str() command, you can see five new columns 11 to 15 are created for the corresponding 5 levels in the `cut` variable. Likewise, seven new columns are created for 7 levels in the `color` variable and finally eight new dummy columns are created for the 8 levels in `clarity` variable. "
   ]
  },
  {
   "cell_type": "code",
   "execution_count": 7,
   "metadata": {},
   "outputs": [
    {
     "name": "stdout",
     "output_type": "stream",
     "text": [
      "'data.frame':\t53940 obs. of  30 variables:\n",
      " $ carat    : num  0.23 0.21 0.23 0.29 0.31 0.24 0.24 0.26 0.22 0.23 ...\n",
      " $ cut      : Ord.factor w/ 5 levels \"Fair\"<\"Good\"<..: 5 4 2 4 2 3 3 3 1 3 ...\n",
      " $ color    : Ord.factor w/ 7 levels \"D\"<\"E\"<\"F\"<\"G\"<..: 2 2 2 6 7 7 6 5 2 5 ...\n",
      " $ clarity  : Ord.factor w/ 8 levels \"I1\"<\"SI2\"<\"SI1\"<..: 2 3 5 4 2 6 7 3 4 5 ...\n",
      " $ depth    : num  61.5 59.8 56.9 62.4 63.3 62.8 62.3 61.9 65.1 59.4 ...\n",
      " $ table    : num  55 61 65 58 58 57 57 55 61 61 ...\n",
      " $ price    : int  326 326 327 334 335 336 336 337 337 338 ...\n",
      " $ x        : num  3.95 3.89 4.05 4.2 4.34 3.94 3.95 4.07 3.87 4 ...\n",
      " $ y        : num  3.98 3.84 4.07 4.23 4.35 3.96 3.98 4.11 3.78 4.05 ...\n",
      " $ z        : num  2.43 2.31 2.31 2.63 2.75 2.48 2.47 2.53 2.49 2.39 ...\n",
      " $ Fair     : num  0 0 0 0 0 0 0 0 1 0 ...\n",
      " $ Good     : num  0 0 1 0 1 0 0 0 0 0 ...\n",
      " $ Very Good: num  0 0 0 0 0 1 1 1 0 1 ...\n",
      " $ Premium  : num  0 1 0 1 0 0 0 0 0 0 ...\n",
      " $ Ideal    : num  1 0 0 0 0 0 0 0 0 0 ...\n",
      " $ D        : num  0 0 0 0 0 0 0 0 0 0 ...\n",
      " $ E        : num  1 1 1 0 0 0 0 0 1 0 ...\n",
      " $ F        : num  0 0 0 0 0 0 0 0 0 0 ...\n",
      " $ G        : num  0 0 0 0 0 0 0 0 0 0 ...\n",
      " $ H        : num  0 0 0 0 0 0 0 1 0 1 ...\n",
      " $ I        : num  0 0 0 1 0 0 1 0 0 0 ...\n",
      " $ J        : num  0 0 0 0 1 1 0 0 0 0 ...\n",
      " $ I1       : num  0 0 0 0 0 0 0 0 0 0 ...\n",
      " $ SI2      : num  1 0 0 0 1 0 0 0 0 0 ...\n",
      " $ SI1      : num  0 1 0 0 0 0 0 1 0 0 ...\n",
      " $ VS2      : num  0 0 0 1 0 0 0 0 1 0 ...\n",
      " $ VS1      : num  0 0 1 0 0 0 0 0 0 1 ...\n",
      " $ VVS2     : num  0 0 0 0 0 1 0 0 0 0 ...\n",
      " $ VVS1     : num  0 0 0 0 0 0 1 0 0 0 ...\n",
      " $ IF       : num  0 0 0 0 0 0 0 0 0 0 ...\n"
     ]
    }
   ],
   "source": [
    "str(codedData)"
   ]
  },
  {
   "cell_type": "markdown",
   "metadata": {},
   "source": [
    "Columns 2, 3, 4 are factors with character values. Remove these columns from data as PCA can only work with numeric data. "
   ]
  },
  {
   "cell_type": "code",
   "execution_count": 8,
   "metadata": {},
   "outputs": [],
   "source": [
    "codedData <- codedData[,-c(2,3,4)]"
   ]
  },
  {
   "cell_type": "markdown",
   "metadata": {},
   "source": [
    "#### Finding the principal components\n",
    "\n",
    "Given a data matrix with p variables and n samples, \n",
    "the data are first centered on the means\n",
    "of each variable. The first principal component ($Y_1$) is given by the linear combination of\n",
    "the variables $X_1$, $X_2$, ...,$X_p$\n",
    "\n",
    "$$Y_{1} = a_{11}X_{1} + a_{12}X_{2} + ... + a_{1p}X_{p}$$\n",
    "\n",
    "The first principal component is calculated such that it accounts for the greatest possible\n",
    "variance in the data set. Weights are calculated with the constraint that their sum of squares is 1.\n",
    "\n",
    "$$a_{11}^2 + a_{12}^2 + ... + a_{1p}^2$$\n",
    "\n",
    "The second principal component is calculated in the same way, with the condition that it is\n",
    "uncorrelated with (i.e., perpendicular to) the first principal component and that it accounts\n",
    "for the next highest variance.\n",
    "\n",
    "**Reference:** [PCA tutorial, page 2](https://web.dsa.missouri.edu/static/PDF/DMIR/pcaTutorial.pdf)\n",
    "\n",
    "\n",
    "We will use the `prcomp()` method to find the principal components.\n",
    "\n",
    "`prcomp()` returns a list of class prcomp that contains the following components:\n",
    "\n",
    "- sdev:\tthe standard deviations of the principal components\n",
    "\n",
    "- rotation:\tthe matrix of variable loadings - the weights for each principle component for each variable.\n",
    "\n",
    "- x: the value of the rotated data (the centered (and scaled if requested) data multiplied by the rotation matrix). There is a row of weighted values in `x` for each observation in the dataset.\n",
    "\n",
    "- center, scale: the centering and scaling used, or FALSE.\t\n",
    "\n",
    "The command `prcomp()` also takes parameters for center and scale, which are logical values indicating whether the the variables should be zero centered and whether the variables should be normalized to have unit variance.\n",
    "\n",
    "See` help(prcomp)` for more details, including additional variables.\n"
   ]
  },
  {
   "cell_type": "code",
   "execution_count": 9,
   "metadata": {
    "scrolled": true
   },
   "outputs": [
    {
     "data": {
      "text/plain": [
       "Standard deviations (1, .., p=27):\n",
       " [1] 2.263561e+00 1.403748e+00 1.242866e+00 1.163485e+00 1.145392e+00\n",
       " [6] 1.139644e+00 1.110494e+00 1.103059e+00 1.091779e+00 1.088064e+00\n",
       "[11] 1.073461e+00 1.053979e+00 1.050853e+00 1.031589e+00 1.018221e+00\n",
       "[16] 9.985780e-01 9.748039e-01 9.055130e-01 8.845181e-01 5.935644e-01\n",
       "[21] 3.527482e-01 2.001902e-01 1.561998e-01 1.071434e-01 3.337394e-16\n",
       "[26] 3.237129e-16 2.424954e-16\n",
       "\n",
       "Rotation (n x k) = (27 x 27):\n",
       "                   PC1          PC2          PC3          PC4          PC5\n",
       "carat      0.433164860  0.084462888 -0.015346631 -0.010557096 -0.010730710\n",
       "depth      0.003685492  0.212197109  0.530793811  0.167841695  0.148205053\n",
       "table      0.121534050 -0.540454223 -0.043053112  0.109968963  0.015888595\n",
       "price      0.392503015  0.124379344 -0.108487721 -0.027924479 -0.065504032\n",
       "x          0.433901409  0.069779431 -0.037017256 -0.027915689 -0.015035355\n",
       "y          0.427196117  0.075656827 -0.036821416 -0.032535613 -0.027844144\n",
       "z          0.426791426  0.099048242  0.030195331 -0.008818111 -0.003902228\n",
       "Fair       0.051180215 -0.003069159  0.394757425  0.314468146  0.307049586\n",
       "Good       0.027064676 -0.123662728  0.283940789  0.036356726  0.113784984\n",
       "Very Good  0.013447219 -0.180548545  0.247996509  0.025757591 -0.529684796\n",
       "Premium    0.082218477 -0.406309706 -0.372453693  0.033155153  0.232772256\n",
       "Ideal     -0.118342856  0.589220450 -0.183205639 -0.182050162  0.070071856\n",
       "D         -0.050273804 -0.057165332  0.088862201 -0.308835354  0.088273546\n",
       "E         -0.068227458 -0.095859350  0.054004081 -0.219912239  0.057492801\n",
       "F         -0.025626984 -0.015261280  0.007802398  0.031300568  0.089879163\n",
       "G         -0.018643519  0.096704863 -0.205984003  0.530743285 -0.163433257\n",
       "H          0.052351102  0.013244374  0.057721432 -0.053173459 -0.015545074\n",
       "I          0.075877112  0.050953694  0.011657096 -0.052955257 -0.060973473\n",
       "J          0.083818509  0.010267434  0.027994766 -0.025323011  0.021245545\n",
       "I1         0.052257957  0.006672117  0.198911448  0.256782325  0.244419961\n",
       "SI2        0.137560003 -0.058522959  0.022397662  0.080684732  0.113643352\n",
       "SI1        0.039677572 -0.103696336  0.283438950 -0.398241017 -0.293381937\n",
       "VS2       -0.019417266 -0.004795834 -0.136526434 -0.179351896  0.489501194\n",
       "VS1       -0.028520566  0.043948374 -0.127804258  0.296101038 -0.198238555\n",
       "VVS2      -0.074895900  0.063572006 -0.053695063  0.118155237 -0.164220984\n",
       "VVS1      -0.092659702  0.056874412 -0.062444437  0.086210245 -0.087949636\n",
       "IF        -0.063135136  0.106461615 -0.103931617  0.129813321 -0.053246932\n",
       "                   PC6          PC7           PC8           PC9         PC10\n",
       "carat      0.017922358 -0.001852567 -0.0043718961 -0.0030008565 -0.004081469\n",
       "depth      0.006727219 -0.095913334 -0.0055111200  0.0204890979 -0.016907787\n",
       "table     -0.014748840 -0.007230612  0.0205823113  0.0009947951  0.023037314\n",
       "price      0.062803408 -0.011808596  0.0262804074  0.0172730428 -0.007849240\n",
       "x          0.011852801  0.003567743 -0.0016122555  0.0028799620  0.004412681\n",
       "y          0.021180529  0.005565083 -0.0009288319  0.0037699543  0.005452142\n",
       "z          0.019605008 -0.008169337 -0.0017996108  0.0047674265  0.003210487\n",
       "Fair      -0.077427960 -0.012696682 -0.0228757412 -0.0445282548 -0.084303818\n",
       "Good      -0.095187065 -0.044368746 -0.0144850345  0.0947517588  0.363586924\n",
       "Very Good  0.507783776  0.017044481  0.0956099790  0.0412129893 -0.234766438\n",
       "Premium   -0.283438999 -0.039058919 -0.0124245628 -0.0504350393 -0.051551045\n",
       "Ideal     -0.096997415  0.050737456 -0.0538653236 -0.0303151348  0.061586978\n",
       "D         -0.086139554 -0.023305623 -0.0592660579  0.5897606050  0.079897316\n",
       "E          0.270821623 -0.061963433 -0.5251116325 -0.4037937979  0.172311479\n",
       "F          0.079884598  0.538984926  0.6277933199 -0.0860528987  0.176047401\n",
       "G         -0.053179525 -0.301197353 -0.0935821837  0.3682784191 -0.077558652\n",
       "H         -0.267707309  0.112858356 -0.0906289214 -0.2772776712 -0.626087345\n",
       "I         -0.012266674 -0.154990790  0.0949447108 -0.1563098407  0.237988602\n",
       "J          0.070187344 -0.205463817  0.1114903560 -0.0436348319  0.116412135\n",
       "I1        -0.092820564 -0.031090008  0.0226447437 -0.1273065667 -0.103481604\n",
       "SI2        0.071709128  0.521005379 -0.4158617580  0.1886504306  0.135348452\n",
       "SI1       -0.451249767 -0.184817023  0.1352385947  0.0242604027 -0.015099366\n",
       "VS2        0.468756589 -0.330691474  0.2297227517  0.0676116646 -0.240711782\n",
       "VS1       -0.053037570 -0.211889473  0.0807214716 -0.3273265950  0.376173461\n",
       "VVS2       0.101684193  0.150896162 -0.1237825525  0.1765760960 -0.037275918\n",
       "VVS1      -0.036028848  0.171540752 -0.0318305998 -0.1623662032 -0.133629971\n",
       "IF        -0.116475214  0.079829126  0.0820807945  0.0659053445 -0.122343723\n",
       "                 PC11          PC12          PC13         PC14          PC15\n",
       "carat     -0.02388751 -0.0021254279 -0.0006945122  0.003786318  0.0168852607\n",
       "depth      0.02677886  0.0377746869 -0.0136405871 -0.010716844  0.0163140395\n",
       "table     -0.02803340  0.0311070347 -0.0294746636 -0.053303551  0.0004779702\n",
       "price     -0.05984033  0.0175099441  0.0154793344 -0.034333048  0.0402277845\n",
       "x         -0.02811680 -0.0028028574  0.0120794169  0.008839084  0.0113279054\n",
       "y         -0.02610605  0.0037606723  0.0129668057  0.007218519  0.0112305103\n",
       "z         -0.02340369  0.0030572297  0.0116207628  0.008614290  0.0128257176\n",
       "Fair      -0.03677530 -0.3031831622 -0.0023335957  0.126009201 -0.0653390351\n",
       "Good      -0.02875758  0.6315654993  0.0004552826 -0.333005726  0.1239743609\n",
       "Very Good  0.12376123 -0.0710077148 -0.0441095024  0.095229203 -0.0852244890\n",
       "Premium   -0.05543865 -0.1756739256 -0.0025335452  0.043321957  0.0100612712\n",
       "Ideal     -0.02630946 -0.0485290971  0.0403454803  0.032072581  0.0135013706\n",
       "D          0.36886368 -0.2570709200 -0.0010353054  0.067617736  0.0769780020\n",
       "E         -0.31738985 -0.0047113405  0.1187751770  0.115614867 -0.1139123094\n",
       "F         -0.17598964 -0.0006155406  0.1240732647  0.035419864  0.0188375190\n",
       "G         -0.23575056  0.1729267608 -0.0373781159  0.118023933  0.0476806814\n",
       "H          0.33672458  0.2005097386  0.1395066692 -0.304461643  0.0325261106\n",
       "I          0.07993772 -0.2071899892 -0.6938278346 -0.304088535 -0.1944723512\n",
       "J          0.07936873  0.0307345491  0.3632474312  0.327723860  0.1735712690\n",
       "I1        -0.11852269 -0.2842970131 -0.0209932324  0.037803114  0.0116960368\n",
       "SI2        0.21751580  0.0746723964 -0.0650920183  0.140765467 -0.1341844366\n",
       "SI1       -0.30681578 -0.0223318810  0.0409981969  0.144522125 -0.0374924405\n",
       "VS2        0.01559404  0.1491987867 -0.0524860469 -0.086586232 -0.0119552117\n",
       "VS1        0.49625486 -0.1040278330  0.2414880409 -0.050082464  0.0014824871\n",
       "VVS2      -0.33389362 -0.3075600996  0.2210046364 -0.591780715  0.1947513740\n",
       "VVS1      -0.03441197  0.1570504394 -0.4629714743  0.333449135  0.5594947355\n",
       "IF        -0.08346066  0.2210920750 -0.0186359571  0.132964404 -0.7134674839\n",
       "                  PC16         PC17         PC18         PC19          PC20\n",
       "carat      0.002404546 -0.034917864  0.031571407 -0.035701217 -0.0047488606\n",
       "depth      0.066045100  0.365348674  0.003325702 -0.481432378 -0.4789330278\n",
       "table     -0.070016028 -0.171409916  0.204605217  0.322180780 -0.7015059306\n",
       "price      0.088840589 -0.065863956  0.224455759 -0.137715629 -0.0123989621\n",
       "x          0.028329943 -0.044840933  0.015084492  0.008537305  0.0338248116\n",
       "y          0.028459319 -0.052579543  0.014435914  0.011297562  0.0440555178\n",
       "z          0.037126406 -0.002317993  0.018525086 -0.050609816 -0.0240750988\n",
       "Fair       0.035147476  0.114577169  0.457742326  0.400202755  0.3058161153\n",
       "Good      -0.069788554 -0.209775640  0.013479055 -0.017328548  0.2135313734\n",
       "Very Good  0.018994836 -0.058468344 -0.102458816 -0.043583020  0.0513882385\n",
       "Premium    0.006155345  0.268968878 -0.066136935 -0.400734783  0.0866159772\n",
       "Ideal      0.007108460 -0.106443449 -0.020826048  0.265142369 -0.3524867504\n",
       "D          0.067253827 -0.288706037  0.221210190 -0.185874162 -0.0009986551\n",
       "E          0.154115083 -0.100235880  0.131209634 -0.123233682 -0.0004959984\n",
       "F          0.189301566  0.041993958 -0.015771233 -0.023550434 -0.0149972901\n",
       "G          0.218669735  0.086606722 -0.152762159  0.128679613 -0.0049741100\n",
       "H         -0.012806268  0.016852160 -0.022413671  0.074685217  0.0052216044\n",
       "I         -0.249331901  0.146546546 -0.094689584  0.081812255  0.0147224039\n",
       "J         -0.735153114  0.148172708 -0.086278617  0.063879465  0.0088105621\n",
       "I1        -0.078602925 -0.634624321 -0.496074483 -0.125378516 -0.0121748072\n",
       "SI2       -0.040601566  0.231858926 -0.301941801  0.157569540 -0.0133569798\n",
       "SI1        0.138115405  0.109750063 -0.104738081  0.137575453  0.0055413213\n",
       "VS2        0.098741675  0.049761693 -0.009601697  0.075297275  0.0086506130\n",
       "VS1        0.231715561 -0.063985788  0.114997137 -0.062008816 -0.0047645665\n",
       "VVS2      -0.271629969  0.041215040  0.167526428 -0.095913143  0.0053528651\n",
       "VVS1      -0.115080592 -0.135038047  0.294454940 -0.163152857  0.0074355389\n",
       "IF        -0.284980218 -0.202831285  0.313037479 -0.245277598 -0.0071547212\n",
       "                  PC21          PC22         PC23          PC24          PC25\n",
       "carat     -0.189649734 -0.0433562883  0.691114765 -5.334063e-01  9.037907e-16\n",
       "depth      0.017610264  0.0887384741  0.027201591  4.958002e-02  6.186551e-17\n",
       "table      0.005660323  0.0057606331 -0.010900682  2.936553e-03 -3.863664e-17\n",
       "price     -0.745645063  0.0338893886 -0.371366805  1.574604e-01 -3.794364e-16\n",
       "x          0.236050822 -0.0735839349  0.371839026  7.742698e-01 -7.395438e-16\n",
       "y          0.389535129  0.7391500380 -0.267153637 -1.781025e-01  2.999098e-16\n",
       "z          0.382506496 -0.6611703955 -0.402557766 -2.350265e-01  1.519274e-16\n",
       "Fair      -0.030716322  0.0043187979 -0.013049148  1.432521e-03 -4.399679e-02\n",
       "Good      -0.014247068 -0.0037847569 -0.002064354  1.482593e-03 -7.434387e-02\n",
       "Very Good -0.003730152 -0.0033531042  0.005075185  4.383894e-03 -1.077932e-01\n",
       "Premium    0.013912130  0.0042674271 -0.004876553 -4.044469e-03 -1.127893e-01\n",
       "Ideal      0.009819674 -0.0002251936  0.005768753 -1.497407e-03 -1.266383e-01\n",
       "D          0.045341951 -0.0018451723  0.022608272 -8.864500e-03  1.537408e-01\n",
       "E          0.032458751 -0.0009366129  0.019045850 -6.590573e-03  1.788554e-01\n",
       "F          0.015313825 -0.0011537859  0.015664170 -8.680811e-03  1.770215e-01\n",
       "G          0.001055296 -0.0007404779  0.006103874 -5.005225e-03  1.887380e-01\n",
       "H         -0.021405482  0.0001713444 -0.014497440  6.109476e-03  1.674257e-01\n",
       "I         -0.038471833  0.0023797342 -0.029049443  1.378437e-02  1.394941e-01\n",
       "J         -0.065362710  0.0042166902 -0.041994285  2.015660e-02  1.030551e-01\n",
       "I1        -0.088486720  0.0044955236 -0.050010346  1.981654e-02  1.126968e-01\n",
       "SI2       -0.114221833  0.0044362519 -0.050820389  1.736810e-02  3.640659e-01\n",
       "SI1       -0.054143136  0.0014568931 -0.012726394  1.995847e-05  4.147957e-01\n",
       "VS2        0.017866595 -0.0006456955  0.010718630 -5.547233e-03  4.057278e-01\n",
       "VS1        0.039046691 -0.0013499249  0.022380017 -8.117679e-03  3.471155e-01\n",
       "VVS2       0.074509293 -0.0030817580  0.026440807 -6.808398e-03  2.824374e-01\n",
       "VVS1       0.080874655 -0.0027313231  0.023853286 -3.417942e-03  2.433400e-01\n",
       "IF         0.072008415 -0.0026549777  0.023221964 -4.276067e-03  1.734221e-01\n",
       "                   PC26          PC27\n",
       "carat      0.000000e+00  0.000000e+00\n",
       "depth     -1.225482e-16  3.518658e-18\n",
       "table     -2.005885e-16 -1.753962e-16\n",
       "price     -5.101183e-17  4.494124e-17\n",
       "x         -2.468464e-16  1.427720e-17\n",
       "y         -1.512398e-16  2.620417e-16\n",
       "z          4.602755e-16 -2.911877e-16\n",
       "Fair       1.852520e-01  6.486631e-02\n",
       "Good       3.130307e-01  1.096083e-01\n",
       "Very Good  4.538718e-01  1.589240e-01\n",
       "Premium    4.749083e-01  1.662900e-01\n",
       "Ideal      5.332207e-01  1.867082e-01\n",
       "D          1.401129e-01 -2.958714e-01\n",
       "E          1.630013e-01 -3.442040e-01\n",
       "F          1.613299e-01 -3.406747e-01\n",
       "G          1.720079e-01 -3.632229e-01\n",
       "H          1.525847e-01 -3.222077e-01\n",
       "I          1.271290e-01 -2.684538e-01\n",
       "J          9.392009e-02 -1.983277e-01\n",
       "I1         5.369979e-03  6.110256e-02\n",
       "SI2        1.734767e-02  1.973913e-01\n",
       "SI1        1.976493e-02  2.248962e-01\n",
       "VS2        1.933285e-02  2.199797e-01\n",
       "VS1        1.653998e-02  1.882010e-01\n",
       "VVS2       1.345808e-02  1.531335e-01\n",
       "VVS1       1.159510e-02  1.319354e-01\n",
       "IF         8.263526e-03  9.402693e-02"
      ]
     },
     "metadata": {},
     "output_type": "display_data"
    }
   ],
   "source": [
    "pr <- prcomp(codedData,center = TRUE, scale. = TRUE)\n",
    "pr"
   ]
  },
  {
   "cell_type": "code",
   "execution_count": 10,
   "metadata": {},
   "outputs": [],
   "source": [
    "help(prcomp)"
   ]
  },
  {
   "cell_type": "markdown",
   "metadata": {},
   "source": [
    "**Scores:** The positions of each observation in this new coordinate system of principal components are called scores and are calculated as linear combinations of the original variables and the weights aij. For example, the score for the rth sample on the kth principal component is calculated as\n",
    "\n",
    "$$Y_{kr} = a_{k1}x_{k1} + a_{k2}x_{k2} + ... + a_{kp}x_{kp}$$\n",
    "\n",
    "**Reference:** [PCA tutorial, page 3](https://web.dsa.missouri.edu/static/PDF/DMIR/pcaTutorial.pdf)\n",
    "\n",
    "To obtain the scores, we want to sum all of the principal component values for each row in `pr$x`."
   ]
  },
  {
   "cell_type": "code",
   "execution_count": 11,
   "metadata": {},
   "outputs": [
    {
     "data": {
      "text/html": [
       "<table>\n",
       "<thead><tr><th scope=col>PC1</th><th scope=col>PC2</th><th scope=col>PC3</th><th scope=col>PC4</th><th scope=col>PC5</th><th scope=col>PC6</th><th scope=col>PC7</th><th scope=col>PC8</th><th scope=col>PC9</th><th scope=col>PC10</th><th scope=col>⋯</th><th scope=col>PC18</th><th scope=col>PC19</th><th scope=col>PC20</th><th scope=col>PC21</th><th scope=col>PC22</th><th scope=col>PC23</th><th scope=col>PC24</th><th scope=col>PC25</th><th scope=col>PC26</th><th scope=col>PC27</th></tr></thead>\n",
       "<tbody>\n",
       "\t<tr><td>-3.055314    </td><td> 0.6658626   </td><td> 0.03606446  </td><td>-0.6585791   </td><td> 0.6913132   </td><td> 0.563441360 </td><td> 1.3793756   </td><td>-2.6111798   </td><td>-0.6420921   </td><td> 0.9164224   </td><td>⋯            </td><td>-0.99885904  </td><td> 0.5337073   </td><td> 0.119843029 </td><td>-0.8811827   </td><td> 0.02847745  </td><td>-0.10881098  </td><td>-0.073865494 </td><td>-6.661338e-16</td><td>-5.551115e-17</td><td> 2.775558e-16</td></tr>\n",
       "\t<tr><td>-2.742899    </td><td>-3.2913183   </td><td>-0.58511624  </td><td>-1.2514681   </td><td>-0.0330386   </td><td>-1.187132709 </td><td>-0.5356801   </td><td>-1.0456004   </td><td>-1.1638178   </td><td> 0.3579751   </td><td>⋯            </td><td>-0.01104853  </td><td> 0.4205341   </td><td>-0.231771501 </td><td>-0.8150723   </td><td>-0.03191937  </td><td>-0.03572015  </td><td>-0.134280590 </td><td>-3.330669e-16</td><td>-4.996004e-16</td><td>-1.110223e-16</td></tr>\n",
       "\t<tr><td>-2.633017    </td><td>-3.7936121   </td><td>-0.92683469  </td><td> 0.4005198   </td><td>-0.3188378   </td><td> 0.003606715 </td><td>-0.5773111   </td><td>-1.1106015   </td><td>-1.7269467   </td><td> 2.9020934   </td><td>⋯            </td><td> 1.11864006  </td><td> 2.3380390   </td><td> 0.013257768 </td><td>-0.5828156   </td><td>-0.09481567  </td><td> 0.01413535  </td><td>-0.185544215 </td><td>-3.330669e-16</td><td>-7.771561e-16</td><td>-4.440892e-16</td></tr>\n",
       "\t<tr><td>-2.075818    </td><td>-1.4273829   </td><td>-0.66459667  </td><td>-0.2233172   </td><td> 1.6982067   </td><td> 0.296045757 </td><td>-1.4136615   </td><td> 0.8247864   </td><td>-0.4919688   </td><td> 0.1055598   </td><td>⋯            </td><td>-0.69010758  </td><td>-0.4585055   </td><td>-0.088527666 </td><td>-0.4956430   </td><td> 0.05179764  </td><td>-0.11755341  </td><td>-0.041717260 </td><td>-4.440892e-16</td><td>-3.330669e-16</td><td> 4.440892e-16</td></tr>\n",
       "\t<tr><td>-1.440734    </td><td>-1.0230854   </td><td> 1.97867898  </td><td> 0.6283795   </td><td> 1.0800474   </td><td> 0.055634663 </td><td> 0.2260824   </td><td>-0.6693374   </td><td> 0.6312345   </td><td> 2.1459748   </td><td>⋯            </td><td>-1.33514232  </td><td> 0.3443279   </td><td> 0.093738400 </td><td>-0.9514586   </td><td> 0.06323346  </td><td>-0.37067177  </td><td> 0.123664166 </td><td>-4.163336e-16</td><td> 4.440892e-16</td><td> 2.220446e-16</td></tr>\n",
       "\t<tr><td>-2.708596    </td><td>-0.5857635   </td><td> 1.19289040  </td><td> 0.6723800   </td><td>-1.4922055   </td><td> 1.745142264 </td><td>-0.4100758   </td><td> 0.2869135   </td><td> 0.4928843   </td><td>-0.1777692   </td><td>⋯            </td><td>-0.36525437  </td><td>-0.4062263   </td><td>-0.007834474 </td><td>-0.6960771   </td><td> 0.04566158  </td><td>-0.11964993  </td><td>-0.005665297 </td><td>-5.551115e-16</td><td> 3.330669e-16</td><td> 0.000000e+00</td></tr>\n",
       "</tbody>\n",
       "</table>\n"
      ],
      "text/latex": [
       "\\begin{tabular}{lllllllllllllllllllllllllll}\n",
       " PC1 & PC2 & PC3 & PC4 & PC5 & PC6 & PC7 & PC8 & PC9 & PC10 & ⋯ & PC18 & PC19 & PC20 & PC21 & PC22 & PC23 & PC24 & PC25 & PC26 & PC27\\\\\n",
       "\\hline\n",
       "\t -3.055314     &  0.6658626    &  0.03606446   & -0.6585791    &  0.6913132    &  0.563441360  &  1.3793756    & -2.6111798    & -0.6420921    &  0.9164224    & ⋯             & -0.99885904   &  0.5337073    &  0.119843029  & -0.8811827    &  0.02847745   & -0.10881098   & -0.073865494  & -6.661338e-16 & -5.551115e-17 &  2.775558e-16\\\\\n",
       "\t -2.742899     & -3.2913183    & -0.58511624   & -1.2514681    & -0.0330386    & -1.187132709  & -0.5356801    & -1.0456004    & -1.1638178    &  0.3579751    & ⋯             & -0.01104853   &  0.4205341    & -0.231771501  & -0.8150723    & -0.03191937   & -0.03572015   & -0.134280590  & -3.330669e-16 & -4.996004e-16 & -1.110223e-16\\\\\n",
       "\t -2.633017     & -3.7936121    & -0.92683469   &  0.4005198    & -0.3188378    &  0.003606715  & -0.5773111    & -1.1106015    & -1.7269467    &  2.9020934    & ⋯             &  1.11864006   &  2.3380390    &  0.013257768  & -0.5828156    & -0.09481567   &  0.01413535   & -0.185544215  & -3.330669e-16 & -7.771561e-16 & -4.440892e-16\\\\\n",
       "\t -2.075818     & -1.4273829    & -0.66459667   & -0.2233172    &  1.6982067    &  0.296045757  & -1.4136615    &  0.8247864    & -0.4919688    &  0.1055598    & ⋯             & -0.69010758   & -0.4585055    & -0.088527666  & -0.4956430    &  0.05179764   & -0.11755341   & -0.041717260  & -4.440892e-16 & -3.330669e-16 &  4.440892e-16\\\\\n",
       "\t -1.440734     & -1.0230854    &  1.97867898   &  0.6283795    &  1.0800474    &  0.055634663  &  0.2260824    & -0.6693374    &  0.6312345    &  2.1459748    & ⋯             & -1.33514232   &  0.3443279    &  0.093738400  & -0.9514586    &  0.06323346   & -0.37067177   &  0.123664166  & -4.163336e-16 &  4.440892e-16 &  2.220446e-16\\\\\n",
       "\t -2.708596     & -0.5857635    &  1.19289040   &  0.6723800    & -1.4922055    &  1.745142264  & -0.4100758    &  0.2869135    &  0.4928843    & -0.1777692    & ⋯             & -0.36525437   & -0.4062263    & -0.007834474  & -0.6960771    &  0.04566158   & -0.11964993   & -0.005665297  & -5.551115e-16 &  3.330669e-16 &  0.000000e+00\\\\\n",
       "\\end{tabular}\n"
      ],
      "text/markdown": [
       "\n",
       "| PC1 | PC2 | PC3 | PC4 | PC5 | PC6 | PC7 | PC8 | PC9 | PC10 | ⋯ | PC18 | PC19 | PC20 | PC21 | PC22 | PC23 | PC24 | PC25 | PC26 | PC27 |\n",
       "|---|---|---|---|---|---|---|---|---|---|---|---|---|---|---|---|---|---|---|---|---|\n",
       "| -3.055314     |  0.6658626    |  0.03606446   | -0.6585791    |  0.6913132    |  0.563441360  |  1.3793756    | -2.6111798    | -0.6420921    |  0.9164224    | ⋯             | -0.99885904   |  0.5337073    |  0.119843029  | -0.8811827    |  0.02847745   | -0.10881098   | -0.073865494  | -6.661338e-16 | -5.551115e-17 |  2.775558e-16 |\n",
       "| -2.742899     | -3.2913183    | -0.58511624   | -1.2514681    | -0.0330386    | -1.187132709  | -0.5356801    | -1.0456004    | -1.1638178    |  0.3579751    | ⋯             | -0.01104853   |  0.4205341    | -0.231771501  | -0.8150723    | -0.03191937   | -0.03572015   | -0.134280590  | -3.330669e-16 | -4.996004e-16 | -1.110223e-16 |\n",
       "| -2.633017     | -3.7936121    | -0.92683469   |  0.4005198    | -0.3188378    |  0.003606715  | -0.5773111    | -1.1106015    | -1.7269467    |  2.9020934    | ⋯             |  1.11864006   |  2.3380390    |  0.013257768  | -0.5828156    | -0.09481567   |  0.01413535   | -0.185544215  | -3.330669e-16 | -7.771561e-16 | -4.440892e-16 |\n",
       "| -2.075818     | -1.4273829    | -0.66459667   | -0.2233172    |  1.6982067    |  0.296045757  | -1.4136615    |  0.8247864    | -0.4919688    |  0.1055598    | ⋯             | -0.69010758   | -0.4585055    | -0.088527666  | -0.4956430    |  0.05179764   | -0.11755341   | -0.041717260  | -4.440892e-16 | -3.330669e-16 |  4.440892e-16 |\n",
       "| -1.440734     | -1.0230854    |  1.97867898   |  0.6283795    |  1.0800474    |  0.055634663  |  0.2260824    | -0.6693374    |  0.6312345    |  2.1459748    | ⋯             | -1.33514232   |  0.3443279    |  0.093738400  | -0.9514586    |  0.06323346   | -0.37067177   |  0.123664166  | -4.163336e-16 |  4.440892e-16 |  2.220446e-16 |\n",
       "| -2.708596     | -0.5857635    |  1.19289040   |  0.6723800    | -1.4922055    |  1.745142264  | -0.4100758    |  0.2869135    |  0.4928843    | -0.1777692    | ⋯             | -0.36525437   | -0.4062263    | -0.007834474  | -0.6960771    |  0.04566158   | -0.11964993   | -0.005665297  | -5.551115e-16 |  3.330669e-16 |  0.000000e+00 |\n",
       "\n"
      ],
      "text/plain": [
       "     PC1       PC2        PC3         PC4        PC5        PC6         \n",
       "[1,] -3.055314  0.6658626  0.03606446 -0.6585791  0.6913132  0.563441360\n",
       "[2,] -2.742899 -3.2913183 -0.58511624 -1.2514681 -0.0330386 -1.187132709\n",
       "[3,] -2.633017 -3.7936121 -0.92683469  0.4005198 -0.3188378  0.003606715\n",
       "[4,] -2.075818 -1.4273829 -0.66459667 -0.2233172  1.6982067  0.296045757\n",
       "[5,] -1.440734 -1.0230854  1.97867898  0.6283795  1.0800474  0.055634663\n",
       "[6,] -2.708596 -0.5857635  1.19289040  0.6723800 -1.4922055  1.745142264\n",
       "     PC7        PC8        PC9        PC10       ⋯ PC18        PC19      \n",
       "[1,]  1.3793756 -2.6111798 -0.6420921  0.9164224 ⋯ -0.99885904  0.5337073\n",
       "[2,] -0.5356801 -1.0456004 -1.1638178  0.3579751 ⋯ -0.01104853  0.4205341\n",
       "[3,] -0.5773111 -1.1106015 -1.7269467  2.9020934 ⋯  1.11864006  2.3380390\n",
       "[4,] -1.4136615  0.8247864 -0.4919688  0.1055598 ⋯ -0.69010758 -0.4585055\n",
       "[5,]  0.2260824 -0.6693374  0.6312345  2.1459748 ⋯ -1.33514232  0.3443279\n",
       "[6,] -0.4100758  0.2869135  0.4928843 -0.1777692 ⋯ -0.36525437 -0.4062263\n",
       "     PC20         PC21       PC22        PC23        PC24         PC25         \n",
       "[1,]  0.119843029 -0.8811827  0.02847745 -0.10881098 -0.073865494 -6.661338e-16\n",
       "[2,] -0.231771501 -0.8150723 -0.03191937 -0.03572015 -0.134280590 -3.330669e-16\n",
       "[3,]  0.013257768 -0.5828156 -0.09481567  0.01413535 -0.185544215 -3.330669e-16\n",
       "[4,] -0.088527666 -0.4956430  0.05179764 -0.11755341 -0.041717260 -4.440892e-16\n",
       "[5,]  0.093738400 -0.9514586  0.06323346 -0.37067177  0.123664166 -4.163336e-16\n",
       "[6,] -0.007834474 -0.6960771  0.04566158 -0.11964993 -0.005665297 -5.551115e-16\n",
       "     PC26          PC27         \n",
       "[1,] -5.551115e-17  2.775558e-16\n",
       "[2,] -4.996004e-16 -1.110223e-16\n",
       "[3,] -7.771561e-16 -4.440892e-16\n",
       "[4,] -3.330669e-16  4.440892e-16\n",
       "[5,]  4.440892e-16  2.220446e-16\n",
       "[6,]  3.330669e-16  0.000000e+00"
      ]
     },
     "metadata": {},
     "output_type": "display_data"
    }
   ],
   "source": [
    "head(pr$x)"
   ]
  },
  {
   "cell_type": "code",
   "execution_count": 12,
   "metadata": {},
   "outputs": [
    {
     "data": {
      "text/html": [
       "<ol class=list-inline>\n",
       "\t<li>-3.33787017503317</li>\n",
       "\t<li>-13.5802702099411</li>\n",
       "\t<li>-5.86602026284443</li>\n",
       "\t<li>-9.26945022925406</li>\n",
       "\t<li>5.23275336698898</li>\n",
       "\t<li>-4.08669610168842</li>\n",
       "\t<li>-7.66584910450176</li>\n",
       "\t<li>-7.00731706080319</li>\n",
       "\t<li>5.66770778342297</li>\n",
       "\t<li>-6.37290816780491</li>\n",
       "</ol>\n"
      ],
      "text/latex": [
       "\\begin{enumerate*}\n",
       "\\item -3.33787017503317\n",
       "\\item -13.5802702099411\n",
       "\\item -5.86602026284443\n",
       "\\item -9.26945022925406\n",
       "\\item 5.23275336698898\n",
       "\\item -4.08669610168842\n",
       "\\item -7.66584910450176\n",
       "\\item -7.00731706080319\n",
       "\\item 5.66770778342297\n",
       "\\item -6.37290816780491\n",
       "\\end{enumerate*}\n"
      ],
      "text/markdown": [
       "1. -3.33787017503317\n",
       "2. -13.5802702099411\n",
       "3. -5.86602026284443\n",
       "4. -9.26945022925406\n",
       "5. 5.23275336698898\n",
       "6. -4.08669610168842\n",
       "7. -7.66584910450176\n",
       "8. -7.00731706080319\n",
       "9. 5.66770778342297\n",
       "10. -6.37290816780491\n",
       "\n",
       "\n"
      ],
      "text/plain": [
       " [1]  -3.337870 -13.580270  -5.866020  -9.269450   5.232753  -4.086696\n",
       " [7]  -7.665849  -7.007317   5.667708  -6.372908"
      ]
     },
     "metadata": {},
     "output_type": "display_data"
    },
    {
     "data": {
      "text/html": [
       "53940"
      ],
      "text/latex": [
       "53940"
      ],
      "text/markdown": [
       "53940"
      ],
      "text/plain": [
       "[1] 53940"
      ]
     },
     "metadata": {},
     "output_type": "display_data"
    }
   ],
   "source": [
    "components <- pr$x\n",
    "scores <- rowSums(components)\n",
    "scores[1:10]\n",
    "length(scores)"
   ]
  },
  {
   "cell_type": "markdown",
   "metadata": {},
   "source": [
    "Here we will use a graphical approach to finding outliers from the PCA model by plotting the histogram and boxplot for the scores calculated."
   ]
  },
  {
   "cell_type": "code",
   "execution_count": 13,
   "metadata": {
    "scrolled": false
   },
   "outputs": [
    {
     "data": {
      "image/png": "[encoded data removed]",
      "text/plain": [
       "Plot with title “Histogram of scores”"
      ]
     },
     "metadata": {},
     "output_type": "display_data"
    }
   ],
   "source": [
    "options(scipen=999)\n",
    "par(mfrow=c(2,1));\n",
    "\n",
    "#Create histogram of scores\n",
    "hist(scores,breaks = 100)\n",
    "\n",
    "#Drawing Boxplot\n",
    "boxplot(scores,horizontal = FALSE)"
   ]
  },
  {
   "cell_type": "markdown",
   "metadata": {},
   "source": [
    "Most of the rows have scores in the range of -20 to 20, and the boxplot shows two outliers. \n",
    "\n",
    "Check rows with scores > 25."
   ]
  },
  {
   "cell_type": "code",
   "execution_count": 14,
   "metadata": {},
   "outputs": [
    {
     "data": {
      "text/html": [
       "4"
      ],
      "text/latex": [
       "4"
      ],
      "text/markdown": [
       "4"
      ],
      "text/plain": [
       "[1] 4"
      ]
     },
     "metadata": {},
     "output_type": "display_data"
    },
    {
     "data": {
      "text/html": [
       "<table>\n",
       "<thead><tr><th scope=col>carat</th><th scope=col>cut</th><th scope=col>color</th><th scope=col>clarity</th><th scope=col>depth</th><th scope=col>table</th><th scope=col>price</th><th scope=col>x</th><th scope=col>y</th><th scope=col>z</th></tr></thead>\n",
       "<tbody>\n",
       "\t<tr><td>2.00   </td><td>Premium</td><td>H      </td><td>SI2    </td><td>58.9   </td><td>57     </td><td>12210  </td><td>8.09   </td><td>58.90  </td><td>8.06   </td></tr>\n",
       "\t<tr><td>2.58   </td><td>Fair   </td><td>F      </td><td>SI2    </td><td>65.2   </td><td>59     </td><td>12500  </td><td>8.58   </td><td> 8.51  </td><td>5.57   </td></tr>\n",
       "\t<tr><td>2.00   </td><td>Fair   </td><td>F      </td><td>SI2    </td><td>70.2   </td><td>57     </td><td>15351  </td><td>7.63   </td><td> 7.59  </td><td>5.34   </td></tr>\n",
       "\t<tr><td>0.51   </td><td>Ideal  </td><td>E      </td><td>VS1    </td><td>61.8   </td><td>55     </td><td> 2075  </td><td>5.15   </td><td>31.80  </td><td>5.12   </td></tr>\n",
       "</tbody>\n",
       "</table>\n"
      ],
      "text/latex": [
       "\\begin{tabular}{r|llllllllll}\n",
       " carat & cut & color & clarity & depth & table & price & x & y & z\\\\\n",
       "\\hline\n",
       "\t 2.00    & Premium & H       & SI2     & 58.9    & 57      & 12210   & 8.09    & 58.90   & 8.06   \\\\\n",
       "\t 2.58    & Fair    & F       & SI2     & 65.2    & 59      & 12500   & 8.58    &  8.51   & 5.57   \\\\\n",
       "\t 2.00    & Fair    & F       & SI2     & 70.2    & 57      & 15351   & 7.63    &  7.59   & 5.34   \\\\\n",
       "\t 0.51    & Ideal   & E       & VS1     & 61.8    & 55      &  2075   & 5.15    & 31.80   & 5.12   \\\\\n",
       "\\end{tabular}\n"
      ],
      "text/markdown": [
       "\n",
       "| carat | cut | color | clarity | depth | table | price | x | y | z |\n",
       "|---|---|---|---|---|---|---|---|---|---|\n",
       "| 2.00    | Premium | H       | SI2     | 58.9    | 57      | 12210   | 8.09    | 58.90   | 8.06    |\n",
       "| 2.58    | Fair    | F       | SI2     | 65.2    | 59      | 12500   | 8.58    |  8.51   | 5.57    |\n",
       "| 2.00    | Fair    | F       | SI2     | 70.2    | 57      | 15351   | 7.63    |  7.59   | 5.34    |\n",
       "| 0.51    | Ideal   | E       | VS1     | 61.8    | 55      |  2075   | 5.15    | 31.80   | 5.12    |\n",
       "\n"
      ],
      "text/plain": [
       "  carat cut     color clarity depth table price x    y     z   \n",
       "1 2.00  Premium H     SI2     58.9  57    12210 8.09 58.90 8.06\n",
       "2 2.58  Fair    F     SI2     65.2  59    12500 8.58  8.51 5.57\n",
       "3 2.00  Fair    F     SI2     70.2  57    15351 7.63  7.59 5.34\n",
       "4 0.51  Ideal   E     VS1     61.8  55     2075 5.15 31.80 5.12"
      ]
     },
     "metadata": {},
     "output_type": "display_data"
    }
   ],
   "source": [
    "length(which(scores>25))\n",
    "diamonds[which(scores>25),]"
   ]
  },
  {
   "cell_type": "markdown",
   "metadata": {},
   "source": [
    "Look at the row where the y value  is 31.8. It clearly suggests y value is incorrect. Perhaps some of the digits from the depth value have been incorrectly used for y. \n"
   ]
  },
  {
   "cell_type": "markdown",
   "metadata": {},
   "source": [
    "### Outlier Detection Using Local Outlier Factor (LOF)\n",
    "\n",
    "Local outlier factor (LOF) is a proximity-based outlier detection model  in Aggarwal's classification scheme.  \n",
    "\n",
    "The basic procedure is to:\n",
    "\n",
    "- For each point, compute the density of its local neighborhood.\n",
    "- Compute local outlier factor (LOF) of a sample p as the average of the ratios of the density of sample p and the density of its nearest neighbors.\n",
    "- Outliers are points with largest LOF value.\n",
    "\n",
    "The below wiki page goes into more detail on how this method works. \n",
    "\n",
    "**Reference:** \n",
    "- [Wiki](https://en.wikipedia.org/wiki/Local_outlier_factor)"
   ]
  },
  {
   "cell_type": "markdown",
   "metadata": {},
   "source": [
    "#### The LOF algorithm in R\n",
    "\n",
    "We will demonstrate using the LOF algorithm using the prostate data set and the lofactor method in the Data Mining with R (DMwR) package."
   ]
  },
  {
   "cell_type": "code",
   "execution_count": 15,
   "metadata": {},
   "outputs": [
    {
     "name": "stderr",
     "output_type": "stream",
     "text": [
      "Loading required package: lattice\n",
      "Loading required package: grid\n"
     ]
    },
    {
     "name": "stdout",
     "output_type": "stream",
     "text": [
      "[1] \"Done\"\n"
     ]
    }
   ],
   "source": [
    "# if(!require(package = 'DMwR')){\n",
    "#     install.packages('DMwR')\n",
    "# }\n",
    "library(DMwR)\n",
    "print('Done')"
   ]
  },
  {
   "cell_type": "code",
   "execution_count": 16,
   "metadata": {},
   "outputs": [],
   "source": [
    "#read about the lofactor method\n",
    "help(lofactor)"
   ]
  },
  {
   "cell_type": "code",
   "execution_count": 17,
   "metadata": {},
   "outputs": [
    {
     "data": {
      "text/html": [
       "<table>\n",
       "<thead><tr><th scope=col>ID</th><th scope=col>CAPSULE</th><th scope=col>AGE</th><th scope=col>RACE</th><th scope=col>DPROS</th><th scope=col>DCAPS</th><th scope=col>PSA</th><th scope=col>VOL</th><th scope=col>GLEASON</th></tr></thead>\n",
       "<tbody>\n",
       "\t<tr><td>1   </td><td>0   </td><td>65  </td><td>1   </td><td>2   </td><td>1   </td><td> 1.4</td><td> 0.0</td><td>6   </td></tr>\n",
       "\t<tr><td>2   </td><td>0   </td><td>72  </td><td>1   </td><td>3   </td><td>2   </td><td> 6.7</td><td> 0.0</td><td>7   </td></tr>\n",
       "\t<tr><td>3   </td><td>0   </td><td>70  </td><td>1   </td><td>1   </td><td>2   </td><td> 4.9</td><td> 0.0</td><td>6   </td></tr>\n",
       "\t<tr><td>4   </td><td>0   </td><td>76  </td><td>2   </td><td>2   </td><td>1   </td><td>51.2</td><td>20.0</td><td>7   </td></tr>\n",
       "\t<tr><td>5   </td><td>0   </td><td>69  </td><td>1   </td><td>1   </td><td>1   </td><td>12.3</td><td>55.9</td><td>6   </td></tr>\n",
       "\t<tr><td>6   </td><td>1   </td><td>71  </td><td>1   </td><td>3   </td><td>2   </td><td> 3.3</td><td> 0.0</td><td>8   </td></tr>\n",
       "</tbody>\n",
       "</table>\n"
      ],
      "text/latex": [
       "\\begin{tabular}{r|lllllllll}\n",
       " ID & CAPSULE & AGE & RACE & DPROS & DCAPS & PSA & VOL & GLEASON\\\\\n",
       "\\hline\n",
       "\t 1    & 0    & 65   & 1    & 2    & 1    &  1.4 &  0.0 & 6   \\\\\n",
       "\t 2    & 0    & 72   & 1    & 3    & 2    &  6.7 &  0.0 & 7   \\\\\n",
       "\t 3    & 0    & 70   & 1    & 1    & 2    &  4.9 &  0.0 & 6   \\\\\n",
       "\t 4    & 0    & 76   & 2    & 2    & 1    & 51.2 & 20.0 & 7   \\\\\n",
       "\t 5    & 0    & 69   & 1    & 1    & 1    & 12.3 & 55.9 & 6   \\\\\n",
       "\t 6    & 1    & 71   & 1    & 3    & 2    &  3.3 &  0.0 & 8   \\\\\n",
       "\\end{tabular}\n"
      ],
      "text/markdown": [
       "\n",
       "| ID | CAPSULE | AGE | RACE | DPROS | DCAPS | PSA | VOL | GLEASON |\n",
       "|---|---|---|---|---|---|---|---|---|\n",
       "| 1    | 0    | 65   | 1    | 2    | 1    |  1.4 |  0.0 | 6    |\n",
       "| 2    | 0    | 72   | 1    | 3    | 2    |  6.7 |  0.0 | 7    |\n",
       "| 3    | 0    | 70   | 1    | 1    | 2    |  4.9 |  0.0 | 6    |\n",
       "| 4    | 0    | 76   | 2    | 2    | 1    | 51.2 | 20.0 | 7    |\n",
       "| 5    | 0    | 69   | 1    | 1    | 1    | 12.3 | 55.9 | 6    |\n",
       "| 6    | 1    | 71   | 1    | 3    | 2    |  3.3 |  0.0 | 8    |\n",
       "\n"
      ],
      "text/plain": [
       "  ID CAPSULE AGE RACE DPROS DCAPS PSA  VOL  GLEASON\n",
       "1 1  0       65  1    2     1      1.4  0.0 6      \n",
       "2 2  0       72  1    3     2      6.7  0.0 7      \n",
       "3 3  0       70  1    1     2      4.9  0.0 6      \n",
       "4 4  0       76  2    2     1     51.2 20.0 7      \n",
       "5 5  0       69  1    1     1     12.3 55.9 6      \n",
       "6 6  1       71  1    3     2      3.3  0.0 8      "
      ]
     },
     "metadata": {},
     "output_type": "display_data"
    }
   ],
   "source": [
    "# # point to the prostate data set in the h2o folder - no need to load h2o in memory yet\n",
    "\n",
    "prostate_df <- read.table(\"/dsa/data/all_datasets/prostate.txt\",sep=',',header=TRUE)\n",
    "head(prostate_df)"
   ]
  },
  {
   "cell_type": "code",
   "execution_count": 18,
   "metadata": {},
   "outputs": [
    {
     "data": {
      "text/html": [
       "<ol class=list-inline>\n",
       "\t<li>380</li>\n",
       "\t<li>9</li>\n",
       "</ol>\n"
      ],
      "text/latex": [
       "\\begin{enumerate*}\n",
       "\\item 380\n",
       "\\item 9\n",
       "\\end{enumerate*}\n"
      ],
      "text/markdown": [
       "1. 380\n",
       "2. 9\n",
       "\n",
       "\n"
      ],
      "text/plain": [
       "[1] 380   9"
      ]
     },
     "metadata": {},
     "output_type": "display_data"
    }
   ],
   "source": [
    "dim(prostate_df)"
   ]
  },
  {
   "cell_type": "code",
   "execution_count": 19,
   "metadata": {},
   "outputs": [
    {
     "data": {
      "text/plain": [
       "       ID            CAPSULE            AGE             RACE      \n",
       " Min.   :  1.00   Min.   :0.0000   Min.   :43.00   Min.   :0.000  \n",
       " 1st Qu.: 95.75   1st Qu.:0.0000   1st Qu.:62.00   1st Qu.:1.000  \n",
       " Median :190.50   Median :0.0000   Median :67.00   Median :1.000  \n",
       " Mean   :190.50   Mean   :0.4026   Mean   :66.04   Mean   :1.087  \n",
       " 3rd Qu.:285.25   3rd Qu.:1.0000   3rd Qu.:71.00   3rd Qu.:1.000  \n",
       " Max.   :380.00   Max.   :1.0000   Max.   :79.00   Max.   :2.000  \n",
       "     DPROS           DCAPS            PSA              VOL       \n",
       " Min.   :1.000   Min.   :1.000   Min.   :  0.30   Min.   : 0.00  \n",
       " 1st Qu.:1.000   1st Qu.:1.000   1st Qu.:  5.00   1st Qu.: 0.00  \n",
       " Median :2.000   Median :1.000   Median :  8.75   Median :14.25  \n",
       " Mean   :2.271   Mean   :1.108   Mean   : 15.41   Mean   :15.81  \n",
       " 3rd Qu.:3.000   3rd Qu.:1.000   3rd Qu.: 17.12   3rd Qu.:26.45  \n",
       " Max.   :4.000   Max.   :2.000   Max.   :139.70   Max.   :97.60  \n",
       "    GLEASON     \n",
       " Min.   :0.000  \n",
       " 1st Qu.:6.000  \n",
       " Median :6.000  \n",
       " Mean   :6.384  \n",
       " 3rd Qu.:7.000  \n",
       " Max.   :9.000  "
      ]
     },
     "metadata": {},
     "output_type": "display_data"
    }
   ],
   "source": [
    "summary(prostate_df)"
   ]
  },
  {
   "cell_type": "markdown",
   "metadata": {},
   "source": [
    "Remove the ID field - we don't need it."
   ]
  },
  {
   "cell_type": "code",
   "execution_count": 20,
   "metadata": {},
   "outputs": [],
   "source": [
    "# # We don't need the ID field\n",
    "prostate_df <- prostate_df[,-1]"
   ]
  },
  {
   "cell_type": "markdown",
   "metadata": {},
   "source": [
    "We will use `lofactor()` to calculate the local outlier factors. \n",
    "In addition to the dataset, we need to specify a value `k`\n",
    "which is the number of neighbours that will be used in the calculation of the local outlier factors. "
   ]
  },
  {
   "cell_type": "code",
   "execution_count": 21,
   "metadata": {},
   "outputs": [],
   "source": [
    "# k=50 indicates use 50 neighbors to determine if a data point is an outlier\n",
    "outlier.scores <- lofactor(prostate_df, k=50)"
   ]
  },
  {
   "cell_type": "code",
   "execution_count": 28,
   "metadata": {},
   "outputs": [
    {
     "data": {
      "text/html": [
       "<ol class=list-inline>\n",
       "\t<li>0.984850349992244</li>\n",
       "\t<li>1.01830615814421</li>\n",
       "\t<li>0.985314220827628</li>\n",
       "\t<li>1.5144195472658</li>\n",
       "\t<li>1.47820064153406</li>\n",
       "\t<li>1.00283434416221</li>\n",
       "</ol>\n"
      ],
      "text/latex": [
       "\\begin{enumerate*}\n",
       "\\item 0.984850349992244\n",
       "\\item 1.01830615814421\n",
       "\\item 0.985314220827628\n",
       "\\item 1.5144195472658\n",
       "\\item 1.47820064153406\n",
       "\\item 1.00283434416221\n",
       "\\end{enumerate*}\n"
      ],
      "text/markdown": [
       "1. 0.984850349992244\n",
       "2. 1.01830615814421\n",
       "3. 0.985314220827628\n",
       "4. 1.5144195472658\n",
       "5. 1.47820064153406\n",
       "6. 1.00283434416221\n",
       "\n",
       "\n"
      ],
      "text/plain": [
       "[1] 0.9848503 1.0183062 0.9853142 1.5144195 1.4782006 1.0028343"
      ]
     },
     "metadata": {},
     "output_type": "display_data"
    }
   ],
   "source": [
    "head(outlier.scores)"
   ]
  },
  {
   "cell_type": "markdown",
   "metadata": {},
   "source": [
    "Now that the outlier scores are calculated, pick the top 10 outliers with highest scores."
   ]
  },
  {
   "cell_type": "code",
   "execution_count": 22,
   "metadata": {},
   "outputs": [
    {
     "data": {
      "text/html": [
       "<table>\n",
       "<thead><tr><th></th><th scope=col>CAPSULE</th><th scope=col>AGE</th><th scope=col>RACE</th><th scope=col>DPROS</th><th scope=col>DCAPS</th><th scope=col>PSA</th><th scope=col>VOL</th><th scope=col>GLEASON</th></tr></thead>\n",
       "<tbody>\n",
       "\t<tr><th scope=row>374</th><td>1    </td><td>65   </td><td>1    </td><td>4    </td><td>1    </td><td>139.7</td><td>29.9 </td><td>9    </td></tr>\n",
       "\t<tr><th scope=row>61</th><td>0    </td><td>59   </td><td>1    </td><td>2    </td><td>1    </td><td>  0.7</td><td>96.0 </td><td>5    </td></tr>\n",
       "\t<tr><th scope=row>303</th><td>1    </td><td>67   </td><td>1    </td><td>4    </td><td>2    </td><td>135.0</td><td> 0.0 </td><td>7    </td></tr>\n",
       "\t<tr><th scope=row>355</th><td>0    </td><td>71   </td><td>2    </td><td>2    </td><td>1    </td><td> 12.3</td><td>97.6 </td><td>5    </td></tr>\n",
       "\t<tr><th scope=row>52</th><td>1    </td><td>72   </td><td>1    </td><td>4    </td><td>2    </td><td>124.0</td><td>38.6 </td><td>8    </td></tr>\n",
       "\t<tr><th scope=row>234</th><td>1    </td><td>59   </td><td>2    </td><td>4    </td><td>1    </td><td>126.0</td><td>20.3 </td><td>8    </td></tr>\n",
       "\t<tr><th scope=row>156</th><td>0    </td><td>76   </td><td>1    </td><td>2    </td><td>1    </td><td>  8.9</td><td>87.3 </td><td>5    </td></tr>\n",
       "\t<tr><th scope=row>248</th><td>1    </td><td>57   </td><td>2    </td><td>1    </td><td>1    </td><td> 63.3</td><td>73.4 </td><td>7    </td></tr>\n",
       "\t<tr><th scope=row>104</th><td>0    </td><td>75   </td><td>1    </td><td>3    </td><td>1    </td><td> 25.7</td><td>87.6 </td><td>5    </td></tr>\n",
       "\t<tr><th scope=row>25</th><td>1    </td><td>77   </td><td>1    </td><td>1    </td><td>1    </td><td> 61.1</td><td>58.0 </td><td>7    </td></tr>\n",
       "</tbody>\n",
       "</table>\n"
      ],
      "text/latex": [
       "\\begin{tabular}{r|llllllll}\n",
       "  & CAPSULE & AGE & RACE & DPROS & DCAPS & PSA & VOL & GLEASON\\\\\n",
       "\\hline\n",
       "\t374 & 1     & 65    & 1     & 4     & 1     & 139.7 & 29.9  & 9    \\\\\n",
       "\t61 & 0     & 59    & 1     & 2     & 1     &   0.7 & 96.0  & 5    \\\\\n",
       "\t303 & 1     & 67    & 1     & 4     & 2     & 135.0 &  0.0  & 7    \\\\\n",
       "\t355 & 0     & 71    & 2     & 2     & 1     &  12.3 & 97.6  & 5    \\\\\n",
       "\t52 & 1     & 72    & 1     & 4     & 2     & 124.0 & 38.6  & 8    \\\\\n",
       "\t234 & 1     & 59    & 2     & 4     & 1     & 126.0 & 20.3  & 8    \\\\\n",
       "\t156 & 0     & 76    & 1     & 2     & 1     &   8.9 & 87.3  & 5    \\\\\n",
       "\t248 & 1     & 57    & 2     & 1     & 1     &  63.3 & 73.4  & 7    \\\\\n",
       "\t104 & 0     & 75    & 1     & 3     & 1     &  25.7 & 87.6  & 5    \\\\\n",
       "\t25 & 1     & 77    & 1     & 1     & 1     &  61.1 & 58.0  & 7    \\\\\n",
       "\\end{tabular}\n"
      ],
      "text/markdown": [
       "\n",
       "| <!--/--> | CAPSULE | AGE | RACE | DPROS | DCAPS | PSA | VOL | GLEASON |\n",
       "|---|---|---|---|---|---|---|---|---|\n",
       "| 374 | 1     | 65    | 1     | 4     | 1     | 139.7 | 29.9  | 9     |\n",
       "| 61 | 0     | 59    | 1     | 2     | 1     |   0.7 | 96.0  | 5     |\n",
       "| 303 | 1     | 67    | 1     | 4     | 2     | 135.0 |  0.0  | 7     |\n",
       "| 355 | 0     | 71    | 2     | 2     | 1     |  12.3 | 97.6  | 5     |\n",
       "| 52 | 1     | 72    | 1     | 4     | 2     | 124.0 | 38.6  | 8     |\n",
       "| 234 | 1     | 59    | 2     | 4     | 1     | 126.0 | 20.3  | 8     |\n",
       "| 156 | 0     | 76    | 1     | 2     | 1     |   8.9 | 87.3  | 5     |\n",
       "| 248 | 1     | 57    | 2     | 1     | 1     |  63.3 | 73.4  | 7     |\n",
       "| 104 | 0     | 75    | 1     | 3     | 1     |  25.7 | 87.6  | 5     |\n",
       "| 25 | 1     | 77    | 1     | 1     | 1     |  61.1 | 58.0  | 7     |\n",
       "\n"
      ],
      "text/plain": [
       "    CAPSULE AGE RACE DPROS DCAPS PSA   VOL  GLEASON\n",
       "374 1       65  1    4     1     139.7 29.9 9      \n",
       "61  0       59  1    2     1       0.7 96.0 5      \n",
       "303 1       67  1    4     2     135.0  0.0 7      \n",
       "355 0       71  2    2     1      12.3 97.6 5      \n",
       "52  1       72  1    4     2     124.0 38.6 8      \n",
       "234 1       59  2    4     1     126.0 20.3 8      \n",
       "156 0       76  1    2     1       8.9 87.3 5      \n",
       "248 1       57  2    1     1      63.3 73.4 7      \n",
       "104 0       75  1    3     1      25.7 87.6 5      \n",
       "25  1       77  1    1     1      61.1 58.0 7      "
      ]
     },
     "metadata": {},
     "output_type": "display_data"
    }
   ],
   "source": [
    "outliers <- order(outlier.scores, decreasing=T)[1:10]\n",
    "\n",
    "# who are outliers\n",
    "prostate_df[outliers,]"
   ]
  },
  {
   "cell_type": "code",
   "execution_count": 29,
   "metadata": {},
   "outputs": [
    {
     "data": {
      "text/html": [
       "<ol class=list-inline>\n",
       "\t<li>374</li>\n",
       "\t<li>61</li>\n",
       "\t<li>303</li>\n",
       "\t<li>355</li>\n",
       "\t<li>52</li>\n",
       "\t<li>234</li>\n",
       "\t<li>156</li>\n",
       "\t<li>248</li>\n",
       "\t<li>104</li>\n",
       "\t<li>25</li>\n",
       "</ol>\n"
      ],
      "text/latex": [
       "\\begin{enumerate*}\n",
       "\\item 374\n",
       "\\item 61\n",
       "\\item 303\n",
       "\\item 355\n",
       "\\item 52\n",
       "\\item 234\n",
       "\\item 156\n",
       "\\item 248\n",
       "\\item 104\n",
       "\\item 25\n",
       "\\end{enumerate*}\n"
      ],
      "text/markdown": [
       "1. 374\n",
       "2. 61\n",
       "3. 303\n",
       "4. 355\n",
       "5. 52\n",
       "6. 234\n",
       "7. 156\n",
       "8. 248\n",
       "9. 104\n",
       "10. 25\n",
       "\n",
       "\n"
      ],
      "text/plain": [
       " [1] 374  61 303 355  52 234 156 248 104  25"
      ]
     },
     "metadata": {},
     "output_type": "display_data"
    }
   ],
   "source": [
    "outliers"
   ]
  },
  {
   "cell_type": "markdown",
   "metadata": {},
   "source": [
    "#### Visualize Outliers with Plots\n",
    "\n",
    "Graphical methods are one way to detect outliers.\n",
    "We can use more than one model in our graphical method by combining our LOF outliers with a biplot of the first two principal components. \n",
    "Our LOF-found outliers will be labeled by row number in the biplot of the top two principal components."
   ]
  },
  {
   "cell_type": "code",
   "execution_count": 23,
   "metadata": {},
   "outputs": [],
   "source": [
    "?biplot"
   ]
  },
  {
   "cell_type": "code",
   "execution_count": 24,
   "metadata": {},
   "outputs": [
    {
     "data": {
      "text/plain": [
       "Standard deviations (1, .., p=8):\n",
       "[1] 20.0135871 18.3529002  6.4850407  1.0985518  0.8883899  0.4105178  0.3044067\n",
       "[8]  0.2840765\n",
       "\n",
       "Rotation (n x k) = (8 x 8):\n",
       "                PC1          PC2          PC3          PC4           PC5\n",
       "CAPSULE 0.007924221 -0.003824289  0.001060646 -0.203970786  0.0278663778\n",
       "AGE     0.004870774  0.042879684 -0.999024899  0.001053685 -0.0088569918\n",
       "RACE    0.001889059  0.001151964  0.001828310  0.001842896 -0.0215464306\n",
       "DPROS   0.011465126 -0.004067902  0.005967310 -0.620156292 -0.7750823271\n",
       "DCAPS   0.004301527 -0.002199623 -0.001525966 -0.072751638 -0.0066813584\n",
       "PSA     0.996769662 -0.075929904  0.001663056  0.025341495 -0.0044910405\n",
       "VOL     0.075963101  0.996157872  0.043117095 -0.005604666  0.0003497605\n",
       "GLEASON 0.020971622 -0.005304523 -0.006708007 -0.753545739  0.6307640002\n",
       "                 PC6           PC7          PC8\n",
       "CAPSULE  0.971315468 -0.0794199641 -0.088201878\n",
       "AGE      0.001414535 -0.0014301619 -0.001804827\n",
       "RACE    -0.094612068 -0.9806850782 -0.169792375\n",
       "DPROS   -0.108926474  0.0331238755 -0.038830219\n",
       "DCAPS    0.059518056 -0.1753967176  0.979964531\n",
       "PSA     -0.002953712  0.0026191399 -0.002044251\n",
       "VOL      0.002283799  0.0008854804  0.001575752\n",
       "GLEASON -0.179364160  0.0088519827 -0.039278386"
      ]
     },
     "metadata": {},
     "output_type": "display_data"
    },
    {
     "data": {
      "image/png": "[encoded data removed]",
      "text/plain": [
       "plot without title"
      ]
     },
     "metadata": {},
     "output_type": "display_data"
    }
   ],
   "source": [
    "# create labels that are the row numbers for the observations\n",
    "n <- nrow(prostate_df)\n",
    "labels <- 1:n\n",
    "\n",
    "# replace the labels of non-outliers with dots\n",
    "labels[-outliers] <- \".\"\n",
    "\n",
    "prcomp(prostate_df)\n",
    "#plot the top two principal componenets using biplot\n",
    "# run help(biplot) for more information\n",
    "biplot(prcomp(prostate_df), cex=.8, xlabs=labels)"
   ]
  },
  {
   "cell_type": "code",
   "execution_count": 30,
   "metadata": {},
   "outputs": [],
   "source": [
    "help(biplot)"
   ]
  },
  {
   "cell_type": "markdown",
   "metadata": {
    "collapsed": true
   },
   "source": [
    "---"
   ]
  }
 ],
 "metadata": {
  "kernelspec": {
   "display_name": "R",
   "language": "R",
   "name": "ir"
  },
  "language_info": {
   "codemirror_mode": "r",
   "file_extension": ".r",
   "mimetype": "text/x-r-source",
   "name": "R",
   "pygments_lexer": "r",
   "version": "3.5.1"
  }
 },
 "nbformat": 4,
 "nbformat_minor": 2
}
